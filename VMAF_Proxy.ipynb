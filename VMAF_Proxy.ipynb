{
 "cells": [
  {
   "cell_type": "markdown",
   "metadata": {
    "id": "2WiWtpi1u96F"
   },
   "source": [
    "#### **Download and check**"
   ]
  },
  {
   "cell_type": "code",
   "execution_count": 96,
   "metadata": {
    "id": "eIdtnNyWNzfa"
   },
   "outputs": [],
   "source": [
    "import math\n",
    "import cv2\n",
    "\n",
    "import pickle\n",
    "import imageio\n",
    "import time\n",
    "import os\n",
    "import shutil\n",
    "import json\n",
    "import sys\n",
    "from shutil import copyfile\n",
    "from PIL import Image\n",
    "import numpy as np\n",
    "from tqdm import tqdm\n",
    "\n",
    "from subprocess import Popen, PIPE\n",
    "from sys import stdout, stderr\n",
    "\n",
    "import torch\n",
    "import torch.nn as nn\n",
    "import torch.optim as optim\n",
    "from torch.utils.data import Dataset\n",
    "from torch.utils.data import DataLoader\n",
    "import torchvision\n",
    "from torchvision.io import read_image\n",
    "from torchvision import transforms\n",
    "from torchsummary import summary\n",
    "from torchvision.transforms import ToTensor, ToPILImage\n",
    "\n",
    "import matplotlib.pyplot as plt\n",
    "from pathlib import Path\n",
    "from IPython.display import clear_output"
   ]
  },
  {
   "cell_type": "code",
   "execution_count": 2,
   "metadata": {},
   "outputs": [],
   "source": [
    "# a = ToTensor()(Image.open('./0001_org.png')).float() / 255.0\n",
    "# a.shape\n",
    "\n",
    "# vqmt -orig 0001_org.png IYUV 1080x1920 -in 0001.png IYUV 1080x1920 -metr vmaf -set \"model_preset=vmaf_v063\" -json -threads 3\n",
    "\n",
    "# vqmt -in \"{original_yuv}\" IYUV {width} {height} -in \"decoded_yuv\" IYUV\n",
    "# {width} {height} metrics_list -subsampling -json -json_file \"{json_filename}\" -threads\n",
    "# 3\n",
    "\n",
    "# vqmt -in  IYUV {width}x{height} -stdin raw IYUV {width}x{height}"
   ]
  },
  {
   "cell_type": "code",
   "execution_count": 3,
   "metadata": {},
   "outputs": [],
   "source": [
    "# vqmt -orig 0001_org.png IYUV 1080x1920 -in 0001.png IYUV 1080x1920 -metr vmaf -set \"model_preset=vmaf_v063\" -json -json_file json_files.json -threads 3"
   ]
  },
  {
   "cell_type": "code",
   "execution_count": 4,
   "metadata": {},
   "outputs": [],
   "source": [
    "rename_vmaf = lambda file: '_'.join(file.split('_')[2:])\n",
    "\n",
    "def rename_folder_files(path, prefix, rename_fn, extension):\n",
    "    for file in os.listdir(path):\n",
    "        if not file.startswith(prefix):\n",
    "            continue\n",
    "        new_name = rename_fn(file)\n",
    "        os.rename(f'{path}/{file}', f'{path}/{new_name}{extension}')\n",
    "\n",
    "def merge_folders_with_prefix(store_path, folders, out_folder):\n",
    "    for folder in folders:\n",
    "        if not os.path.isdir(f'{store_path}/{folder}'):\n",
    "            continue\n",
    "        for file in os.listdir(f'{store_path}/{folder}'):\n",
    "            copyfile(f'{store_path}/{folder}/{file}', f'{out_folder}/{folder}_{file}')"
   ]
  },
  {
   "cell_type": "code",
   "execution_count": 5,
   "metadata": {},
   "outputs": [],
   "source": [
    "# path = './data/existing1/2020_blue_hair'\n",
    "# rename_folder_files(path, 'enc_res', rename_vmaf, '')\n",
    "\n",
    "# rename_folder_files(path, 'vmaf', rename_vmaf, '')\n",
    "\n",
    "# merge_folders_with_prefix('./enc_images', os.listdir('./enc_images'), './encc_images')"
   ]
  },
  {
   "cell_type": "code",
   "execution_count": 176,
   "metadata": {},
   "outputs": [],
   "source": [
    "path = './data/encoder_packs'\n",
    "all_codecs = set(os.listdir(path))"
   ]
  },
  {
   "cell_type": "code",
   "execution_count": 177,
   "metadata": {},
   "outputs": [],
   "source": [
    "exclude_codes = {\n",
    "    'bytedance_hevc_mv_fast_2k_blue_hair_28',\n",
    "    'bytedance_hevc_mv_fast_2k_blue_hair_32',\n",
    "    'bytedance_hevc_mv_fast_2k_blue_hair_37',\n",
    "    'bytedance_hevc_mv_offline_2k_blue_hair_28',\n",
    "    'bytedance_hevc_mv_offline_2k_blue_hair_32',\n",
    "    'bytedance_hevc_mv_offline_2k_blue_hair_37',\n",
    "}"
   ]
  },
  {
   "cell_type": "code",
   "execution_count": 178,
   "metadata": {},
   "outputs": [],
   "source": [
    "test_codecs = {\n",
    "    'alibaba_mv_offline_2k_blue_hair_32',\n",
    "    'x265_ref_mv_fast_2k_blue_hair_28',\n",
    "    'baidu_mv_fast_2k_blue_hair_30',\n",
    "    'qav1enc_mv_offline_2k_blue_hair_182',\n",
    "}"
   ]
  },
  {
   "cell_type": "code",
   "execution_count": 229,
   "metadata": {},
   "outputs": [],
   "source": [
    "val_codecs = {\n",
    "    'x264_mv_fast_2k_blue_hair_31',\n",
    "    'xcczm265_mv_offline_2k_blue_hair_29',\n",
    "    'alibaba_mv_offline_2k_blue_hair_32',\n",
    "    'kingsoft_v2_mv_offline_2k_blue_hair_39',\n",
    "}"
   ]
  },
  {
   "cell_type": "code",
   "execution_count": 222,
   "metadata": {},
   "outputs": [],
   "source": [
    "def refresh_folder(folder):\n",
    "    shutil.rmtree(folder, ignore_errors=True)\n",
    "    os.mkdir(folder)"
   ]
  },
  {
   "cell_type": "code",
   "execution_count": 231,
   "metadata": {},
   "outputs": [],
   "source": [
    "# refresh_folder('./data/enc_val')\n",
    "# merge_folders_with_prefix(path, val_codecs, './data/enc_val')"
   ]
  },
  {
   "cell_type": "code",
   "execution_count": 183,
   "metadata": {},
   "outputs": [],
   "source": [
    "# refresh_folder('./data/enc_train')\n",
    "# merge_folders_with_prefix(path, list(all_codecs - test_codecs - exclude_codes), './data/enc_train')"
   ]
  },
  {
   "cell_type": "code",
   "execution_count": null,
   "metadata": {},
   "outputs": [],
   "source": [
    "# refresh_folder('./data/enc_train')"
   ]
  },
  {
   "cell_type": "code",
   "execution_count": 10,
   "metadata": {},
   "outputs": [],
   "source": [
    "# refresh_folder('./data/enc_train')\n",
    "\n",
    "# refresh_folder('./data/enc_test')\n",
    "\n",
    "# merge_folders_with_prefix(path, list(all_codecs - test_codecs), './data/enc_train')\n",
    "\n",
    "# merge_folders_with_prefix(path, test_codecs, './data/enc_test')\n",
    "\n",
    "# path = './data/origin_packs'\n",
    "\n",
    "# merge_folders_with_prefix(path, os.listdir(path), './data/original_images')"
   ]
  },
  {
   "cell_type": "code",
   "execution_count": 184,
   "metadata": {},
   "outputs": [],
   "source": [
    "def find_suff_in_set(path, st):\n",
    "    tokens = path.split('_')\n",
    "    tokens = tokens[:-2] + tokens[-1:]\n",
    "    for suff_len in range(2, len(tokens)):\n",
    "        suffix = '_'.join(tokens[-suff_len:])\n",
    "        if suffix in st:\n",
    "            return suffix\n",
    "    raise f'path {path} do not have prototype in set'"
   ]
  },
  {
   "cell_type": "code",
   "execution_count": 203,
   "metadata": {
    "id": "nh7SlYux-4Oa"
   },
   "outputs": [],
   "source": [
    "class FramesDataset(Dataset):\n",
    "    def __init__(self, enc_folder, org_folder, json_dir, transform=None):\n",
    "        self.enc_folder = enc_folder\n",
    "        self.enc_name2path = {\n",
    "            enc_img: os.path.join(enc_folder, enc_img) for enc_img in os.listdir(enc_folder)\n",
    "        }\n",
    "        \n",
    "        self.org_folder = org_folder\n",
    "        self.org_file_names = set([img for img in os.listdir(org_folder)])\n",
    "        \n",
    "        self.enc_to_org_paths = {\n",
    "            enc_path: os.path.join(org_folder, find_suff_in_set(enc_name, self.org_file_names))\n",
    "            for enc_name, enc_path in self.enc_name2path.items()\n",
    "        }\n",
    "        \n",
    "        self.json_dir = json_dir\n",
    "        self.jsons = {}\n",
    "        for jsn in os.listdir(json_dir):\n",
    "            jsn_name = jsn.split('.')[0]\n",
    "            with open(os.path.join(json_dir, jsn), 'r') as f:\n",
    "                for img_idx, vmaf in json.load(f).items():\n",
    "                    self.jsons[f'{jsn_name}_{int(img_idx):04d}.png'] = vmaf\n",
    "        \n",
    "        self.item_names = list(self.enc_name2path.keys())\n",
    "        \n",
    "        self.transform = transform\n",
    "        self.to_tensor = ToTensor()\n",
    "\n",
    "    def __len__(self):\n",
    "        return len(self.item_names)\n",
    "\n",
    "    def __getitem__(self, idx):\n",
    "        try:\n",
    "            enc_name = self.item_names[idx]\n",
    "            enc_path = self.enc_name2path[enc_name]\n",
    "\n",
    "            curr_frame = self.to_tensor(Image.open(enc_path)).float()\n",
    "\n",
    "            ref_frame = self.to_tensor(\n",
    "                Image.open(self.enc_to_org_paths[enc_path])\n",
    "            ).float()\n",
    "\n",
    "            if self.transform:\n",
    "                curr_frame = self.transform(curr_frame)\n",
    "                ref_frame = self.transform(ref_frame)\n",
    "\n",
    "            vmaf = self.jsons[enc_name]\n",
    "            \n",
    "        except KeyboardInterrupt:\n",
    "            raise '1'\n",
    "        except BaseException:\n",
    "            return self.__getitem__((idx + 1)  % len(self))\n",
    "            \n",
    "        return curr_frame, ref_frame, torch.tensor(vmaf), enc_path"
   ]
  },
  {
   "cell_type": "code",
   "execution_count": 204,
   "metadata": {},
   "outputs": [],
   "source": [
    "train_dataset = FramesDataset('./data/enc_train', './data/original_images', './data/vmafs')\n",
    "val_dataset = FramesDataset('./data/enc_test', './data/original_images', './data/vmafs')"
   ]
  },
  {
   "cell_type": "code",
   "execution_count": 205,
   "metadata": {},
   "outputs": [],
   "source": [
    "curr_frame, ref_frame, vmaf, paths = next(iter(train_dataset))"
   ]
  },
  {
   "cell_type": "markdown",
   "metadata": {
    "id": "WQjEuBZIs7w6"
   },
   "source": [
    "#### **Hyperparameters**"
   ]
  },
  {
   "cell_type": "code",
   "execution_count": 206,
   "metadata": {
    "cellView": "form",
    "id": "4ujS_lBezu-3"
   },
   "outputs": [],
   "source": [
    "#@title Create dataset, reshape and normalize\n",
    "PATH = \"dataset/dataset\" #@param {type:\"string\"}\n",
    "quality = \"SD (480, 640)\" #@param [\"FullHD (1080, 1920)\", \"HD (720, 1280)\", \"SD (480, 640)\"]\n",
    "\n",
    "d = {\"FullHD (1080, 1920)\": (1080, 1920),\n",
    "     \"HD (720, 1280)\": (720, 1280),\n",
    "     \"SD (480, 640)\":(480, 640)}\n",
    "\n",
    "transform = torchvision.transforms.Compose([\n",
    "    transforms.Resize(d[quality]),\n",
    "#     transforms.Normalize((0.3345,), (0.3491,))\n",
    "])\n",
    "\n",
    "trainset = FramesDataset('./data/enc_train', './data/original_images', './data/vmafs', transform=transform)\n",
    "testset = FramesDataset('./data/enc_test', './data/original_images', './data/vmafs', transform=transform)\n",
    "clear_output()"
   ]
  },
  {
   "cell_type": "code",
   "execution_count": 207,
   "metadata": {
    "cellView": "form",
    "colab": {
     "base_uri": "https://localhost:8080/"
    },
    "id": "apSE8_Jhs6iH",
    "outputId": "185c1762-204b-47d5-def6-dfe9ea8d00a3"
   },
   "outputs": [],
   "source": [
    "BATCH_SIZE = 16 #@param {type:\"slider\", min:4, max:64, step:2}\n",
    "EPOCHS = 30 #@param {type:\"slider\", min:5, max:100, step:5}\n",
    "device = 'cuda' #@param [\"cuda\", \"cpu\"]\n",
    "\n",
    "\n",
    "assert device == str(torch.device('cuda' if torch.cuda.is_available() else 'cpu'))"
   ]
  },
  {
   "cell_type": "code",
   "execution_count": 208,
   "metadata": {
    "cellView": "form",
    "colab": {
     "base_uri": "https://localhost:8080/"
    },
    "id": "apSE8_Jhs6iH",
    "outputId": "185c1762-204b-47d5-def6-dfe9ea8d00a3"
   },
   "outputs": [],
   "source": [
    "trainloader = DataLoader(trainset, batch_size=BATCH_SIZE, shuffle=True, num_workers=2, drop_last=True)\n",
    "testloader = DataLoader(testset, batch_size=BATCH_SIZE, shuffle=False, num_workers=2, drop_last=True)"
   ]
  },
  {
   "cell_type": "code",
   "execution_count": 209,
   "metadata": {},
   "outputs": [],
   "source": [
    "im_train, ref_train, scores_train, paths = next(iter(trainloader))"
   ]
  },
  {
   "cell_type": "code",
   "execution_count": null,
   "metadata": {},
   "outputs": [],
   "source": []
  },
  {
   "cell_type": "code",
   "execution_count": 19,
   "metadata": {},
   "outputs": [],
   "source": [
    "# dcn(ref_train[0][0])"
   ]
  },
  {
   "cell_type": "code",
   "execution_count": 20,
   "metadata": {},
   "outputs": [],
   "source": [
    "# with open('./proxy_model', 'rb') as f:\n",
    "#     print(model.load_state_dict(torch.load(f)))"
   ]
  },
  {
   "cell_type": "code",
   "execution_count": 114,
   "metadata": {
    "cellView": "form",
    "colab": {
     "base_uri": "https://localhost:8080/"
    },
    "id": "apSE8_Jhs6iH",
    "outputId": "185c1762-204b-47d5-def6-dfe9ea8d00a3"
   },
   "outputs": [
    {
     "name": "stdout",
     "output_type": "stream",
     "text": [
      "Train dataset: 17394 items\n",
      "Batches num: 1087\n",
      "Images shape: torch.Size([16, 1, 480, 640])\n",
      "Refimg shape: torch.Size([16, 1, 480, 640])\n",
      "Scores shape: 16\n",
      "WARNING: Last train batchsize is different to BATCH_SIZE. Last batch len: 5\n",
      "\n",
      "Train dataset: 1061 items\n",
      "Batches num: 66\n",
      "Images shape: torch.Size([16, 1, 480, 640])\n",
      "Refimg shape: torch.Size([16, 1, 480, 640])\n",
      "Scores shape: 16\n",
      "WARNING: Last test batchsize is different to BATCH_SIZE. Last batch len: 2\n"
     ]
    }
   ],
   "source": [
    "im_train, ref_train, scores_train, paths = next(iter(trainloader))\n",
    "print(f\"Train dataset: {len(trainset)} items\")\n",
    "print(f\"Batches num: {len(trainloader)}\")\n",
    "print(\"Images shape:\", im_train.size()) # images, ref_images, scores\n",
    "print(\"Refimg shape:\", ref_train.size())\n",
    "print(\"Scores shape:\", len(scores_train))\n",
    "if len(trainset) % BATCH_SIZE != 0:\n",
    "    print(\"WARNING: Last train batchsize is different to BATCH_SIZE. Last batch len:\", len(testset) % BATCH_SIZE)\n",
    "\n",
    "\n",
    "im_test, ref_test, scores_test, paths = next(iter(testloader))\n",
    "print(f\"\\nTrain dataset: {len(testset)} items\")\n",
    "print(f\"Batches num: {len(testloader)}\")\n",
    "print(\"Images shape:\", im_test.size()) # images, ref_images, scores\n",
    "print(\"Refimg shape:\", ref_test.size())\n",
    "print(\"Scores shape:\", len(scores_test))\n",
    "if len(testset) % BATCH_SIZE != 0:\n",
    "    print(\"WARNING: Last test batchsize is different to BATCH_SIZE. Last batch len:\", len(trainset) % BATCH_SIZE)"
   ]
  },
  {
   "cell_type": "markdown",
   "metadata": {
    "id": "9n1Ls8ZmL6hu"
   },
   "source": [
    "#### **Train loop**"
   ]
  },
  {
   "cell_type": "code",
   "execution_count": 115,
   "metadata": {
    "id": "A6TdBah95z_2"
   },
   "outputs": [],
   "source": [
    "class Plotter():\n",
    "    def __init__(self):\n",
    "        self.train_loss_hist = []\n",
    "        self.test_loss_hist = []\n",
    "\n",
    "    def append_train_loss(self, loss):\n",
    "        self.train_loss_hist.append(loss)\n",
    "\n",
    "    def append_test_loss(self, loss):\n",
    "        self.test_loss_hist.append(loss)\n",
    "\n",
    "    def print_last(self):\n",
    "        assert len(self.train_loss_hist) == len(self.test_loss_hist)\n",
    "        print(f\"[Epoch={len(self.train_loss_hist)}]\\ttrain loss={self.train_loss_hist[-1]:.4}\\ttest loss={self.test_loss_hist[-1]:.4}\")\n",
    "\n",
    "    def start_time(self):\n",
    "        self.start_t = time.time()\n",
    "\n",
    "    def print_time(self):\n",
    "        end = time.time()\n",
    "        print(f\"Epoch time = {(end - self.start_t):.4}s \\n\")\n",
    "    \n",
    "    def show(self):\n",
    "        plt.plot(range(1, len(self.train_loss_hist)+1), self.train_loss_hist, label='Train')\n",
    "        plt.plot(range(1, len(self.test_loss_hist)+1), self.test_loss_hist, label='Test')\n",
    "        plt.xlabel(\"Epochs\")\n",
    "        plt.ylabel(\"Loss\")\n",
    "        plt.title(\"Loss by epochs\")\n",
    "        plt.legend()\n",
    "        plt.show()"
   ]
  },
  {
   "cell_type": "code",
   "execution_count": 116,
   "metadata": {
    "id": "LtPwb8Rw6nbl"
   },
   "outputs": [],
   "source": [
    "def calc_loss(model, loader, loss_function):\n",
    "    ep_loss = 0\n",
    "    for images, ref_images, scores in loader:\n",
    "        images = images.to(device)\n",
    "        ref_images = ref_images.to(device)\n",
    "        scores = scores.to(device)\n",
    "        scores = scores / 100 # re-normalise\n",
    "\n",
    "        predicted_scores = model(images, ref_images) # call forward inside \n",
    "        loss = loss_function(predicted_scores.float()[:,0], scores.float()) # calculate loss\n",
    "        ep_loss += loss.item()\n",
    "    return ep_loss"
   ]
  },
  {
   "cell_type": "code",
   "execution_count": 117,
   "metadata": {
    "id": "1hKjnHDYnchI"
   },
   "outputs": [],
   "source": [
    "def train_with_valid(model, trainloader, testloader, loss_function, optimizer, epochs, device, plot):\n",
    "    for epoch in range(epochs):\n",
    "        plot.start_time()\n",
    "        plot.append_train_loss(calc_loss(model, trainloader, loss_function)/len(trainset))\n",
    "        plot.append_test_loss(calc_loss(model, testloader, loss_function)/len(testset))\n",
    "        \n",
    "        for images, ref_images, scores in trainloader:\n",
    "            images = images.to(device)\n",
    "            ref_images = ref_images.to(device)\n",
    "            scores = scores/100 # re-normalise\n",
    "            scores = scores.to(device)\n",
    "            \n",
    "            out = model(images, ref_images)\n",
    "\n",
    "            optimizer.zero_grad()\n",
    "            loss = loss_function(out.float().squeeze(), scores.float())\n",
    "            loss.backward()\n",
    "            optimizer.step()\n",
    "        \n",
    "        plot.print_last()\n",
    "        plot.print_time()"
   ]
  },
  {
   "cell_type": "markdown",
   "metadata": {
    "id": "qifIXv04t3yt"
   },
   "source": [
    "**Model**"
   ]
  },
  {
   "cell_type": "code",
   "execution_count": 118,
   "metadata": {
    "id": "SXKCD-FYx_1l"
   },
   "outputs": [],
   "source": [
    "class Block(nn.Module):\n",
    "    def __init__(self, in_features, out_features):\n",
    "        super().__init__()\n",
    "        self.sequence = nn.Sequential(\n",
    "            nn.Conv2d(in_features, out_features, 3, stride=2, padding=1),\n",
    "            nn.BatchNorm2d(out_features),\n",
    "            nn.ReLU(),\n",
    "        )\n",
    "\n",
    "    def forward(self, x):\n",
    "        return self.sequence(x)\n",
    "    \n",
    "\n",
    "class IvanCNN(nn.Module):\n",
    "    def __init__(self):\n",
    "        super().__init__()\n",
    "        prog_init = 4\n",
    "        self.convs = nn.Sequential(\n",
    "                        Block(2,prog_init),\n",
    "                        Block(prog_init,prog_init*2),\n",
    "                        Block(prog_init*2,prog_init*4),\n",
    "                        Block(prog_init*4,prog_init*4),\n",
    "                        Block(prog_init*4,prog_init*4),\n",
    "                        Block(prog_init*4,prog_init*4),\n",
    "                    )\n",
    "        \n",
    "        \n",
    "        dummy_imput = torch.rand(1,2,d[quality][0],d[quality][1])\n",
    "        out = self.convs(dummy_imput)\n",
    "        \n",
    "        self.fc1 = nn.Linear(out.shape[1]*out.shape[2]*out.shape[3], 20)\n",
    "        self.relu = nn.ReLU()\n",
    "        self.fc2 = nn.Linear(20, 1)\n",
    "        \n",
    "\n",
    "    def forward(self, x, ref):\n",
    "        x = torch.cat((x, ref), dim=1)\n",
    "        x = self.convs(x)\n",
    "        x = torch.flatten(x, 1)\n",
    "        x = self.fc1(x)\n",
    "        x = self.relu(x)\n",
    "        x = self.fc2(x)\n",
    "        return x"
   ]
  },
  {
   "cell_type": "code",
   "execution_count": 119,
   "metadata": {},
   "outputs": [],
   "source": [
    "class PaperCNN(nn.Module):\n",
    "    def __init__(self):\n",
    "        super().__init__()\n",
    "        \n",
    "        self.conv = nn.Sequential(\n",
    "                        nn.Conv2d(2, 16, 5),\n",
    "                        nn.MaxPool2d(2),\n",
    "                        nn.ReLU(),\n",
    "\n",
    "                        nn.Conv2d(16, 32, 5),\n",
    "                        nn.MaxPool2d(2),\n",
    "                        nn.ReLU(),\n",
    "\n",
    "                        nn.Conv2d(32, 64, 5),\n",
    "                        nn.AdaptiveMaxPool2d((10,10)),\n",
    "                        nn.ReLU()\n",
    "                    )\n",
    "        \n",
    "        \n",
    "        dummy_imput = torch.rand(1,2,d[quality][0],d[quality][1])\n",
    "        out = self.conv(dummy_imput)\n",
    "        self.fc1 = nn.Linear(out.shape[1]*out.shape[2]*out.shape[3], 4)\n",
    "        self.fc2 = nn.Linear(4, 1)\n",
    "        \n",
    "\n",
    "    def forward(self, x, ref):\n",
    "        x = torch.cat((x, ref), dim=1)\n",
    "        x = self.conv(x)\n",
    "        x = torch.flatten(x, 1)\n",
    "        x = self.fc1(x)\n",
    "        x = nn.ReLU()(x)\n",
    "        x = self.fc2(x)\n",
    "        x = nn.Sigmoid()(x)\n",
    "        return x"
   ]
  },
  {
   "cell_type": "markdown",
   "metadata": {
    "id": "-xvxBXiE999F"
   },
   "source": [
    "#### **Train**"
   ]
  },
  {
   "cell_type": "code",
   "execution_count": 120,
   "metadata": {
    "colab": {
     "base_uri": "https://localhost:8080/"
    },
    "id": "icUy_v4599WV",
    "outputId": "036a068c-06b1-47ec-f90e-e3d49f540225"
   },
   "outputs": [],
   "source": [
    "model = IvanCNN()\n",
    "model = model.cuda()\n",
    "clear_output()\n",
    "optimizer = torch.optim.Adam(model.parameters(), lr=1e-3)\n",
    "mse = nn.MSELoss().to(device)\n",
    "loss_function = nn.L1Loss().to(device)\n",
    "plot = Plotter()\n",
    "\n",
    "# summary(model, [(1, d[quality][0], d[quality][1]), (1, d[quality][0], d[quality][1])], batch_size=2)"
   ]
  },
  {
   "cell_type": "code",
   "execution_count": 121,
   "metadata": {},
   "outputs": [],
   "source": [
    "# a = [(len(os.listdir(f'./enc_images/{file}')),file) for file in os.listdir('./enc_images/')]"
   ]
  },
  {
   "cell_type": "code",
   "execution_count": 128,
   "metadata": {},
   "outputs": [],
   "source": [
    "# with open('./proxy_model', 'wb') as f:\n",
    "#     torch.save(model.state_dict(), f)"
   ]
  },
  {
   "cell_type": "code",
   "execution_count": 129,
   "metadata": {},
   "outputs": [],
   "source": [
    "# with open('./proxy_model', 'rb') as f:\n",
    "#     print(model.load_state_dict(torch.load(f)))"
   ]
  },
  {
   "cell_type": "code",
   "execution_count": 130,
   "metadata": {},
   "outputs": [],
   "source": [
    "# with open('./proxy_model', 'rb') as f:\n",
    "#     print(model.load_state_dict(torch.load(f)))"
   ]
  },
  {
   "cell_type": "code",
   "execution_count": 131,
   "metadata": {},
   "outputs": [],
   "source": [
    "EPOCHS = 15"
   ]
  },
  {
   "cell_type": "code",
   "execution_count": 132,
   "metadata": {
    "colab": {
     "base_uri": "https://localhost:8080/"
    },
    "id": "I0qVipd7cX_f",
    "outputId": "310aeef5-5aec-4506-f8b4-ed0bfb21975c"
   },
   "outputs": [],
   "source": [
    "# for lr in np.logspace(-2,-6,5):\n",
    "#     optimizer = torch.optim.Adam(model.parameters(), lr=lr)\n",
    "#     train_with_valid(model, trainloader, testloader, loss_function, optimizer, EPOCHS, device, plot)"
   ]
  },
  {
   "cell_type": "code",
   "execution_count": 308,
   "metadata": {},
   "outputs": [
    {
     "name": "stdout",
     "output_type": "stream",
     "text": [
      "<All keys matched successfully>\n"
     ]
    }
   ],
   "source": [
    "with open('./models/proxy_0.0154_0.0165', 'rb') as f:\n",
    "    print(model.load_state_dict(torch.load(f)))"
   ]
  },
  {
   "cell_type": "code",
   "execution_count": 134,
   "metadata": {
    "colab": {
     "base_uri": "https://localhost:8080/",
     "height": 295
    },
    "id": "kHV2TfqU_Xt1",
    "outputId": "df808002-0df6-408d-bf44-45d6e5abfaa2"
   },
   "outputs": [],
   "source": [
    "# plot.show()"
   ]
  },
  {
   "cell_type": "code",
   "execution_count": 135,
   "metadata": {},
   "outputs": [],
   "source": [
    "# !pip install torch==1.6.0+cu101 -f https://download.pytorch.org/whl/torch_stable.html"
   ]
  },
  {
   "cell_type": "code",
   "execution_count": 136,
   "metadata": {},
   "outputs": [],
   "source": [
    "# !pip install segmentation_models_pytorch"
   ]
  },
  {
   "cell_type": "code",
   "execution_count": 309,
   "metadata": {},
   "outputs": [],
   "source": [
    "torch.cuda.set_device(1)"
   ]
  },
  {
   "cell_type": "code",
   "execution_count": 138,
   "metadata": {},
   "outputs": [],
   "source": [
    "# import segmentation_models_pytorch as smp\n",
    "\n",
    "# autoencoder = smp.FPN(\n",
    "#     encoder_name=\"efficientnet-b1\",\n",
    "#     encoder_depth=3,\n",
    "#     decoder_pyramid_channels=32,\n",
    "#     decoder_segmentation_channels=32,\n",
    "#     decoder_dropout = 0,\n",
    "#     decoder_merge_policy='add',\n",
    "#     activation=None,\n",
    "#     upsampling=1,\n",
    "#     encoder_weights=None,\n",
    "#     in_channels=1,\n",
    "#     classes=1,\n",
    "# ).cuda()"
   ]
  },
  {
   "cell_type": "code",
   "execution_count": 310,
   "metadata": {},
   "outputs": [],
   "source": [
    "conv_block = nn.Sequential(\n",
    "    nn.Conv2d(1, 16, 3, stride=1, padding=1),\n",
    "    nn.BatchNorm2d(16),\n",
    "    nn.ReLU(True),\n",
    "    nn.Conv2d(16, 32, 3, stride=1, padding=1),\n",
    "    nn.BatchNorm2d(32),\n",
    "    nn.ReLU(True),\n",
    "    nn.Conv2d(32, 32, 3, stride=1, padding=1),\n",
    "    nn.BatchNorm2d(32),\n",
    "    nn.ReLU(True),\n",
    "    nn.Conv2d(32, 1, 3, stride=1, padding=1),\n",
    ").cuda()"
   ]
  },
  {
   "cell_type": "code",
   "execution_count": 311,
   "metadata": {},
   "outputs": [],
   "source": [
    "# autoencoder = Autoencoder().cuda()"
   ]
  },
  {
   "cell_type": "code",
   "execution_count": 312,
   "metadata": {},
   "outputs": [
    {
     "name": "stdout",
     "output_type": "stream",
     "text": [
      "----------------------------------------------------------------\n",
      "        Layer (type)               Output Shape         Param #\n",
      "================================================================\n",
      "            Conv2d-1         [-1, 16, 640, 480]             160\n",
      "       BatchNorm2d-2         [-1, 16, 640, 480]              32\n",
      "              ReLU-3         [-1, 16, 640, 480]               0\n",
      "            Conv2d-4         [-1, 32, 640, 480]           4,640\n",
      "       BatchNorm2d-5         [-1, 32, 640, 480]              64\n",
      "              ReLU-6         [-1, 32, 640, 480]               0\n",
      "            Conv2d-7         [-1, 32, 640, 480]           9,248\n",
      "       BatchNorm2d-8         [-1, 32, 640, 480]              64\n",
      "              ReLU-9         [-1, 32, 640, 480]               0\n",
      "           Conv2d-10          [-1, 1, 640, 480]             289\n",
      "================================================================\n",
      "Total params: 14,497\n",
      "Trainable params: 14,497\n",
      "Non-trainable params: 0\n",
      "----------------------------------------------------------------\n",
      "Input size (MB): 1.17\n",
      "Forward/backward pass size (MB): 564.84\n",
      "Params size (MB): 0.06\n",
      "Estimated Total Size (MB): 566.07\n",
      "----------------------------------------------------------------\n"
     ]
    }
   ],
   "source": [
    "summary(conv_block, [(1,640,480)])"
   ]
  },
  {
   "cell_type": "code",
   "execution_count": 313,
   "metadata": {},
   "outputs": [],
   "source": [
    "dcn = lambda x: x.detach().cpu().numpy()\n",
    "\n",
    "get_str_quality = lambda img: f\"{img.shape[0]}x{img.shape[1]}\"\n",
    "\n",
    "resizer = transforms.Resize((1080, 1920))\n",
    "\n",
    "discretize_img = lambda img: (img * 255).astype(np.uint8)\n",
    "\n",
    "def calc_vmaf(orig_img, comp_img):\n",
    "    imageio.imwrite(\n",
    "        'original.png',\n",
    "        orig_img\n",
    "    )\n",
    "    imageio.imwrite(\n",
    "        'compress.png',\n",
    "        comp_img\n",
    "    )\n",
    "#     subproc = Popen(\n",
    "#         f\"./vqmt13-1-upd -orig original.png IYUV {get_str_quality(orig_img)} -in compress.png IYUV {get_str_quality(comp_img)} -metr vmaf -set 'model_preset=vmaf_v063' -json | jq '.accumulated.mean.A'\",\n",
    "#         stdout=PIPE, stderr=PIPE, shell=True\n",
    "#     )\n",
    "    subproc = Popen(\n",
    "        \"echo {$(./vqmt13-1-upd -orig original.png IYUV 1080x1920 -in compress.png IYUV 1080x1920 -metr vmaf -set 'model_preset=vmaf_v063' -dev OpenCL1 -json) | jq '.accumulated.mean.A'\",\n",
    "        stdout=PIPE, stderr=PIPE, shell=True\n",
    "    )\n",
    "    subproc.wait()\n",
    "    std_out, std_err = subproc.communicate()\n",
    "    proc_out = std_out.decode(\"utf-8\")\n",
    "    score = float(proc_out.split('\\n')[0])\n",
    "    return score\n",
    "\n",
    "def get_vmaf_inshape(orig_img, comp_img):\n",
    "    org_img_rs = resizer(orig_img)\n",
    "    comp_img_rs = resizer(comp_img)\n",
    "    return calc_vmaf(discretize_img(dcn(org_img_rs)[0]), discretize_img(dcn(comp_img_rs)[0]))\n",
    "\n",
    "def psnr(img1, img2):\n",
    "    mse = torch.mean((img1 - img2) ** 2)\n",
    "    return 20 * torch.log10(1.0 / torch.sqrt(mse))\n",
    "\n",
    "from pytorch_ssim import ssim as _ssim\n",
    "def ssim(image, ref_image):\n",
    "    return _ssim(image[None], ref_image[None])\n"
   ]
  },
  {
   "cell_type": "code",
   "execution_count": 314,
   "metadata": {},
   "outputs": [],
   "source": [
    "def fgsm_attack(image, epsilon, data_grad):\n",
    "    sign_data_grad = data_grad.sign()\n",
    "    perturbed_image = image + epsilon*sign_data_grad\n",
    "    perturbed_image = torch.clamp(perturbed_image, 0, 1)\n",
    "    return perturbed_image"
   ]
  },
  {
   "cell_type": "code",
   "execution_count": 378,
   "metadata": {},
   "outputs": [],
   "source": [
    "def grad_clip_attack(images, clip_norm, data_grad):\n",
    "    clip_data_grad = data_grad.clip(-clip_norm, clip_norm)\n",
    "    perturbed_images = images + clip_data_grad\n",
    "    perturbed_images = torch.clamp(perturbed_images, 0, 1)\n",
    "    return perturbed_images"
   ]
  },
  {
   "cell_type": "code",
   "execution_count": 381,
   "metadata": {},
   "outputs": [],
   "source": [
    "def do_adversarial_iteration(model, image, ref_image, eps):\n",
    "    image.requires_grad = True\n",
    "\n",
    "    proxy_vmaf = model(image[None].cuda(), ref_image[None].cuda())[0]\n",
    "    loss = proxy_vmaf\n",
    "    loss.backward()\n",
    "    img_grad = image.grad\n",
    "    perturbed_image = grad_clip_attack(image, eps, img_grad)\n",
    "    return perturbed_image"
   ]
  },
  {
   "cell_type": "code",
   "execution_count": 317,
   "metadata": {},
   "outputs": [],
   "source": [
    "valset = FramesDataset('./data/enc_val', './data/original_images', './data/vmafs', transform=transform)\n",
    "valloader = DataLoader(valset, batch_size=BATCH_SIZE, shuffle=True, num_workers=1)"
   ]
  },
  {
   "cell_type": "code",
   "execution_count": 318,
   "metadata": {},
   "outputs": [],
   "source": [
    "real_losses = []\n",
    "corrupt_losses = []\n",
    "optimizer = torch.optim.Adam(model.parameters(), lr=1e-4, weight_decay=1e-3)"
   ]
  },
  {
   "cell_type": "code",
   "execution_count": 319,
   "metadata": {},
   "outputs": [],
   "source": [
    "with open('./vqmt_vmafs', 'rb') as f:\n",
    "    vqmt_vmafs = pickle.load(f)"
   ]
  },
  {
   "cell_type": "code",
   "execution_count": 320,
   "metadata": {},
   "outputs": [],
   "source": [
    "one_pix_delta = 1.0 / 255.0"
   ]
  },
  {
   "cell_type": "code",
   "execution_count": 327,
   "metadata": {
    "scrolled": true
   },
   "outputs": [
    {
     "name": "stderr",
     "output_type": "stream",
     "text": [
      "  0%|          | 1/975 [00:00<12:35,  1.29it/s]"
     ]
    },
    {
     "name": "stdout",
     "output_type": "stream",
     "text": [
      "0.023755550384521484\n",
      "0.01219332218170166\n"
     ]
    },
    {
     "name": "stderr",
     "output_type": "stream",
     "text": [
      "  0%|          | 3/975 [00:01<06:08,  2.64it/s]"
     ]
    },
    {
     "name": "stdout",
     "output_type": "stream",
     "text": [
      "0.014355026185512543\n",
      "0.01656428538262844\n"
     ]
    },
    {
     "name": "stderr",
     "output_type": "stream",
     "text": [
      "  1%|          | 5/975 [00:01<05:01,  3.22it/s]"
     ]
    },
    {
     "name": "stdout",
     "output_type": "stream",
     "text": [
      "0.02164909802377224\n",
      "0.012517565861344337\n"
     ]
    },
    {
     "name": "stderr",
     "output_type": "stream",
     "text": [
      "  1%|          | 7/975 [00:02<04:33,  3.54it/s]"
     ]
    },
    {
     "name": "stdout",
     "output_type": "stream",
     "text": [
      "0.013353649526834488\n",
      "0.029221341013908386\n"
     ]
    },
    {
     "name": "stderr",
     "output_type": "stream",
     "text": [
      "  1%|          | 9/975 [00:02<04:18,  3.74it/s]"
     ]
    },
    {
     "name": "stdout",
     "output_type": "stream",
     "text": [
      "0.010685104876756668\n",
      "0.01162174716591835\n"
     ]
    },
    {
     "name": "stderr",
     "output_type": "stream",
     "text": [
      "  1%|          | 11/975 [00:03<04:11,  3.83it/s]"
     ]
    },
    {
     "name": "stdout",
     "output_type": "stream",
     "text": [
      "0.02003486454486847\n",
      "0.015883492305874825\n"
     ]
    },
    {
     "name": "stderr",
     "output_type": "stream",
     "text": [
      "  1%|▏         | 13/975 [00:03<04:03,  3.95it/s]"
     ]
    },
    {
     "name": "stdout",
     "output_type": "stream",
     "text": [
      "0.023005373775959015\n",
      "0.01521054096519947\n"
     ]
    },
    {
     "name": "stderr",
     "output_type": "stream",
     "text": [
      "  2%|▏         | 15/975 [00:04<04:02,  3.96it/s]"
     ]
    },
    {
     "name": "stdout",
     "output_type": "stream",
     "text": [
      "0.01159520260989666\n",
      "0.030419165268540382\n"
     ]
    },
    {
     "name": "stderr",
     "output_type": "stream",
     "text": [
      "  2%|▏         | 17/975 [00:04<03:57,  4.03it/s]"
     ]
    },
    {
     "name": "stdout",
     "output_type": "stream",
     "text": [
      "0.015822071582078934\n",
      "0.016156896948814392\n"
     ]
    },
    {
     "name": "stderr",
     "output_type": "stream",
     "text": [
      "  2%|▏         | 19/975 [00:05<03:57,  4.02it/s]"
     ]
    },
    {
     "name": "stdout",
     "output_type": "stream",
     "text": [
      "0.013062592595815659\n",
      "0.016498040407896042\n"
     ]
    },
    {
     "name": "stderr",
     "output_type": "stream",
     "text": [
      "  2%|▏         | 21/975 [00:05<03:55,  4.05it/s]"
     ]
    },
    {
     "name": "stdout",
     "output_type": "stream",
     "text": [
      "0.015814702957868576\n",
      "0.010318798944354057\n"
     ]
    },
    {
     "name": "stderr",
     "output_type": "stream",
     "text": [
      "  2%|▏         | 23/975 [00:06<03:54,  4.06it/s]"
     ]
    },
    {
     "name": "stdout",
     "output_type": "stream",
     "text": [
      "0.007286321371793747\n",
      "0.0072791967540979385\n"
     ]
    },
    {
     "name": "stderr",
     "output_type": "stream",
     "text": [
      "  3%|▎         | 25/975 [00:06<03:52,  4.08it/s]"
     ]
    },
    {
     "name": "stdout",
     "output_type": "stream",
     "text": [
      "0.010666802525520325\n",
      "0.016012031584978104\n"
     ]
    },
    {
     "name": "stderr",
     "output_type": "stream",
     "text": [
      "  3%|▎         | 27/975 [00:07<03:52,  4.07it/s]"
     ]
    },
    {
     "name": "stdout",
     "output_type": "stream",
     "text": [
      "0.013859119266271591\n",
      "0.013537946157157421\n"
     ]
    },
    {
     "name": "stderr",
     "output_type": "stream",
     "text": [
      "  3%|▎         | 29/975 [00:07<03:53,  4.06it/s]"
     ]
    },
    {
     "name": "stdout",
     "output_type": "stream",
     "text": [
      "0.01211550459265709\n",
      "0.014898963272571564\n"
     ]
    },
    {
     "name": "stderr",
     "output_type": "stream",
     "text": [
      "  3%|▎         | 31/975 [00:08<03:55,  4.01it/s]"
     ]
    },
    {
     "name": "stdout",
     "output_type": "stream",
     "text": [
      "0.013255830854177475\n",
      "0.014008499681949615\n"
     ]
    },
    {
     "name": "stderr",
     "output_type": "stream",
     "text": [
      "  3%|▎         | 33/975 [00:08<03:53,  4.03it/s]"
     ]
    },
    {
     "name": "stdout",
     "output_type": "stream",
     "text": [
      "0.014437850564718246\n",
      "0.014897484332323074\n"
     ]
    },
    {
     "name": "stderr",
     "output_type": "stream",
     "text": [
      "  4%|▎         | 35/975 [00:09<03:49,  4.09it/s]"
     ]
    },
    {
     "name": "stdout",
     "output_type": "stream",
     "text": [
      "0.017646675929427147\n",
      "0.015497267246246338\n"
     ]
    },
    {
     "name": "stderr",
     "output_type": "stream",
     "text": [
      "  4%|▍         | 37/975 [00:09<03:49,  4.08it/s]"
     ]
    },
    {
     "name": "stdout",
     "output_type": "stream",
     "text": [
      "0.010976409539580345\n",
      "0.013634167611598969\n"
     ]
    },
    {
     "name": "stderr",
     "output_type": "stream",
     "text": [
      "  4%|▍         | 39/975 [00:10<03:49,  4.08it/s]"
     ]
    },
    {
     "name": "stdout",
     "output_type": "stream",
     "text": [
      "0.007887966930866241\n",
      "0.014392700046300888\n"
     ]
    },
    {
     "name": "stderr",
     "output_type": "stream",
     "text": [
      "  4%|▍         | 41/975 [00:10<03:47,  4.10it/s]"
     ]
    },
    {
     "name": "stdout",
     "output_type": "stream",
     "text": [
      "0.012152956798672676\n",
      "0.011857282370328903\n"
     ]
    },
    {
     "name": "stderr",
     "output_type": "stream",
     "text": [
      "  4%|▍         | 43/975 [00:11<03:47,  4.09it/s]"
     ]
    },
    {
     "name": "stdout",
     "output_type": "stream",
     "text": [
      "0.009690869599580765\n",
      "0.01104075275361538\n"
     ]
    },
    {
     "name": "stderr",
     "output_type": "stream",
     "text": [
      "  5%|▍         | 45/975 [00:11<03:47,  4.08it/s]"
     ]
    },
    {
     "name": "stdout",
     "output_type": "stream",
     "text": [
      "0.016943711787462234\n",
      "0.01129990816116333\n"
     ]
    },
    {
     "name": "stderr",
     "output_type": "stream",
     "text": [
      "  5%|▍         | 47/975 [00:12<03:50,  4.02it/s]"
     ]
    },
    {
     "name": "stdout",
     "output_type": "stream",
     "text": [
      "0.012295534834265709\n",
      "0.017193416133522987\n"
     ]
    },
    {
     "name": "stderr",
     "output_type": "stream",
     "text": [
      "  5%|▌         | 49/975 [00:12<03:49,  4.04it/s]"
     ]
    },
    {
     "name": "stdout",
     "output_type": "stream",
     "text": [
      "0.011674217879772186\n",
      "0.012092843651771545\n"
     ]
    },
    {
     "name": "stderr",
     "output_type": "stream",
     "text": [
      "  5%|▌         | 51/975 [00:13<03:47,  4.05it/s]"
     ]
    },
    {
     "name": "stdout",
     "output_type": "stream",
     "text": [
      "0.011819623410701752\n",
      "0.01362356636673212\n"
     ]
    },
    {
     "name": "stderr",
     "output_type": "stream",
     "text": [
      "  5%|▌         | 53/975 [00:13<03:45,  4.08it/s]"
     ]
    },
    {
     "name": "stdout",
     "output_type": "stream",
     "text": [
      "0.01186659000813961\n",
      "0.012329977005720139\n"
     ]
    },
    {
     "name": "stderr",
     "output_type": "stream",
     "text": [
      "  6%|▌         | 55/975 [00:14<03:46,  4.06it/s]"
     ]
    },
    {
     "name": "stdout",
     "output_type": "stream",
     "text": [
      "0.019465362653136253\n",
      "0.011433493345975876\n"
     ]
    },
    {
     "name": "stderr",
     "output_type": "stream",
     "text": [
      "  6%|▌         | 57/975 [00:14<03:45,  4.07it/s]"
     ]
    },
    {
     "name": "stdout",
     "output_type": "stream",
     "text": [
      "0.02020779624581337\n",
      "0.010338936932384968\n"
     ]
    },
    {
     "name": "stderr",
     "output_type": "stream",
     "text": [
      "  6%|▌         | 59/975 [00:14<03:44,  4.08it/s]"
     ]
    },
    {
     "name": "stdout",
     "output_type": "stream",
     "text": [
      "0.015180269256234169\n",
      "0.010213613510131836\n"
     ]
    },
    {
     "name": "stderr",
     "output_type": "stream",
     "text": [
      "  6%|▋         | 61/975 [00:15<03:42,  4.11it/s]"
     ]
    },
    {
     "name": "stdout",
     "output_type": "stream",
     "text": [
      "0.012289188802242279\n",
      "0.017977183684706688\n"
     ]
    },
    {
     "name": "stderr",
     "output_type": "stream",
     "text": [
      "  6%|▋         | 63/975 [00:15<03:42,  4.09it/s]"
     ]
    },
    {
     "name": "stdout",
     "output_type": "stream",
     "text": [
      "0.008195057511329651\n",
      "0.011696377769112587\n"
     ]
    },
    {
     "name": "stderr",
     "output_type": "stream",
     "text": [
      "  7%|▋         | 65/975 [00:16<03:41,  4.12it/s]"
     ]
    },
    {
     "name": "stdout",
     "output_type": "stream",
     "text": [
      "0.012910515069961548\n",
      "0.011688949540257454\n"
     ]
    },
    {
     "name": "stderr",
     "output_type": "stream",
     "text": [
      "  7%|▋         | 67/975 [00:16<03:38,  4.16it/s]"
     ]
    },
    {
     "name": "stdout",
     "output_type": "stream",
     "text": [
      "0.014081938192248344\n",
      "0.012068722397089005\n"
     ]
    },
    {
     "name": "stderr",
     "output_type": "stream",
     "text": [
      "  7%|▋         | 69/975 [00:17<03:39,  4.13it/s]"
     ]
    },
    {
     "name": "stdout",
     "output_type": "stream",
     "text": [
      "0.01597464084625244\n",
      "0.018164455890655518\n"
     ]
    },
    {
     "name": "stderr",
     "output_type": "stream",
     "text": [
      "  7%|▋         | 71/975 [00:17<03:37,  4.15it/s]"
     ]
    },
    {
     "name": "stdout",
     "output_type": "stream",
     "text": [
      "0.013026976957917213\n",
      "0.014553964138031006\n"
     ]
    },
    {
     "name": "stderr",
     "output_type": "stream",
     "text": [
      "  7%|▋         | 73/975 [00:18<03:36,  4.17it/s]"
     ]
    },
    {
     "name": "stdout",
     "output_type": "stream",
     "text": [
      "0.018296603113412857\n",
      "0.01670191064476967\n"
     ]
    },
    {
     "name": "stderr",
     "output_type": "stream",
     "text": [
      "  8%|▊         | 75/975 [00:18<03:40,  4.09it/s]"
     ]
    },
    {
     "name": "stdout",
     "output_type": "stream",
     "text": [
      "0.014688946306705475\n",
      "0.009782396256923676\n"
     ]
    },
    {
     "name": "stderr",
     "output_type": "stream",
     "text": [
      "  8%|▊         | 77/975 [00:19<03:38,  4.11it/s]"
     ]
    },
    {
     "name": "stdout",
     "output_type": "stream",
     "text": [
      "0.011692950502038002\n",
      "0.016190631315112114\n"
     ]
    },
    {
     "name": "stderr",
     "output_type": "stream",
     "text": [
      "  8%|▊         | 79/975 [00:19<03:39,  4.09it/s]"
     ]
    },
    {
     "name": "stdout",
     "output_type": "stream",
     "text": [
      "0.015625368803739548\n",
      "0.012891639024019241\n"
     ]
    },
    {
     "name": "stderr",
     "output_type": "stream",
     "text": [
      "  8%|▊         | 81/975 [00:20<03:38,  4.08it/s]"
     ]
    },
    {
     "name": "stdout",
     "output_type": "stream",
     "text": [
      "0.009252641350030899\n",
      "0.01977621391415596\n"
     ]
    },
    {
     "name": "stderr",
     "output_type": "stream",
     "text": [
      "  9%|▊         | 83/975 [00:20<03:37,  4.11it/s]"
     ]
    },
    {
     "name": "stdout",
     "output_type": "stream",
     "text": [
      "0.01075773872435093\n",
      "0.013949659653007984\n"
     ]
    },
    {
     "name": "stderr",
     "output_type": "stream",
     "text": [
      "  9%|▊         | 85/975 [00:21<03:37,  4.10it/s]"
     ]
    },
    {
     "name": "stdout",
     "output_type": "stream",
     "text": [
      "0.01268952339887619\n",
      "0.013327187858521938\n"
     ]
    },
    {
     "name": "stderr",
     "output_type": "stream",
     "text": [
      "  9%|▉         | 87/975 [00:21<03:37,  4.09it/s]"
     ]
    },
    {
     "name": "stdout",
     "output_type": "stream",
     "text": [
      "0.009542951360344887\n",
      "0.017947398126125336\n"
     ]
    },
    {
     "name": "stderr",
     "output_type": "stream",
     "text": [
      "  9%|▉         | 89/975 [00:22<03:39,  4.04it/s]"
     ]
    },
    {
     "name": "stdout",
     "output_type": "stream",
     "text": [
      "0.01342453807592392\n",
      "0.010804090648889542\n"
     ]
    },
    {
     "name": "stderr",
     "output_type": "stream",
     "text": [
      "  9%|▉         | 91/975 [00:22<03:38,  4.04it/s]"
     ]
    },
    {
     "name": "stdout",
     "output_type": "stream",
     "text": [
      "0.009634539484977722\n",
      "0.017547547817230225\n"
     ]
    },
    {
     "name": "stderr",
     "output_type": "stream",
     "text": [
      " 10%|▉         | 93/975 [00:23<03:37,  4.06it/s]"
     ]
    },
    {
     "name": "stdout",
     "output_type": "stream",
     "text": [
      "0.015725063160061836\n",
      "0.007430512458086014\n"
     ]
    },
    {
     "name": "stderr",
     "output_type": "stream",
     "text": [
      " 10%|▉         | 95/975 [00:23<03:35,  4.08it/s]"
     ]
    },
    {
     "name": "stdout",
     "output_type": "stream",
     "text": [
      "0.024222299456596375\n",
      "0.01648576930165291\n"
     ]
    },
    {
     "name": "stderr",
     "output_type": "stream",
     "text": [
      " 10%|▉         | 97/975 [00:24<03:34,  4.09it/s]"
     ]
    },
    {
     "name": "stdout",
     "output_type": "stream",
     "text": [
      "0.01834949478507042\n",
      "0.012423578649759293\n"
     ]
    },
    {
     "name": "stderr",
     "output_type": "stream",
     "text": [
      " 10%|█         | 99/975 [00:24<03:35,  4.07it/s]"
     ]
    },
    {
     "name": "stdout",
     "output_type": "stream",
     "text": [
      "0.02211226336658001\n",
      "0.012134838849306107\n"
     ]
    },
    {
     "name": "stderr",
     "output_type": "stream",
     "text": [
      " 10%|█         | 101/975 [00:25<03:35,  4.06it/s]"
     ]
    },
    {
     "name": "stdout",
     "output_type": "stream",
     "text": [
      "0.027243826538324356\n",
      "0.007480509579181671\n"
     ]
    },
    {
     "name": "stderr",
     "output_type": "stream",
     "text": [
      " 11%|█         | 103/975 [00:25<03:32,  4.10it/s]"
     ]
    },
    {
     "name": "stdout",
     "output_type": "stream",
     "text": [
      "0.014326848089694977\n",
      "0.012212403118610382\n"
     ]
    },
    {
     "name": "stderr",
     "output_type": "stream",
     "text": [
      " 11%|█         | 105/975 [00:26<03:31,  4.11it/s]"
     ]
    },
    {
     "name": "stdout",
     "output_type": "stream",
     "text": [
      "0.01587708294391632\n",
      "0.012797733768820763\n"
     ]
    },
    {
     "name": "stderr",
     "output_type": "stream",
     "text": [
      " 11%|█         | 107/975 [00:26<03:31,  4.10it/s]"
     ]
    },
    {
     "name": "stdout",
     "output_type": "stream",
     "text": [
      "0.012124698609113693\n",
      "0.010636855848133564\n"
     ]
    },
    {
     "name": "stderr",
     "output_type": "stream",
     "text": [
      " 11%|█         | 109/975 [00:27<03:31,  4.10it/s]"
     ]
    },
    {
     "name": "stdout",
     "output_type": "stream",
     "text": [
      "0.012713095173239708\n",
      "0.019991464912891388\n"
     ]
    },
    {
     "name": "stderr",
     "output_type": "stream",
     "text": [
      " 11%|█▏        | 111/975 [00:27<03:32,  4.07it/s]"
     ]
    },
    {
     "name": "stdout",
     "output_type": "stream",
     "text": [
      "0.010963160544633865\n",
      "0.011729631572961807\n"
     ]
    },
    {
     "name": "stderr",
     "output_type": "stream",
     "text": [
      " 12%|█▏        | 113/975 [00:28<03:31,  4.08it/s]"
     ]
    },
    {
     "name": "stdout",
     "output_type": "stream",
     "text": [
      "0.00784778967499733\n",
      "0.01247994415462017\n"
     ]
    },
    {
     "name": "stderr",
     "output_type": "stream",
     "text": [
      " 12%|█▏        | 115/975 [00:28<03:30,  4.08it/s]"
     ]
    },
    {
     "name": "stdout",
     "output_type": "stream",
     "text": [
      "0.010283827781677246\n",
      "0.0162073764950037\n"
     ]
    },
    {
     "name": "stderr",
     "output_type": "stream",
     "text": [
      " 12%|█▏        | 117/975 [00:29<03:30,  4.08it/s]"
     ]
    },
    {
     "name": "stdout",
     "output_type": "stream",
     "text": [
      "0.015434551984071732\n",
      "0.017049474641680717\n"
     ]
    },
    {
     "name": "stderr",
     "output_type": "stream",
     "text": [
      " 12%|█▏        | 119/975 [00:29<03:29,  4.08it/s]"
     ]
    },
    {
     "name": "stdout",
     "output_type": "stream",
     "text": [
      "0.013031801208853722\n",
      "0.0156040508300066\n"
     ]
    },
    {
     "name": "stderr",
     "output_type": "stream",
     "text": [
      " 12%|█▏        | 121/975 [00:30<03:28,  4.09it/s]"
     ]
    },
    {
     "name": "stdout",
     "output_type": "stream",
     "text": [
      "0.010061198845505714\n",
      "0.00839189998805523\n"
     ]
    },
    {
     "name": "stderr",
     "output_type": "stream",
     "text": [
      " 13%|█▎        | 123/975 [00:30<03:26,  4.13it/s]"
     ]
    },
    {
     "name": "stdout",
     "output_type": "stream",
     "text": [
      "0.012408178299665451\n",
      "0.013871496543288231\n"
     ]
    },
    {
     "name": "stderr",
     "output_type": "stream",
     "text": [
      " 13%|█▎        | 125/975 [00:31<03:24,  4.16it/s]"
     ]
    },
    {
     "name": "stdout",
     "output_type": "stream",
     "text": [
      "0.012611756101250648\n",
      "0.010077646002173424\n"
     ]
    },
    {
     "name": "stderr",
     "output_type": "stream",
     "text": [
      " 13%|█▎        | 127/975 [00:31<03:25,  4.12it/s]"
     ]
    },
    {
     "name": "stdout",
     "output_type": "stream",
     "text": [
      "0.020292574539780617\n",
      "0.01023150235414505\n"
     ]
    },
    {
     "name": "stderr",
     "output_type": "stream",
     "text": [
      " 13%|█▎        | 129/975 [00:32<03:24,  4.13it/s]"
     ]
    },
    {
     "name": "stdout",
     "output_type": "stream",
     "text": [
      "0.025485744699835777\n",
      "0.01601271703839302\n"
     ]
    },
    {
     "name": "stderr",
     "output_type": "stream",
     "text": [
      " 13%|█▎        | 131/975 [00:32<03:25,  4.10it/s]"
     ]
    },
    {
     "name": "stdout",
     "output_type": "stream",
     "text": [
      "0.017461732029914856\n",
      "0.015094381757080555\n"
     ]
    },
    {
     "name": "stderr",
     "output_type": "stream",
     "text": [
      " 14%|█▎        | 133/975 [00:33<03:24,  4.12it/s]"
     ]
    },
    {
     "name": "stdout",
     "output_type": "stream",
     "text": [
      "0.015138020738959312\n",
      "0.009760755114257336\n"
     ]
    },
    {
     "name": "stderr",
     "output_type": "stream",
     "text": [
      " 14%|█▍        | 135/975 [00:33<03:23,  4.13it/s]"
     ]
    },
    {
     "name": "stdout",
     "output_type": "stream",
     "text": [
      "0.014984427019953728\n",
      "0.017720475792884827\n"
     ]
    },
    {
     "name": "stderr",
     "output_type": "stream",
     "text": [
      " 14%|█▍        | 137/975 [00:34<03:22,  4.13it/s]"
     ]
    },
    {
     "name": "stdout",
     "output_type": "stream",
     "text": [
      "0.01282423734664917\n",
      "0.01680751144886017\n"
     ]
    },
    {
     "name": "stderr",
     "output_type": "stream",
     "text": [
      " 14%|█▍        | 139/975 [00:34<03:21,  4.15it/s]"
     ]
    },
    {
     "name": "stdout",
     "output_type": "stream",
     "text": [
      "0.012856733053922653\n",
      "0.013652347959578037\n"
     ]
    },
    {
     "name": "stderr",
     "output_type": "stream",
     "text": [
      " 14%|█▍        | 141/975 [00:34<03:22,  4.11it/s]"
     ]
    },
    {
     "name": "stdout",
     "output_type": "stream",
     "text": [
      "0.01260046474635601\n",
      "0.008700279518961906\n"
     ]
    },
    {
     "name": "stderr",
     "output_type": "stream",
     "text": [
      " 15%|█▍        | 143/975 [00:35<03:22,  4.11it/s]"
     ]
    },
    {
     "name": "stdout",
     "output_type": "stream",
     "text": [
      "0.011537684127688408\n",
      "0.010427793487906456\n"
     ]
    },
    {
     "name": "stderr",
     "output_type": "stream",
     "text": [
      " 15%|█▍        | 145/975 [00:35<03:22,  4.10it/s]"
     ]
    },
    {
     "name": "stdout",
     "output_type": "stream",
     "text": [
      "0.02284948155283928\n",
      "0.010264232754707336\n"
     ]
    },
    {
     "name": "stderr",
     "output_type": "stream",
     "text": [
      " 15%|█▌        | 147/975 [00:36<03:20,  4.13it/s]"
     ]
    },
    {
     "name": "stdout",
     "output_type": "stream",
     "text": [
      "0.018492378294467926\n",
      "0.011577390134334564\n"
     ]
    },
    {
     "name": "stderr",
     "output_type": "stream",
     "text": [
      " 15%|█▌        | 149/975 [00:36<03:20,  4.12it/s]"
     ]
    },
    {
     "name": "stdout",
     "output_type": "stream",
     "text": [
      "0.010000675916671753\n",
      "0.01943184994161129\n"
     ]
    },
    {
     "name": "stderr",
     "output_type": "stream",
     "text": [
      " 15%|█▌        | 151/975 [00:37<03:21,  4.08it/s]"
     ]
    },
    {
     "name": "stdout",
     "output_type": "stream",
     "text": [
      "0.0116744888946414\n",
      "0.016762368381023407\n"
     ]
    },
    {
     "name": "stderr",
     "output_type": "stream",
     "text": [
      " 16%|█▌        | 153/975 [00:37<03:22,  4.07it/s]"
     ]
    },
    {
     "name": "stdout",
     "output_type": "stream",
     "text": [
      "0.011961612850427628\n",
      "0.012123318389058113\n"
     ]
    },
    {
     "name": "stderr",
     "output_type": "stream",
     "text": [
      " 16%|█▌        | 155/975 [00:38<03:21,  4.08it/s]"
     ]
    },
    {
     "name": "stdout",
     "output_type": "stream",
     "text": [
      "0.012252680957317352\n",
      "0.01367537584155798\n"
     ]
    },
    {
     "name": "stderr",
     "output_type": "stream",
     "text": [
      " 16%|█▌        | 157/975 [00:38<03:20,  4.09it/s]"
     ]
    },
    {
     "name": "stdout",
     "output_type": "stream",
     "text": [
      "0.014143666252493858\n",
      "0.0122111476957798\n"
     ]
    },
    {
     "name": "stderr",
     "output_type": "stream",
     "text": [
      " 16%|█▋        | 159/975 [00:39<03:19,  4.10it/s]"
     ]
    },
    {
     "name": "stdout",
     "output_type": "stream",
     "text": [
      "0.007292039692401886\n",
      "0.011618291959166527\n"
     ]
    },
    {
     "name": "stderr",
     "output_type": "stream",
     "text": [
      " 17%|█▋        | 161/975 [00:39<03:19,  4.09it/s]"
     ]
    },
    {
     "name": "stdout",
     "output_type": "stream",
     "text": [
      "0.015605305321514606\n",
      "0.022681724280118942\n"
     ]
    },
    {
     "name": "stderr",
     "output_type": "stream",
     "text": [
      " 17%|█▋        | 163/975 [00:40<03:18,  4.10it/s]"
     ]
    },
    {
     "name": "stdout",
     "output_type": "stream",
     "text": [
      "0.015158865600824356\n",
      "0.01014670915901661\n"
     ]
    },
    {
     "name": "stderr",
     "output_type": "stream",
     "text": [
      " 17%|█▋        | 165/975 [00:40<03:18,  4.08it/s]"
     ]
    },
    {
     "name": "stdout",
     "output_type": "stream",
     "text": [
      "0.01469527930021286\n",
      "0.0075294822454452515\n"
     ]
    },
    {
     "name": "stderr",
     "output_type": "stream",
     "text": [
      " 17%|█▋        | 167/975 [00:41<03:15,  4.12it/s]"
     ]
    },
    {
     "name": "stdout",
     "output_type": "stream",
     "text": [
      "0.00927964597940445\n",
      "0.01541055366396904\n"
     ]
    },
    {
     "name": "stderr",
     "output_type": "stream",
     "text": [
      " 17%|█▋        | 169/975 [00:41<03:14,  4.14it/s]"
     ]
    },
    {
     "name": "stdout",
     "output_type": "stream",
     "text": [
      "0.014312800019979477\n",
      "0.012790866196155548\n"
     ]
    },
    {
     "name": "stderr",
     "output_type": "stream",
     "text": [
      " 18%|█▊        | 171/975 [00:42<03:14,  4.14it/s]"
     ]
    },
    {
     "name": "stdout",
     "output_type": "stream",
     "text": [
      "0.007792163640260696\n",
      "0.017587773501873016\n"
     ]
    },
    {
     "name": "stderr",
     "output_type": "stream",
     "text": [
      " 18%|█▊        | 173/975 [00:42<03:14,  4.12it/s]"
     ]
    },
    {
     "name": "stdout",
     "output_type": "stream",
     "text": [
      "0.018529556691646576\n",
      "0.01679195649921894\n"
     ]
    },
    {
     "name": "stderr",
     "output_type": "stream",
     "text": [
      " 18%|█▊        | 175/975 [00:43<03:14,  4.12it/s]"
     ]
    },
    {
     "name": "stdout",
     "output_type": "stream",
     "text": [
      "0.010914333164691925\n",
      "0.007506301626563072\n"
     ]
    },
    {
     "name": "stderr",
     "output_type": "stream",
     "text": [
      " 18%|█▊        | 177/975 [00:43<03:18,  4.02it/s]"
     ]
    },
    {
     "name": "stdout",
     "output_type": "stream",
     "text": [
      "0.010486014187335968\n",
      "0.010903362184762955\n"
     ]
    },
    {
     "name": "stderr",
     "output_type": "stream",
     "text": [
      " 18%|█▊        | 179/975 [00:44<03:20,  3.98it/s]"
     ]
    },
    {
     "name": "stdout",
     "output_type": "stream",
     "text": [
      "0.014526745304465294\n",
      "0.014933886006474495\n"
     ]
    },
    {
     "name": "stderr",
     "output_type": "stream",
     "text": [
      " 19%|█▊        | 181/975 [00:44<03:18,  3.99it/s]"
     ]
    },
    {
     "name": "stdout",
     "output_type": "stream",
     "text": [
      "0.01402314007282257\n",
      "0.013059351593255997\n"
     ]
    },
    {
     "name": "stderr",
     "output_type": "stream",
     "text": [
      " 19%|█▉        | 183/975 [00:45<03:17,  4.00it/s]"
     ]
    },
    {
     "name": "stdout",
     "output_type": "stream",
     "text": [
      "0.020641878247261047\n",
      "0.012179955840110779\n"
     ]
    },
    {
     "name": "stderr",
     "output_type": "stream",
     "text": [
      " 19%|█▉        | 185/975 [00:45<03:17,  4.00it/s]"
     ]
    },
    {
     "name": "stdout",
     "output_type": "stream",
     "text": [
      "0.0062003303319215775\n",
      "0.01345636323094368\n"
     ]
    },
    {
     "name": "stderr",
     "output_type": "stream",
     "text": [
      " 19%|█▉        | 187/975 [00:46<03:15,  4.04it/s]"
     ]
    },
    {
     "name": "stdout",
     "output_type": "stream",
     "text": [
      "0.011384930461645126\n",
      "0.018420208245515823\n"
     ]
    },
    {
     "name": "stderr",
     "output_type": "stream",
     "text": [
      " 19%|█▉        | 189/975 [00:46<03:12,  4.07it/s]"
     ]
    },
    {
     "name": "stdout",
     "output_type": "stream",
     "text": [
      "0.016120368614792824\n",
      "0.009908951818943024\n"
     ]
    },
    {
     "name": "stderr",
     "output_type": "stream",
     "text": [
      " 20%|█▉        | 191/975 [00:47<03:13,  4.05it/s]"
     ]
    },
    {
     "name": "stdout",
     "output_type": "stream",
     "text": [
      "0.020748067647218704\n",
      "0.02112988568842411\n"
     ]
    },
    {
     "name": "stderr",
     "output_type": "stream",
     "text": [
      " 20%|█▉        | 193/975 [00:47<03:12,  4.05it/s]"
     ]
    },
    {
     "name": "stdout",
     "output_type": "stream",
     "text": [
      "0.012699300423264503\n",
      "0.01396862417459488\n"
     ]
    },
    {
     "name": "stderr",
     "output_type": "stream",
     "text": [
      " 20%|██        | 195/975 [00:48<03:10,  4.10it/s]"
     ]
    },
    {
     "name": "stdout",
     "output_type": "stream",
     "text": [
      "0.015452045947313309\n",
      "0.009617196395993233\n"
     ]
    },
    {
     "name": "stderr",
     "output_type": "stream",
     "text": [
      " 20%|██        | 197/975 [00:48<03:08,  4.12it/s]"
     ]
    },
    {
     "name": "stdout",
     "output_type": "stream",
     "text": [
      "0.011290553957223892\n",
      "0.010140310972929\n"
     ]
    },
    {
     "name": "stderr",
     "output_type": "stream",
     "text": [
      " 20%|██        | 199/975 [00:49<03:07,  4.15it/s]"
     ]
    },
    {
     "name": "stdout",
     "output_type": "stream",
     "text": [
      "0.010769288055598736\n",
      "0.009454309940338135\n"
     ]
    },
    {
     "name": "stderr",
     "output_type": "stream",
     "text": [
      " 21%|██        | 201/975 [00:49<03:06,  4.16it/s]"
     ]
    },
    {
     "name": "stdout",
     "output_type": "stream",
     "text": [
      "0.01579737849533558\n",
      "0.0094863660633564\n"
     ]
    },
    {
     "name": "stderr",
     "output_type": "stream",
     "text": [
      " 21%|██        | 203/975 [00:50<03:06,  4.14it/s]"
     ]
    },
    {
     "name": "stdout",
     "output_type": "stream",
     "text": [
      "0.011024238541722298\n",
      "0.01012739073485136\n"
     ]
    },
    {
     "name": "stderr",
     "output_type": "stream",
     "text": [
      " 21%|██        | 205/975 [00:50<03:05,  4.16it/s]"
     ]
    },
    {
     "name": "stdout",
     "output_type": "stream",
     "text": [
      "0.009831562638282776\n",
      "0.010165449231863022\n"
     ]
    },
    {
     "name": "stderr",
     "output_type": "stream",
     "text": [
      " 21%|██        | 207/975 [00:51<03:08,  4.07it/s]"
     ]
    },
    {
     "name": "stdout",
     "output_type": "stream",
     "text": [
      "0.014541604556143284\n",
      "0.009551888331770897\n"
     ]
    },
    {
     "name": "stderr",
     "output_type": "stream",
     "text": [
      " 21%|██▏       | 209/975 [00:51<03:07,  4.09it/s]"
     ]
    },
    {
     "name": "stdout",
     "output_type": "stream",
     "text": [
      "0.008539985865354538\n",
      "0.01975809410214424\n"
     ]
    },
    {
     "name": "stderr",
     "output_type": "stream",
     "text": [
      " 22%|██▏       | 211/975 [00:52<03:06,  4.09it/s]"
     ]
    },
    {
     "name": "stdout",
     "output_type": "stream",
     "text": [
      "0.008313188329339027\n",
      "0.016459781676530838\n"
     ]
    },
    {
     "name": "stderr",
     "output_type": "stream",
     "text": [
      " 22%|██▏       | 213/975 [00:52<03:04,  4.12it/s]"
     ]
    },
    {
     "name": "stdout",
     "output_type": "stream",
     "text": [
      "0.014707591384649277\n",
      "0.030654869973659515\n"
     ]
    },
    {
     "name": "stderr",
     "output_type": "stream",
     "text": [
      " 22%|██▏       | 215/975 [00:53<03:03,  4.14it/s]"
     ]
    },
    {
     "name": "stdout",
     "output_type": "stream",
     "text": [
      "0.018816091120243073\n",
      "0.011104293167591095\n"
     ]
    },
    {
     "name": "stderr",
     "output_type": "stream",
     "text": [
      " 22%|██▏       | 217/975 [00:53<03:04,  4.11it/s]"
     ]
    },
    {
     "name": "stdout",
     "output_type": "stream",
     "text": [
      "0.011926688253879547\n",
      "0.011228982359170914\n"
     ]
    },
    {
     "name": "stderr",
     "output_type": "stream",
     "text": [
      " 22%|██▏       | 219/975 [00:54<03:04,  4.11it/s]"
     ]
    },
    {
     "name": "stdout",
     "output_type": "stream",
     "text": [
      "0.018206261098384857\n",
      "0.008460748940706253\n"
     ]
    },
    {
     "name": "stderr",
     "output_type": "stream",
     "text": [
      " 23%|██▎       | 221/975 [00:54<03:04,  4.09it/s]"
     ]
    },
    {
     "name": "stdout",
     "output_type": "stream",
     "text": [
      "0.01630203239619732\n",
      "0.012782245874404907\n"
     ]
    },
    {
     "name": "stderr",
     "output_type": "stream",
     "text": [
      " 23%|██▎       | 223/975 [00:55<03:01,  4.14it/s]"
     ]
    },
    {
     "name": "stdout",
     "output_type": "stream",
     "text": [
      "0.019753869622945786\n",
      "0.011197681538760662\n"
     ]
    },
    {
     "name": "stderr",
     "output_type": "stream",
     "text": [
      " 23%|██▎       | 225/975 [00:55<03:00,  4.15it/s]"
     ]
    },
    {
     "name": "stdout",
     "output_type": "stream",
     "text": [
      "0.014953620731830597\n",
      "0.012341603636741638\n"
     ]
    },
    {
     "name": "stderr",
     "output_type": "stream",
     "text": [
      " 23%|██▎       | 227/975 [00:55<02:59,  4.16it/s]"
     ]
    },
    {
     "name": "stdout",
     "output_type": "stream",
     "text": [
      "0.010009821504354477\n",
      "0.020389072597026825\n"
     ]
    },
    {
     "name": "stderr",
     "output_type": "stream",
     "text": [
      " 23%|██▎       | 229/975 [00:56<02:59,  4.15it/s]"
     ]
    },
    {
     "name": "stdout",
     "output_type": "stream",
     "text": [
      "0.013728529214859009\n",
      "0.009813785552978516\n"
     ]
    },
    {
     "name": "stderr",
     "output_type": "stream",
     "text": [
      " 24%|██▎       | 231/975 [00:56<02:58,  4.16it/s]"
     ]
    },
    {
     "name": "stdout",
     "output_type": "stream",
     "text": [
      "0.009038954973220825\n",
      "0.006953614763915539\n"
     ]
    },
    {
     "name": "stderr",
     "output_type": "stream",
     "text": [
      " 24%|██▍       | 233/975 [00:57<02:58,  4.16it/s]"
     ]
    },
    {
     "name": "stdout",
     "output_type": "stream",
     "text": [
      "0.008148901164531708\n",
      "0.015581183135509491\n"
     ]
    },
    {
     "name": "stderr",
     "output_type": "stream",
     "text": [
      " 24%|██▍       | 235/975 [00:57<03:00,  4.11it/s]"
     ]
    },
    {
     "name": "stdout",
     "output_type": "stream",
     "text": [
      "0.01503908634185791\n",
      "0.009536810219287872\n"
     ]
    },
    {
     "name": "stderr",
     "output_type": "stream",
     "text": [
      " 24%|██▍       | 237/975 [00:58<02:59,  4.12it/s]"
     ]
    },
    {
     "name": "stdout",
     "output_type": "stream",
     "text": [
      "0.016969358548521996\n",
      "0.010620445013046265\n"
     ]
    },
    {
     "name": "stderr",
     "output_type": "stream",
     "text": [
      " 25%|██▍       | 239/975 [00:58<03:00,  4.08it/s]"
     ]
    },
    {
     "name": "stdout",
     "output_type": "stream",
     "text": [
      "0.015712672844529152\n",
      "0.009309295564889908\n"
     ]
    },
    {
     "name": "stderr",
     "output_type": "stream",
     "text": [
      " 25%|██▍       | 241/975 [00:59<02:59,  4.10it/s]"
     ]
    },
    {
     "name": "stdout",
     "output_type": "stream",
     "text": [
      "0.014269936829805374\n",
      "0.007822392508387566\n"
     ]
    },
    {
     "name": "stderr",
     "output_type": "stream",
     "text": [
      " 25%|██▍       | 243/975 [00:59<02:58,  4.09it/s]"
     ]
    },
    {
     "name": "stdout",
     "output_type": "stream",
     "text": [
      "0.007319683209061623\n",
      "0.0114973783493042\n"
     ]
    },
    {
     "name": "stderr",
     "output_type": "stream",
     "text": [
      " 25%|██▌       | 245/975 [01:00<02:57,  4.10it/s]"
     ]
    },
    {
     "name": "stdout",
     "output_type": "stream",
     "text": [
      "0.006955228745937347\n",
      "0.013358000665903091\n"
     ]
    },
    {
     "name": "stderr",
     "output_type": "stream",
     "text": [
      " 25%|██▌       | 247/975 [01:00<02:58,  4.07it/s]"
     ]
    },
    {
     "name": "stdout",
     "output_type": "stream",
     "text": [
      "0.018907103687524796\n",
      "0.010258364491164684\n"
     ]
    },
    {
     "name": "stderr",
     "output_type": "stream",
     "text": [
      " 26%|██▌       | 249/975 [01:01<02:59,  4.05it/s]"
     ]
    },
    {
     "name": "stdout",
     "output_type": "stream",
     "text": [
      "0.010429736226797104\n",
      "0.011754006147384644\n"
     ]
    },
    {
     "name": "stderr",
     "output_type": "stream",
     "text": [
      " 26%|██▌       | 251/975 [01:01<02:57,  4.07it/s]"
     ]
    },
    {
     "name": "stdout",
     "output_type": "stream",
     "text": [
      "0.011757783591747284\n",
      "0.01048117596656084\n"
     ]
    },
    {
     "name": "stderr",
     "output_type": "stream",
     "text": [
      " 26%|██▌       | 253/975 [01:02<02:57,  4.07it/s]"
     ]
    },
    {
     "name": "stdout",
     "output_type": "stream",
     "text": [
      "0.01437217928469181\n",
      "0.010149013251066208\n"
     ]
    },
    {
     "name": "stderr",
     "output_type": "stream",
     "text": [
      " 26%|██▌       | 255/975 [01:02<02:55,  4.11it/s]"
     ]
    },
    {
     "name": "stdout",
     "output_type": "stream",
     "text": [
      "0.03710654750466347\n",
      "0.010896023362874985\n"
     ]
    },
    {
     "name": "stderr",
     "output_type": "stream",
     "text": [
      " 26%|██▋       | 257/975 [01:03<02:54,  4.12it/s]"
     ]
    },
    {
     "name": "stdout",
     "output_type": "stream",
     "text": [
      "0.00985787808895111\n",
      "0.014267373830080032\n"
     ]
    },
    {
     "name": "stderr",
     "output_type": "stream",
     "text": [
      " 27%|██▋       | 259/975 [01:03<02:54,  4.09it/s]"
     ]
    },
    {
     "name": "stdout",
     "output_type": "stream",
     "text": [
      "0.010604795068502426\n",
      "0.0194608885794878\n"
     ]
    },
    {
     "name": "stderr",
     "output_type": "stream",
     "text": [
      " 27%|██▋       | 261/975 [01:04<02:55,  4.07it/s]"
     ]
    },
    {
     "name": "stdout",
     "output_type": "stream",
     "text": [
      "0.020970337092876434\n",
      "0.015250075608491898\n"
     ]
    },
    {
     "name": "stderr",
     "output_type": "stream",
     "text": [
      " 27%|██▋       | 263/975 [01:04<02:55,  4.05it/s]"
     ]
    },
    {
     "name": "stdout",
     "output_type": "stream",
     "text": [
      "0.014717325568199158\n",
      "0.01631944254040718\n"
     ]
    },
    {
     "name": "stderr",
     "output_type": "stream",
     "text": [
      " 27%|██▋       | 265/975 [01:05<02:56,  4.02it/s]"
     ]
    },
    {
     "name": "stdout",
     "output_type": "stream",
     "text": [
      "0.014706045389175415\n",
      "0.01570797711610794\n"
     ]
    },
    {
     "name": "stderr",
     "output_type": "stream",
     "text": [
      " 27%|██▋       | 267/975 [01:05<02:55,  4.03it/s]"
     ]
    },
    {
     "name": "stdout",
     "output_type": "stream",
     "text": [
      "0.01155620813369751\n",
      "0.01565369963645935\n"
     ]
    },
    {
     "name": "stderr",
     "output_type": "stream",
     "text": [
      " 28%|██▊       | 269/975 [01:06<02:53,  4.06it/s]"
     ]
    },
    {
     "name": "stdout",
     "output_type": "stream",
     "text": [
      "0.016935374587774277\n",
      "0.009303880855441093\n"
     ]
    },
    {
     "name": "stderr",
     "output_type": "stream",
     "text": [
      " 28%|██▊       | 271/975 [01:06<02:57,  3.97it/s]"
     ]
    },
    {
     "name": "stdout",
     "output_type": "stream",
     "text": [
      "0.014843475073575974\n",
      "0.027899008244276047\n"
     ]
    },
    {
     "name": "stderr",
     "output_type": "stream",
     "text": [
      " 28%|██▊       | 273/975 [01:07<02:55,  3.99it/s]"
     ]
    },
    {
     "name": "stdout",
     "output_type": "stream",
     "text": [
      "0.012973900884389877\n",
      "0.014230761677026749\n"
     ]
    },
    {
     "name": "stderr",
     "output_type": "stream",
     "text": [
      " 28%|██▊       | 275/975 [01:07<02:53,  4.03it/s]"
     ]
    },
    {
     "name": "stdout",
     "output_type": "stream",
     "text": [
      "0.015377674251794815\n",
      "0.006641369313001633\n"
     ]
    },
    {
     "name": "stderr",
     "output_type": "stream",
     "text": [
      " 28%|██▊       | 277/975 [01:08<02:51,  4.07it/s]"
     ]
    },
    {
     "name": "stdout",
     "output_type": "stream",
     "text": [
      "0.008927088230848312\n",
      "0.009317256510257721\n"
     ]
    },
    {
     "name": "stderr",
     "output_type": "stream",
     "text": [
      " 29%|██▊       | 279/975 [01:08<02:52,  4.04it/s]"
     ]
    },
    {
     "name": "stdout",
     "output_type": "stream",
     "text": [
      "0.00977923534810543\n",
      "0.01107805222272873\n"
     ]
    },
    {
     "name": "stderr",
     "output_type": "stream",
     "text": [
      " 29%|██▉       | 281/975 [01:09<02:49,  4.09it/s]"
     ]
    },
    {
     "name": "stdout",
     "output_type": "stream",
     "text": [
      "0.018054421991109848\n",
      "0.021811848506331444\n"
     ]
    },
    {
     "name": "stderr",
     "output_type": "stream",
     "text": [
      " 29%|██▉       | 283/975 [01:09<02:49,  4.09it/s]"
     ]
    },
    {
     "name": "stdout",
     "output_type": "stream",
     "text": [
      "0.012748387642204762\n",
      "0.011541005223989487\n"
     ]
    },
    {
     "name": "stderr",
     "output_type": "stream",
     "text": [
      " 29%|██▉       | 285/975 [01:10<02:49,  4.08it/s]"
     ]
    },
    {
     "name": "stdout",
     "output_type": "stream",
     "text": [
      "0.013754647225141525\n",
      "0.010350718162953854\n"
     ]
    },
    {
     "name": "stderr",
     "output_type": "stream",
     "text": [
      " 29%|██▉       | 287/975 [01:10<02:48,  4.10it/s]"
     ]
    },
    {
     "name": "stdout",
     "output_type": "stream",
     "text": [
      "0.015597563236951828\n",
      "0.01078886166214943\n"
     ]
    },
    {
     "name": "stderr",
     "output_type": "stream",
     "text": [
      " 30%|██▉       | 289/975 [01:11<02:46,  4.11it/s]"
     ]
    },
    {
     "name": "stdout",
     "output_type": "stream",
     "text": [
      "0.014249762520194054\n",
      "0.023905863985419273\n"
     ]
    },
    {
     "name": "stderr",
     "output_type": "stream",
     "text": [
      " 30%|██▉       | 291/975 [01:11<02:46,  4.10it/s]"
     ]
    },
    {
     "name": "stdout",
     "output_type": "stream",
     "text": [
      "0.01666286773979664\n",
      "0.013477220200002193\n"
     ]
    },
    {
     "name": "stderr",
     "output_type": "stream",
     "text": [
      " 30%|███       | 293/975 [01:12<02:45,  4.13it/s]"
     ]
    },
    {
     "name": "stdout",
     "output_type": "stream",
     "text": [
      "0.01127874106168747\n",
      "0.007828619331121445\n"
     ]
    },
    {
     "name": "stderr",
     "output_type": "stream",
     "text": [
      " 30%|███       | 295/975 [01:12<02:43,  4.16it/s]"
     ]
    },
    {
     "name": "stdout",
     "output_type": "stream",
     "text": [
      "0.015585651621222496\n",
      "0.010996829718351364\n"
     ]
    },
    {
     "name": "stderr",
     "output_type": "stream",
     "text": [
      " 30%|███       | 297/975 [01:13<02:45,  4.09it/s]"
     ]
    },
    {
     "name": "stdout",
     "output_type": "stream",
     "text": [
      "0.0106572974473238\n",
      "0.011049238964915276\n"
     ]
    },
    {
     "name": "stderr",
     "output_type": "stream",
     "text": [
      " 31%|███       | 299/975 [01:13<02:45,  4.08it/s]"
     ]
    },
    {
     "name": "stdout",
     "output_type": "stream",
     "text": [
      "0.01711052842438221\n",
      "0.012405309826135635\n"
     ]
    },
    {
     "name": "stderr",
     "output_type": "stream",
     "text": [
      " 31%|███       | 301/975 [01:14<02:44,  4.09it/s]"
     ]
    },
    {
     "name": "stdout",
     "output_type": "stream",
     "text": [
      "0.014816934242844582\n",
      "0.011236511170864105\n"
     ]
    },
    {
     "name": "stderr",
     "output_type": "stream",
     "text": [
      " 31%|███       | 303/975 [01:14<02:42,  4.14it/s]"
     ]
    },
    {
     "name": "stdout",
     "output_type": "stream",
     "text": [
      "0.015726078301668167\n",
      "0.009567713364958763\n"
     ]
    },
    {
     "name": "stderr",
     "output_type": "stream",
     "text": [
      " 31%|███▏      | 305/975 [01:15<02:41,  4.14it/s]"
     ]
    },
    {
     "name": "stdout",
     "output_type": "stream",
     "text": [
      "0.01037672907114029\n",
      "0.018340758979320526\n"
     ]
    },
    {
     "name": "stderr",
     "output_type": "stream",
     "text": [
      " 31%|███▏      | 307/975 [01:15<02:40,  4.16it/s]"
     ]
    },
    {
     "name": "stdout",
     "output_type": "stream",
     "text": [
      "0.019458070397377014\n",
      "0.013692798092961311\n"
     ]
    },
    {
     "name": "stderr",
     "output_type": "stream",
     "text": [
      " 32%|███▏      | 309/975 [01:16<02:41,  4.13it/s]"
     ]
    },
    {
     "name": "stdout",
     "output_type": "stream",
     "text": [
      "0.01329123042523861\n",
      "0.016946403309702873\n"
     ]
    },
    {
     "name": "stderr",
     "output_type": "stream",
     "text": [
      " 32%|███▏      | 311/975 [01:16<02:41,  4.12it/s]"
     ]
    },
    {
     "name": "stdout",
     "output_type": "stream",
     "text": [
      "0.010389190167188644\n",
      "0.01713237166404724\n"
     ]
    },
    {
     "name": "stderr",
     "output_type": "stream",
     "text": [
      " 32%|███▏      | 313/975 [01:17<02:41,  4.10it/s]"
     ]
    },
    {
     "name": "stdout",
     "output_type": "stream",
     "text": [
      "0.011169597506523132\n",
      "0.016574855893850327\n"
     ]
    },
    {
     "name": "stderr",
     "output_type": "stream",
     "text": [
      " 32%|███▏      | 315/975 [01:17<02:41,  4.09it/s]"
     ]
    },
    {
     "name": "stdout",
     "output_type": "stream",
     "text": [
      "0.011509541422128677\n",
      "0.013309292495250702\n"
     ]
    },
    {
     "name": "stderr",
     "output_type": "stream",
     "text": [
      " 33%|███▎      | 317/975 [01:17<02:40,  4.10it/s]"
     ]
    },
    {
     "name": "stdout",
     "output_type": "stream",
     "text": [
      "0.010076943784952164\n",
      "0.01414756290614605\n"
     ]
    },
    {
     "name": "stderr",
     "output_type": "stream",
     "text": [
      " 33%|███▎      | 319/975 [01:18<02:39,  4.11it/s]"
     ]
    },
    {
     "name": "stdout",
     "output_type": "stream",
     "text": [
      "0.010445896536111832\n",
      "0.008538182824850082\n"
     ]
    },
    {
     "name": "stderr",
     "output_type": "stream",
     "text": [
      " 33%|███▎      | 321/975 [01:18<02:41,  4.04it/s]"
     ]
    },
    {
     "name": "stdout",
     "output_type": "stream",
     "text": [
      "0.013922140002250671\n",
      "0.010778510943055153\n"
     ]
    },
    {
     "name": "stderr",
     "output_type": "stream",
     "text": [
      " 33%|███▎      | 323/975 [01:19<02:41,  4.05it/s]"
     ]
    },
    {
     "name": "stdout",
     "output_type": "stream",
     "text": [
      "0.01137714833021164\n",
      "0.012128178030252457\n"
     ]
    },
    {
     "name": "stderr",
     "output_type": "stream",
     "text": [
      " 33%|███▎      | 325/975 [01:19<02:38,  4.09it/s]"
     ]
    },
    {
     "name": "stdout",
     "output_type": "stream",
     "text": [
      "0.010401343926787376\n",
      "0.013070393353700638\n"
     ]
    },
    {
     "name": "stderr",
     "output_type": "stream",
     "text": [
      " 34%|███▎      | 327/975 [01:20<02:38,  4.08it/s]"
     ]
    },
    {
     "name": "stdout",
     "output_type": "stream",
     "text": [
      "0.011040639132261276\n",
      "0.01297116931527853\n"
     ]
    },
    {
     "name": "stderr",
     "output_type": "stream",
     "text": [
      " 34%|███▎      | 329/975 [01:20<02:37,  4.10it/s]"
     ]
    },
    {
     "name": "stdout",
     "output_type": "stream",
     "text": [
      "0.015719788148999214\n",
      "0.01542176865041256\n"
     ]
    },
    {
     "name": "stderr",
     "output_type": "stream",
     "text": [
      " 34%|███▍      | 331/975 [01:21<02:37,  4.10it/s]"
     ]
    },
    {
     "name": "stdout",
     "output_type": "stream",
     "text": [
      "0.014762284234166145\n",
      "0.008844271302223206\n"
     ]
    },
    {
     "name": "stderr",
     "output_type": "stream",
     "text": [
      " 34%|███▍      | 333/975 [01:21<02:35,  4.12it/s]"
     ]
    },
    {
     "name": "stdout",
     "output_type": "stream",
     "text": [
      "0.012608996592462063\n",
      "0.010188771411776543\n"
     ]
    },
    {
     "name": "stderr",
     "output_type": "stream",
     "text": [
      " 34%|███▍      | 335/975 [01:22<02:34,  4.14it/s]"
     ]
    },
    {
     "name": "stdout",
     "output_type": "stream",
     "text": [
      "0.011742772534489632\n",
      "0.011101019568741322\n"
     ]
    },
    {
     "name": "stderr",
     "output_type": "stream",
     "text": [
      " 35%|███▍      | 337/975 [01:22<02:34,  4.13it/s]"
     ]
    },
    {
     "name": "stdout",
     "output_type": "stream",
     "text": [
      "0.01766149140894413\n",
      "0.009214803576469421\n"
     ]
    },
    {
     "name": "stderr",
     "output_type": "stream",
     "text": [
      " 35%|███▍      | 339/975 [01:23<02:34,  4.12it/s]"
     ]
    },
    {
     "name": "stdout",
     "output_type": "stream",
     "text": [
      "0.008880602195858955\n",
      "0.011788295581936836\n"
     ]
    },
    {
     "name": "stderr",
     "output_type": "stream",
     "text": [
      " 35%|███▍      | 341/975 [01:23<02:33,  4.13it/s]"
     ]
    },
    {
     "name": "stdout",
     "output_type": "stream",
     "text": [
      "0.019122540950775146\n",
      "0.016588818281888962\n"
     ]
    },
    {
     "name": "stderr",
     "output_type": "stream",
     "text": [
      " 35%|███▌      | 343/975 [01:24<02:34,  4.09it/s]"
     ]
    },
    {
     "name": "stdout",
     "output_type": "stream",
     "text": [
      "0.011588920839130878\n",
      "0.011589511297643185\n"
     ]
    },
    {
     "name": "stderr",
     "output_type": "stream",
     "text": [
      " 35%|███▌      | 345/975 [01:24<02:33,  4.11it/s]"
     ]
    },
    {
     "name": "stdout",
     "output_type": "stream",
     "text": [
      "0.013334289193153381\n",
      "0.010610288009047508\n"
     ]
    },
    {
     "name": "stderr",
     "output_type": "stream",
     "text": [
      " 36%|███▌      | 347/975 [01:25<02:32,  4.11it/s]"
     ]
    },
    {
     "name": "stdout",
     "output_type": "stream",
     "text": [
      "0.015900304540991783\n",
      "0.011687327176332474\n"
     ]
    },
    {
     "name": "stderr",
     "output_type": "stream",
     "text": [
      " 36%|███▌      | 349/975 [01:25<02:33,  4.07it/s]"
     ]
    },
    {
     "name": "stdout",
     "output_type": "stream",
     "text": [
      "0.01251021958887577\n",
      "0.013470461592078209\n"
     ]
    },
    {
     "name": "stderr",
     "output_type": "stream",
     "text": [
      " 36%|███▌      | 351/975 [01:26<02:34,  4.05it/s]"
     ]
    },
    {
     "name": "stdout",
     "output_type": "stream",
     "text": [
      "0.019416330382227898\n",
      "0.012436481192708015\n"
     ]
    },
    {
     "name": "stderr",
     "output_type": "stream",
     "text": [
      " 36%|███▌      | 353/975 [01:26<02:31,  4.09it/s]"
     ]
    },
    {
     "name": "stdout",
     "output_type": "stream",
     "text": [
      "0.01561727561056614\n",
      "0.01635870710015297\n"
     ]
    },
    {
     "name": "stderr",
     "output_type": "stream",
     "text": [
      " 36%|███▋      | 355/975 [01:27<02:32,  4.07it/s]"
     ]
    },
    {
     "name": "stdout",
     "output_type": "stream",
     "text": [
      "0.016828026622533798\n",
      "0.013213898986577988\n"
     ]
    },
    {
     "name": "stderr",
     "output_type": "stream",
     "text": [
      " 37%|███▋      | 357/975 [01:27<02:29,  4.13it/s]"
     ]
    },
    {
     "name": "stdout",
     "output_type": "stream",
     "text": [
      "0.014607585966587067\n",
      "0.010737214237451553\n"
     ]
    },
    {
     "name": "stderr",
     "output_type": "stream",
     "text": [
      " 37%|███▋      | 359/975 [01:28<02:29,  4.13it/s]"
     ]
    },
    {
     "name": "stdout",
     "output_type": "stream",
     "text": [
      "0.015946516767144203\n",
      "0.011696853674948215\n"
     ]
    },
    {
     "name": "stderr",
     "output_type": "stream",
     "text": [
      " 37%|███▋      | 361/975 [01:28<02:28,  4.12it/s]"
     ]
    },
    {
     "name": "stdout",
     "output_type": "stream",
     "text": [
      "0.013501465320587158\n",
      "0.014677636325359344\n"
     ]
    },
    {
     "name": "stderr",
     "output_type": "stream",
     "text": [
      " 37%|███▋      | 363/975 [01:29<02:28,  4.13it/s]"
     ]
    },
    {
     "name": "stdout",
     "output_type": "stream",
     "text": [
      "0.010458610951900482\n",
      "0.009114198386669159\n"
     ]
    },
    {
     "name": "stderr",
     "output_type": "stream",
     "text": [
      " 37%|███▋      | 365/975 [01:29<02:28,  4.10it/s]"
     ]
    },
    {
     "name": "stdout",
     "output_type": "stream",
     "text": [
      "0.013982877135276794\n",
      "0.009647317230701447\n"
     ]
    },
    {
     "name": "stderr",
     "output_type": "stream",
     "text": [
      " 38%|███▊      | 367/975 [01:30<02:28,  4.09it/s]"
     ]
    },
    {
     "name": "stdout",
     "output_type": "stream",
     "text": [
      "0.014141406863927841\n",
      "0.013441048562526703\n"
     ]
    },
    {
     "name": "stderr",
     "output_type": "stream",
     "text": [
      " 38%|███▊      | 369/975 [01:30<02:26,  4.13it/s]"
     ]
    },
    {
     "name": "stdout",
     "output_type": "stream",
     "text": [
      "0.011246353387832642\n",
      "0.010770061984658241\n"
     ]
    },
    {
     "name": "stderr",
     "output_type": "stream",
     "text": [
      " 38%|███▊      | 371/975 [01:31<02:27,  4.10it/s]"
     ]
    },
    {
     "name": "stdout",
     "output_type": "stream",
     "text": [
      "0.01537593174725771\n",
      "0.010111542418599129\n"
     ]
    },
    {
     "name": "stderr",
     "output_type": "stream",
     "text": [
      " 38%|███▊      | 373/975 [01:31<02:26,  4.10it/s]"
     ]
    },
    {
     "name": "stdout",
     "output_type": "stream",
     "text": [
      "0.012055806815624237\n",
      "0.011913133785128593\n"
     ]
    },
    {
     "name": "stderr",
     "output_type": "stream",
     "text": [
      " 38%|███▊      | 375/975 [01:32<02:26,  4.10it/s]"
     ]
    },
    {
     "name": "stdout",
     "output_type": "stream",
     "text": [
      "0.01773853786289692\n",
      "0.015053133480250835\n"
     ]
    },
    {
     "name": "stderr",
     "output_type": "stream",
     "text": [
      " 39%|███▊      | 377/975 [01:32<02:25,  4.12it/s]"
     ]
    },
    {
     "name": "stdout",
     "output_type": "stream",
     "text": [
      "0.016675127670168877\n",
      "0.02022392861545086\n"
     ]
    },
    {
     "name": "stderr",
     "output_type": "stream",
     "text": [
      " 39%|███▉      | 379/975 [01:33<02:25,  4.10it/s]"
     ]
    },
    {
     "name": "stdout",
     "output_type": "stream",
     "text": [
      "0.009123360738158226\n",
      "0.012765901163220406\n"
     ]
    },
    {
     "name": "stderr",
     "output_type": "stream",
     "text": [
      " 39%|███▉      | 381/975 [01:33<02:24,  4.12it/s]"
     ]
    },
    {
     "name": "stdout",
     "output_type": "stream",
     "text": [
      "0.009900897741317749\n",
      "0.013479487970471382\n"
     ]
    },
    {
     "name": "stderr",
     "output_type": "stream",
     "text": [
      " 39%|███▉      | 383/975 [01:34<02:23,  4.13it/s]"
     ]
    },
    {
     "name": "stdout",
     "output_type": "stream",
     "text": [
      "0.01273070927709341\n",
      "0.010051200166344643\n"
     ]
    },
    {
     "name": "stderr",
     "output_type": "stream",
     "text": [
      " 39%|███▉      | 385/975 [01:34<02:22,  4.15it/s]"
     ]
    },
    {
     "name": "stdout",
     "output_type": "stream",
     "text": [
      "0.01804989017546177\n",
      "0.008398301899433136\n"
     ]
    },
    {
     "name": "stderr",
     "output_type": "stream",
     "text": [
      " 40%|███▉      | 387/975 [01:35<02:22,  4.14it/s]"
     ]
    },
    {
     "name": "stdout",
     "output_type": "stream",
     "text": [
      "0.017235171049833298\n",
      "0.014014825224876404\n"
     ]
    },
    {
     "name": "stderr",
     "output_type": "stream",
     "text": [
      " 40%|███▉      | 389/975 [01:35<02:21,  4.15it/s]"
     ]
    },
    {
     "name": "stdout",
     "output_type": "stream",
     "text": [
      "0.017050981521606445\n",
      "0.022075369954109192\n"
     ]
    },
    {
     "name": "stderr",
     "output_type": "stream",
     "text": [
      " 40%|████      | 391/975 [01:35<02:21,  4.13it/s]"
     ]
    },
    {
     "name": "stdout",
     "output_type": "stream",
     "text": [
      "0.008469754830002785\n",
      "0.012322589755058289\n"
     ]
    },
    {
     "name": "stderr",
     "output_type": "stream",
     "text": [
      " 40%|████      | 393/975 [01:36<02:21,  4.12it/s]"
     ]
    },
    {
     "name": "stdout",
     "output_type": "stream",
     "text": [
      "0.01136142760515213\n",
      "0.012233071029186249\n"
     ]
    },
    {
     "name": "stderr",
     "output_type": "stream",
     "text": [
      " 41%|████      | 395/975 [01:36<02:22,  4.08it/s]"
     ]
    },
    {
     "name": "stdout",
     "output_type": "stream",
     "text": [
      "0.018415790051221848\n",
      "0.010656025260686874\n"
     ]
    },
    {
     "name": "stderr",
     "output_type": "stream",
     "text": [
      " 41%|████      | 397/975 [01:37<02:20,  4.12it/s]"
     ]
    },
    {
     "name": "stdout",
     "output_type": "stream",
     "text": [
      "0.015908747911453247\n",
      "0.009627693332731724\n"
     ]
    },
    {
     "name": "stderr",
     "output_type": "stream",
     "text": [
      " 41%|████      | 399/975 [01:37<02:19,  4.14it/s]"
     ]
    },
    {
     "name": "stdout",
     "output_type": "stream",
     "text": [
      "0.005734790116548538\n",
      "0.01498519629240036\n"
     ]
    },
    {
     "name": "stderr",
     "output_type": "stream",
     "text": [
      " 41%|████      | 401/975 [01:38<02:18,  4.14it/s]"
     ]
    },
    {
     "name": "stdout",
     "output_type": "stream",
     "text": [
      "0.02393890544772148\n",
      "0.012299105525016785\n"
     ]
    },
    {
     "name": "stderr",
     "output_type": "stream",
     "text": [
      " 41%|████▏     | 403/975 [01:38<02:18,  4.14it/s]"
     ]
    },
    {
     "name": "stdout",
     "output_type": "stream",
     "text": [
      "0.021056577563285828\n",
      "0.016279518604278564\n"
     ]
    },
    {
     "name": "stderr",
     "output_type": "stream",
     "text": [
      " 42%|████▏     | 405/975 [01:39<02:16,  4.18it/s]"
     ]
    },
    {
     "name": "stdout",
     "output_type": "stream",
     "text": [
      "0.026922162622213364\n",
      "0.02019258588552475\n"
     ]
    },
    {
     "name": "stderr",
     "output_type": "stream",
     "text": [
      " 42%|████▏     | 407/975 [01:39<02:17,  4.14it/s]"
     ]
    },
    {
     "name": "stdout",
     "output_type": "stream",
     "text": [
      "0.012350544333457947\n",
      "0.014521380886435509\n"
     ]
    },
    {
     "name": "stderr",
     "output_type": "stream",
     "text": [
      " 42%|████▏     | 409/975 [01:40<02:17,  4.12it/s]"
     ]
    },
    {
     "name": "stdout",
     "output_type": "stream",
     "text": [
      "0.011400371789932251\n",
      "0.01553371548652649\n"
     ]
    },
    {
     "name": "stderr",
     "output_type": "stream",
     "text": [
      " 42%|████▏     | 411/975 [01:40<02:17,  4.10it/s]"
     ]
    },
    {
     "name": "stdout",
     "output_type": "stream",
     "text": [
      "0.010697668418288231\n",
      "0.009723693132400513\n"
     ]
    },
    {
     "name": "stderr",
     "output_type": "stream",
     "text": [
      " 42%|████▏     | 413/975 [01:41<02:18,  4.06it/s]"
     ]
    },
    {
     "name": "stdout",
     "output_type": "stream",
     "text": [
      "0.014270246028900146\n",
      "0.030869223177433014\n"
     ]
    },
    {
     "name": "stderr",
     "output_type": "stream",
     "text": [
      " 43%|████▎     | 415/975 [01:41<02:17,  4.09it/s]"
     ]
    },
    {
     "name": "stdout",
     "output_type": "stream",
     "text": [
      "0.011370060034096241\n",
      "0.01772301085293293\n"
     ]
    },
    {
     "name": "stderr",
     "output_type": "stream",
     "text": [
      " 43%|████▎     | 417/975 [01:42<02:15,  4.12it/s]"
     ]
    },
    {
     "name": "stdout",
     "output_type": "stream",
     "text": [
      "0.03416934981942177\n",
      "0.01031026616692543\n"
     ]
    },
    {
     "name": "stderr",
     "output_type": "stream",
     "text": [
      " 43%|████▎     | 419/975 [01:42<02:14,  4.12it/s]"
     ]
    },
    {
     "name": "stdout",
     "output_type": "stream",
     "text": [
      "0.0096806101500988\n",
      "0.01869121938943863\n"
     ]
    },
    {
     "name": "stderr",
     "output_type": "stream",
     "text": [
      " 43%|████▎     | 421/975 [01:43<02:14,  4.12it/s]"
     ]
    },
    {
     "name": "stdout",
     "output_type": "stream",
     "text": [
      "0.01162039116024971\n",
      "0.013382446020841599\n"
     ]
    },
    {
     "name": "stderr",
     "output_type": "stream",
     "text": [
      " 43%|████▎     | 423/975 [01:43<02:14,  4.10it/s]"
     ]
    },
    {
     "name": "stdout",
     "output_type": "stream",
     "text": [
      "0.012343939393758774\n",
      "0.012179499492049217\n"
     ]
    },
    {
     "name": "stderr",
     "output_type": "stream",
     "text": [
      " 44%|████▎     | 425/975 [01:44<02:13,  4.12it/s]"
     ]
    },
    {
     "name": "stdout",
     "output_type": "stream",
     "text": [
      "0.012822166085243225\n",
      "0.014295857399702072\n"
     ]
    },
    {
     "name": "stderr",
     "output_type": "stream",
     "text": [
      " 44%|████▍     | 427/975 [01:44<02:13,  4.10it/s]"
     ]
    },
    {
     "name": "stdout",
     "output_type": "stream",
     "text": [
      "0.01900547556579113\n",
      "0.009341374039649963\n"
     ]
    },
    {
     "name": "stderr",
     "output_type": "stream",
     "text": [
      " 44%|████▍     | 429/975 [01:45<02:13,  4.09it/s]"
     ]
    },
    {
     "name": "stdout",
     "output_type": "stream",
     "text": [
      "0.022662028670310974\n",
      "0.024588819593191147\n"
     ]
    },
    {
     "name": "stderr",
     "output_type": "stream",
     "text": [
      " 44%|████▍     | 431/975 [01:45<02:13,  4.08it/s]"
     ]
    },
    {
     "name": "stdout",
     "output_type": "stream",
     "text": [
      "0.011030847206711769\n",
      "0.018332265317440033\n"
     ]
    },
    {
     "name": "stderr",
     "output_type": "stream",
     "text": [
      " 44%|████▍     | 433/975 [01:46<02:13,  4.07it/s]"
     ]
    },
    {
     "name": "stdout",
     "output_type": "stream",
     "text": [
      "0.016109228134155273\n",
      "0.01559653040021658\n"
     ]
    },
    {
     "name": "stderr",
     "output_type": "stream",
     "text": [
      " 45%|████▍     | 435/975 [01:46<02:11,  4.10it/s]"
     ]
    },
    {
     "name": "stdout",
     "output_type": "stream",
     "text": [
      "0.02381296455860138\n",
      "0.01424390822649002\n"
     ]
    },
    {
     "name": "stderr",
     "output_type": "stream",
     "text": [
      " 45%|████▍     | 437/975 [01:47<02:09,  4.15it/s]"
     ]
    },
    {
     "name": "stdout",
     "output_type": "stream",
     "text": [
      "0.013623874634504318\n",
      "0.017631877213716507\n"
     ]
    },
    {
     "name": "stderr",
     "output_type": "stream",
     "text": [
      " 45%|████▌     | 439/975 [01:47<02:09,  4.13it/s]"
     ]
    },
    {
     "name": "stdout",
     "output_type": "stream",
     "text": [
      "0.017931370064616203\n",
      "0.009446494281291962\n"
     ]
    },
    {
     "name": "stderr",
     "output_type": "stream",
     "text": [
      " 45%|████▌     | 441/975 [01:48<02:09,  4.13it/s]"
     ]
    },
    {
     "name": "stdout",
     "output_type": "stream",
     "text": [
      "0.015641961246728897\n",
      "0.01222587563097477\n"
     ]
    },
    {
     "name": "stderr",
     "output_type": "stream",
     "text": [
      " 45%|████▌     | 443/975 [01:48<02:09,  4.11it/s]"
     ]
    },
    {
     "name": "stdout",
     "output_type": "stream",
     "text": [
      "0.011890653520822525\n",
      "0.008996179327368736\n"
     ]
    },
    {
     "name": "stderr",
     "output_type": "stream",
     "text": [
      " 46%|████▌     | 445/975 [01:49<02:09,  4.11it/s]"
     ]
    },
    {
     "name": "stdout",
     "output_type": "stream",
     "text": [
      "0.01461336761713028\n",
      "0.010114628821611404\n"
     ]
    },
    {
     "name": "stderr",
     "output_type": "stream",
     "text": [
      " 46%|████▌     | 447/975 [01:49<02:09,  4.09it/s]"
     ]
    },
    {
     "name": "stdout",
     "output_type": "stream",
     "text": [
      "0.01026204414665699\n",
      "0.009939217939972878\n"
     ]
    },
    {
     "name": "stderr",
     "output_type": "stream",
     "text": [
      " 46%|████▌     | 449/975 [01:50<02:08,  4.11it/s]"
     ]
    },
    {
     "name": "stdout",
     "output_type": "stream",
     "text": [
      "0.009665075689554214\n",
      "0.012790653854608536\n"
     ]
    },
    {
     "name": "stderr",
     "output_type": "stream",
     "text": [
      " 46%|████▋     | 451/975 [01:50<02:08,  4.07it/s]"
     ]
    },
    {
     "name": "stdout",
     "output_type": "stream",
     "text": [
      "0.021845906972885132\n",
      "0.01804160326719284\n"
     ]
    },
    {
     "name": "stderr",
     "output_type": "stream",
     "text": [
      " 46%|████▋     | 453/975 [01:51<02:08,  4.06it/s]"
     ]
    },
    {
     "name": "stdout",
     "output_type": "stream",
     "text": [
      "0.017246903851628304\n",
      "0.01097216084599495\n"
     ]
    },
    {
     "name": "stderr",
     "output_type": "stream",
     "text": [
      " 47%|████▋     | 455/975 [01:51<02:08,  4.06it/s]"
     ]
    },
    {
     "name": "stdout",
     "output_type": "stream",
     "text": [
      "0.011857621371746063\n",
      "0.010360494256019592\n"
     ]
    },
    {
     "name": "stderr",
     "output_type": "stream",
     "text": [
      " 47%|████▋     | 457/975 [01:52<02:05,  4.11it/s]"
     ]
    },
    {
     "name": "stdout",
     "output_type": "stream",
     "text": [
      "0.012831278145313263\n",
      "0.014017125591635704\n"
     ]
    },
    {
     "name": "stderr",
     "output_type": "stream",
     "text": [
      " 47%|████▋     | 459/975 [01:52<02:05,  4.10it/s]"
     ]
    },
    {
     "name": "stdout",
     "output_type": "stream",
     "text": [
      "0.01096220314502716\n",
      "0.010173732414841652\n"
     ]
    },
    {
     "name": "stderr",
     "output_type": "stream",
     "text": [
      " 47%|████▋     | 461/975 [01:53<02:05,  4.08it/s]"
     ]
    },
    {
     "name": "stdout",
     "output_type": "stream",
     "text": [
      "0.014896746724843979\n",
      "0.016743723303079605\n"
     ]
    },
    {
     "name": "stderr",
     "output_type": "stream",
     "text": [
      " 47%|████▋     | 463/975 [01:53<02:05,  4.09it/s]"
     ]
    },
    {
     "name": "stdout",
     "output_type": "stream",
     "text": [
      "0.016047606244683266\n",
      "0.01845124550163746\n"
     ]
    },
    {
     "name": "stderr",
     "output_type": "stream",
     "text": [
      " 48%|████▊     | 465/975 [01:54<02:05,  4.07it/s]"
     ]
    },
    {
     "name": "stdout",
     "output_type": "stream",
     "text": [
      "0.01283639669418335\n",
      "0.010118432343006134\n"
     ]
    },
    {
     "name": "stderr",
     "output_type": "stream",
     "text": [
      " 48%|████▊     | 467/975 [01:54<02:04,  4.07it/s]"
     ]
    },
    {
     "name": "stdout",
     "output_type": "stream",
     "text": [
      "0.014216447249054909\n",
      "0.014193780720233917\n"
     ]
    },
    {
     "name": "stderr",
     "output_type": "stream",
     "text": [
      " 48%|████▊     | 469/975 [01:55<02:03,  4.09it/s]"
     ]
    },
    {
     "name": "stdout",
     "output_type": "stream",
     "text": [
      "0.009077275171875954\n",
      "0.01008228212594986\n"
     ]
    },
    {
     "name": "stderr",
     "output_type": "stream",
     "text": [
      " 48%|████▊     | 471/975 [01:55<02:03,  4.10it/s]"
     ]
    },
    {
     "name": "stdout",
     "output_type": "stream",
     "text": [
      "0.013879675418138504\n",
      "0.01161307841539383\n"
     ]
    },
    {
     "name": "stderr",
     "output_type": "stream",
     "text": [
      " 49%|████▊     | 473/975 [01:55<02:01,  4.12it/s]"
     ]
    },
    {
     "name": "stdout",
     "output_type": "stream",
     "text": [
      "0.011032305657863617\n",
      "0.011050532571971416\n"
     ]
    },
    {
     "name": "stderr",
     "output_type": "stream",
     "text": [
      " 49%|████▊     | 475/975 [01:56<02:01,  4.13it/s]"
     ]
    },
    {
     "name": "stdout",
     "output_type": "stream",
     "text": [
      "0.01083318516612053\n",
      "0.010358300060033798\n"
     ]
    },
    {
     "name": "stderr",
     "output_type": "stream",
     "text": [
      " 49%|████▉     | 477/975 [01:56<02:00,  4.12it/s]"
     ]
    },
    {
     "name": "stdout",
     "output_type": "stream",
     "text": [
      "0.009510904550552368\n",
      "0.01651850901544094\n"
     ]
    },
    {
     "name": "stderr",
     "output_type": "stream",
     "text": [
      " 49%|████▉     | 479/975 [01:57<02:00,  4.11it/s]"
     ]
    },
    {
     "name": "stdout",
     "output_type": "stream",
     "text": [
      "0.012258602306246758\n",
      "0.011284913867712021\n"
     ]
    },
    {
     "name": "stderr",
     "output_type": "stream",
     "text": [
      " 49%|████▉     | 481/975 [01:57<02:00,  4.10it/s]"
     ]
    },
    {
     "name": "stdout",
     "output_type": "stream",
     "text": [
      "0.00802016630768776\n",
      "0.030894074589014053\n"
     ]
    },
    {
     "name": "stderr",
     "output_type": "stream",
     "text": [
      " 50%|████▉     | 483/975 [01:58<02:00,  4.08it/s]"
     ]
    },
    {
     "name": "stdout",
     "output_type": "stream",
     "text": [
      "0.008543087169528008\n",
      "0.012578204274177551\n"
     ]
    },
    {
     "name": "stderr",
     "output_type": "stream",
     "text": [
      " 50%|████▉     | 485/975 [01:58<02:00,  4.08it/s]"
     ]
    },
    {
     "name": "stdout",
     "output_type": "stream",
     "text": [
      "0.012726307846605778\n",
      "0.01426328718662262\n"
     ]
    },
    {
     "name": "stderr",
     "output_type": "stream",
     "text": [
      " 50%|████▉     | 487/975 [01:59<01:58,  4.11it/s]"
     ]
    },
    {
     "name": "stdout",
     "output_type": "stream",
     "text": [
      "0.019701633602380753\n",
      "0.012343266047537327\n"
     ]
    },
    {
     "name": "stderr",
     "output_type": "stream",
     "text": [
      " 50%|█████     | 489/975 [01:59<01:58,  4.10it/s]"
     ]
    },
    {
     "name": "stdout",
     "output_type": "stream",
     "text": [
      "0.011922402307391167\n",
      "0.01880377158522606\n"
     ]
    },
    {
     "name": "stderr",
     "output_type": "stream",
     "text": [
      " 50%|█████     | 491/975 [02:00<01:57,  4.10it/s]"
     ]
    },
    {
     "name": "stdout",
     "output_type": "stream",
     "text": [
      "0.010329246520996094\n",
      "0.01171642541885376\n"
     ]
    },
    {
     "name": "stderr",
     "output_type": "stream",
     "text": [
      " 51%|█████     | 493/975 [02:00<01:58,  4.08it/s]"
     ]
    },
    {
     "name": "stdout",
     "output_type": "stream",
     "text": [
      "0.01073254831135273\n",
      "0.011021348647773266\n"
     ]
    },
    {
     "name": "stderr",
     "output_type": "stream",
     "text": [
      " 51%|█████     | 495/975 [02:01<01:58,  4.07it/s]"
     ]
    },
    {
     "name": "stdout",
     "output_type": "stream",
     "text": [
      "0.014914173632860184\n",
      "0.015070313587784767\n"
     ]
    },
    {
     "name": "stderr",
     "output_type": "stream",
     "text": [
      " 51%|█████     | 497/975 [02:01<01:56,  4.10it/s]"
     ]
    },
    {
     "name": "stdout",
     "output_type": "stream",
     "text": [
      "0.011109558865427971\n",
      "0.013922963291406631\n"
     ]
    },
    {
     "name": "stderr",
     "output_type": "stream",
     "text": [
      " 51%|█████     | 499/975 [02:02<01:56,  4.10it/s]"
     ]
    },
    {
     "name": "stdout",
     "output_type": "stream",
     "text": [
      "0.017751391977071762\n",
      "0.009971575811505318\n"
     ]
    },
    {
     "name": "stderr",
     "output_type": "stream",
     "text": [
      " 51%|█████▏    | 501/975 [02:02<01:55,  4.12it/s]"
     ]
    },
    {
     "name": "stdout",
     "output_type": "stream",
     "text": [
      "0.009447694756090641\n",
      "0.012370046228170395\n"
     ]
    },
    {
     "name": "stderr",
     "output_type": "stream",
     "text": [
      " 52%|█████▏    | 503/975 [02:03<01:56,  4.06it/s]"
     ]
    },
    {
     "name": "stdout",
     "output_type": "stream",
     "text": [
      "0.014482960104942322\n",
      "0.02002285234630108\n"
     ]
    },
    {
     "name": "stderr",
     "output_type": "stream",
     "text": [
      " 52%|█████▏    | 505/975 [02:03<01:55,  4.07it/s]"
     ]
    },
    {
     "name": "stdout",
     "output_type": "stream",
     "text": [
      "0.005738576874136925\n",
      "0.014274884015321732\n"
     ]
    },
    {
     "name": "stderr",
     "output_type": "stream",
     "text": [
      " 52%|█████▏    | 507/975 [02:04<01:54,  4.09it/s]"
     ]
    },
    {
     "name": "stdout",
     "output_type": "stream",
     "text": [
      "0.01667184755206108\n",
      "0.016730237752199173\n"
     ]
    },
    {
     "name": "stderr",
     "output_type": "stream",
     "text": [
      " 52%|█████▏    | 509/975 [02:04<01:53,  4.11it/s]"
     ]
    },
    {
     "name": "stdout",
     "output_type": "stream",
     "text": [
      "0.011033259332180023\n",
      "0.01251833513379097\n"
     ]
    },
    {
     "name": "stderr",
     "output_type": "stream",
     "text": [
      " 52%|█████▏    | 511/975 [02:05<01:53,  4.10it/s]"
     ]
    },
    {
     "name": "stdout",
     "output_type": "stream",
     "text": [
      "0.015217730775475502\n",
      "0.010684970766305923\n"
     ]
    },
    {
     "name": "stderr",
     "output_type": "stream",
     "text": [
      " 53%|█████▎    | 513/975 [02:05<01:51,  4.13it/s]"
     ]
    },
    {
     "name": "stdout",
     "output_type": "stream",
     "text": [
      "0.013223711401224136\n",
      "0.011412624269723892\n"
     ]
    },
    {
     "name": "stderr",
     "output_type": "stream",
     "text": [
      " 53%|█████▎    | 515/975 [02:06<01:51,  4.13it/s]"
     ]
    },
    {
     "name": "stdout",
     "output_type": "stream",
     "text": [
      "0.011167192831635475\n",
      "0.014907230623066425\n"
     ]
    },
    {
     "name": "stderr",
     "output_type": "stream",
     "text": [
      " 53%|█████▎    | 517/975 [02:06<01:51,  4.11it/s]"
     ]
    },
    {
     "name": "stdout",
     "output_type": "stream",
     "text": [
      "0.012485172599554062\n",
      "0.009953923523426056\n"
     ]
    },
    {
     "name": "stderr",
     "output_type": "stream",
     "text": [
      " 53%|█████▎    | 519/975 [02:07<01:50,  4.12it/s]"
     ]
    },
    {
     "name": "stdout",
     "output_type": "stream",
     "text": [
      "0.0107308030128479\n",
      "0.010223397985100746\n"
     ]
    },
    {
     "name": "stderr",
     "output_type": "stream",
     "text": [
      " 53%|█████▎    | 521/975 [02:07<01:49,  4.14it/s]"
     ]
    },
    {
     "name": "stdout",
     "output_type": "stream",
     "text": [
      "0.009600697085261345\n",
      "0.013255344703793526\n"
     ]
    },
    {
     "name": "stderr",
     "output_type": "stream",
     "text": [
      " 54%|█████▎    | 523/975 [02:08<01:50,  4.09it/s]"
     ]
    },
    {
     "name": "stdout",
     "output_type": "stream",
     "text": [
      "0.013497672975063324\n",
      "0.011353657580912113\n"
     ]
    },
    {
     "name": "stderr",
     "output_type": "stream",
     "text": [
      " 54%|█████▍    | 525/975 [02:08<01:49,  4.11it/s]"
     ]
    },
    {
     "name": "stdout",
     "output_type": "stream",
     "text": [
      "0.007460594177246094\n",
      "0.012698603793978691\n"
     ]
    },
    {
     "name": "stderr",
     "output_type": "stream",
     "text": [
      " 54%|█████▍    | 527/975 [02:09<01:48,  4.12it/s]"
     ]
    },
    {
     "name": "stdout",
     "output_type": "stream",
     "text": [
      "0.009758253581821918\n",
      "0.012769093737006187\n"
     ]
    },
    {
     "name": "stderr",
     "output_type": "stream",
     "text": [
      " 54%|█████▍    | 529/975 [02:09<01:47,  4.13it/s]"
     ]
    },
    {
     "name": "stdout",
     "output_type": "stream",
     "text": [
      "0.008995264768600464\n",
      "0.008578017354011536\n"
     ]
    },
    {
     "name": "stderr",
     "output_type": "stream",
     "text": [
      " 54%|█████▍    | 531/975 [02:10<01:47,  4.13it/s]"
     ]
    },
    {
     "name": "stdout",
     "output_type": "stream",
     "text": [
      "0.011925511062145233\n",
      "0.01412113755941391\n"
     ]
    },
    {
     "name": "stderr",
     "output_type": "stream",
     "text": [
      " 55%|█████▍    | 533/975 [02:10<01:47,  4.13it/s]"
     ]
    },
    {
     "name": "stdout",
     "output_type": "stream",
     "text": [
      "0.011416343040764332\n",
      "0.014827113598585129\n"
     ]
    },
    {
     "name": "stderr",
     "output_type": "stream",
     "text": [
      " 55%|█████▍    | 535/975 [02:11<01:47,  4.10it/s]"
     ]
    },
    {
     "name": "stdout",
     "output_type": "stream",
     "text": [
      "0.015788957476615906\n",
      "0.01622876524925232\n"
     ]
    },
    {
     "name": "stderr",
     "output_type": "stream",
     "text": [
      " 55%|█████▌    | 537/975 [02:11<01:46,  4.11it/s]"
     ]
    },
    {
     "name": "stdout",
     "output_type": "stream",
     "text": [
      "0.013964856043457985\n",
      "0.012905001640319824\n"
     ]
    },
    {
     "name": "stderr",
     "output_type": "stream",
     "text": [
      " 55%|█████▌    | 539/975 [02:12<01:46,  4.09it/s]"
     ]
    },
    {
     "name": "stdout",
     "output_type": "stream",
     "text": [
      "0.008945729583501816\n",
      "0.009452518075704575\n"
     ]
    },
    {
     "name": "stderr",
     "output_type": "stream",
     "text": [
      " 55%|█████▌    | 541/975 [02:12<01:45,  4.10it/s]"
     ]
    },
    {
     "name": "stdout",
     "output_type": "stream",
     "text": [
      "0.016085537150502205\n",
      "0.012230727821588516\n"
     ]
    },
    {
     "name": "stderr",
     "output_type": "stream",
     "text": [
      " 56%|█████▌    | 543/975 [02:13<01:45,  4.10it/s]"
     ]
    },
    {
     "name": "stdout",
     "output_type": "stream",
     "text": [
      "0.015213483944535255\n",
      "0.015576329082250595\n"
     ]
    },
    {
     "name": "stderr",
     "output_type": "stream",
     "text": [
      " 56%|█████▌    | 545/975 [02:13<01:44,  4.12it/s]"
     ]
    },
    {
     "name": "stdout",
     "output_type": "stream",
     "text": [
      "0.01257326453924179\n",
      "0.0171677079051733\n"
     ]
    },
    {
     "name": "stderr",
     "output_type": "stream",
     "text": [
      " 56%|█████▌    | 547/975 [02:14<01:44,  4.11it/s]"
     ]
    },
    {
     "name": "stdout",
     "output_type": "stream",
     "text": [
      "0.013161709532141685\n",
      "0.01618661731481552\n"
     ]
    },
    {
     "name": "stderr",
     "output_type": "stream",
     "text": [
      " 56%|█████▋    | 549/975 [02:14<01:43,  4.11it/s]"
     ]
    },
    {
     "name": "stdout",
     "output_type": "stream",
     "text": [
      "0.01003577932715416\n",
      "0.014203688129782677\n"
     ]
    },
    {
     "name": "stderr",
     "output_type": "stream",
     "text": [
      " 57%|█████▋    | 552/975 [02:15<01:32,  4.59it/s]"
     ]
    },
    {
     "name": "stdout",
     "output_type": "stream",
     "text": [
      "0.011608553119003773\n",
      "0.010279212146997452\n"
     ]
    },
    {
     "name": "stderr",
     "output_type": "stream",
     "text": [
      " 57%|█████▋    | 554/975 [02:15<01:31,  4.62it/s]"
     ]
    },
    {
     "name": "stdout",
     "output_type": "stream",
     "text": [
      "0.012704581022262573\n",
      "0.024098645895719528\n"
     ]
    },
    {
     "name": "stderr",
     "output_type": "stream",
     "text": [
      " 57%|█████▋    | 556/975 [02:16<01:32,  4.54it/s]"
     ]
    },
    {
     "name": "stdout",
     "output_type": "stream",
     "text": [
      "0.008160487748682499\n",
      "0.014959581196308136\n"
     ]
    },
    {
     "name": "stderr",
     "output_type": "stream",
     "text": [
      " 57%|█████▋    | 558/975 [02:16<01:33,  4.46it/s]"
     ]
    },
    {
     "name": "stdout",
     "output_type": "stream",
     "text": [
      "0.013969700783491135\n",
      "0.017978673800826073\n"
     ]
    },
    {
     "name": "stderr",
     "output_type": "stream",
     "text": [
      " 57%|█████▋    | 560/975 [02:17<01:31,  4.55it/s]"
     ]
    },
    {
     "name": "stdout",
     "output_type": "stream",
     "text": [
      "0.03021814674139023\n",
      "0.014242209494113922\n"
     ]
    },
    {
     "name": "stderr",
     "output_type": "stream",
     "text": [
      " 58%|█████▊    | 562/975 [02:17<01:31,  4.51it/s]"
     ]
    },
    {
     "name": "stdout",
     "output_type": "stream",
     "text": [
      "0.00656580924987793\n",
      "0.011641837656497955\n"
     ]
    },
    {
     "name": "stderr",
     "output_type": "stream",
     "text": [
      " 58%|█████▊    | 564/975 [02:18<01:31,  4.48it/s]"
     ]
    },
    {
     "name": "stdout",
     "output_type": "stream",
     "text": [
      "0.013680370524525642\n",
      "0.008837505243718624\n"
     ]
    },
    {
     "name": "stderr",
     "output_type": "stream",
     "text": [
      " 58%|█████▊    | 566/975 [02:18<01:31,  4.49it/s]"
     ]
    },
    {
     "name": "stdout",
     "output_type": "stream",
     "text": [
      "0.019236011430621147\n",
      "0.01793663017451763\n"
     ]
    },
    {
     "name": "stderr",
     "output_type": "stream",
     "text": [
      " 58%|█████▊    | 568/975 [02:18<01:32,  4.42it/s]"
     ]
    },
    {
     "name": "stdout",
     "output_type": "stream",
     "text": [
      "0.024376805871725082\n",
      "0.01628793403506279\n"
     ]
    },
    {
     "name": "stderr",
     "output_type": "stream",
     "text": [
      " 58%|█████▊    | 570/975 [02:19<01:32,  4.37it/s]"
     ]
    },
    {
     "name": "stdout",
     "output_type": "stream",
     "text": [
      "0.018200989812612534\n",
      "0.01354062370955944\n"
     ]
    },
    {
     "name": "stderr",
     "output_type": "stream",
     "text": [
      " 59%|█████▊    | 572/975 [02:20<01:35,  4.23it/s]"
     ]
    },
    {
     "name": "stdout",
     "output_type": "stream",
     "text": [
      "0.010003803297877312\n",
      "0.011572878807783127\n"
     ]
    },
    {
     "name": "stderr",
     "output_type": "stream",
     "text": [
      " 59%|█████▉    | 574/975 [02:20<01:34,  4.27it/s]"
     ]
    },
    {
     "name": "stdout",
     "output_type": "stream",
     "text": [
      "0.0155356265604496\n",
      "0.012714864686131477\n"
     ]
    },
    {
     "name": "stderr",
     "output_type": "stream",
     "text": [
      " 59%|█████▉    | 576/975 [02:20<01:31,  4.35it/s]"
     ]
    },
    {
     "name": "stdout",
     "output_type": "stream",
     "text": [
      "0.009441531263291836\n",
      "0.009082116186618805\n"
     ]
    },
    {
     "name": "stderr",
     "output_type": "stream",
     "text": [
      " 59%|█████▉    | 578/975 [02:21<01:30,  4.39it/s]"
     ]
    },
    {
     "name": "stdout",
     "output_type": "stream",
     "text": [
      "0.018140921369194984\n",
      "0.03421477973461151\n"
     ]
    },
    {
     "name": "stderr",
     "output_type": "stream",
     "text": [
      " 59%|█████▉    | 580/975 [02:21<01:32,  4.29it/s]"
     ]
    },
    {
     "name": "stdout",
     "output_type": "stream",
     "text": [
      "0.014655999839305878\n",
      "0.012108389288187027\n"
     ]
    },
    {
     "name": "stderr",
     "output_type": "stream",
     "text": [
      " 60%|█████▉    | 582/975 [02:22<01:32,  4.27it/s]"
     ]
    },
    {
     "name": "stdout",
     "output_type": "stream",
     "text": [
      "0.012983005493879318\n",
      "0.016625292599201202\n"
     ]
    },
    {
     "name": "stderr",
     "output_type": "stream",
     "text": [
      " 60%|█████▉    | 584/975 [02:22<01:31,  4.28it/s]"
     ]
    },
    {
     "name": "stdout",
     "output_type": "stream",
     "text": [
      "0.010662375949323177\n",
      "0.02240993082523346\n"
     ]
    },
    {
     "name": "stderr",
     "output_type": "stream",
     "text": [
      " 60%|██████    | 586/975 [02:23<01:32,  4.20it/s]"
     ]
    },
    {
     "name": "stdout",
     "output_type": "stream",
     "text": [
      "0.01890973560512066\n",
      "0.007828515022993088\n"
     ]
    },
    {
     "name": "stderr",
     "output_type": "stream",
     "text": [
      " 60%|██████    | 588/975 [02:23<01:30,  4.28it/s]"
     ]
    },
    {
     "name": "stdout",
     "output_type": "stream",
     "text": [
      "0.010827895253896713\n",
      "0.014119531959295273\n"
     ]
    },
    {
     "name": "stderr",
     "output_type": "stream",
     "text": [
      " 61%|██████    | 590/975 [02:24<01:30,  4.26it/s]"
     ]
    },
    {
     "name": "stdout",
     "output_type": "stream",
     "text": [
      "0.009796224534511566\n",
      "0.018712734803557396\n"
     ]
    },
    {
     "name": "stderr",
     "output_type": "stream",
     "text": [
      " 61%|██████    | 592/975 [02:24<01:28,  4.33it/s]"
     ]
    },
    {
     "name": "stdout",
     "output_type": "stream",
     "text": [
      "0.023960359394550323\n",
      "0.03442966192960739\n"
     ]
    },
    {
     "name": "stderr",
     "output_type": "stream",
     "text": [
      " 61%|██████    | 594/975 [02:25<01:27,  4.38it/s]"
     ]
    },
    {
     "name": "stdout",
     "output_type": "stream",
     "text": [
      "0.012856617569923401\n",
      "0.025040153414011\n"
     ]
    },
    {
     "name": "stderr",
     "output_type": "stream",
     "text": [
      " 61%|██████    | 596/975 [02:25<01:25,  4.41it/s]"
     ]
    },
    {
     "name": "stdout",
     "output_type": "stream",
     "text": [
      "0.01212247833609581\n",
      "0.02266327664256096\n"
     ]
    },
    {
     "name": "stderr",
     "output_type": "stream",
     "text": [
      " 61%|██████▏   | 598/975 [02:26<01:25,  4.40it/s]"
     ]
    },
    {
     "name": "stdout",
     "output_type": "stream",
     "text": [
      "0.012015949934720993\n",
      "0.014692837372422218\n"
     ]
    },
    {
     "name": "stderr",
     "output_type": "stream",
     "text": [
      " 62%|██████▏   | 600/975 [02:26<01:25,  4.39it/s]"
     ]
    },
    {
     "name": "stdout",
     "output_type": "stream",
     "text": [
      "0.018016524612903595\n",
      "0.01616249792277813\n"
     ]
    },
    {
     "name": "stderr",
     "output_type": "stream",
     "text": [
      " 62%|██████▏   | 602/975 [02:27<01:25,  4.39it/s]"
     ]
    },
    {
     "name": "stdout",
     "output_type": "stream",
     "text": [
      "0.01701393723487854\n",
      "0.01702794060111046\n"
     ]
    },
    {
     "name": "stderr",
     "output_type": "stream",
     "text": [
      " 62%|██████▏   | 604/975 [02:27<01:24,  4.39it/s]"
     ]
    },
    {
     "name": "stdout",
     "output_type": "stream",
     "text": [
      "0.007100624963641167\n",
      "0.011327337473630905\n"
     ]
    },
    {
     "name": "stderr",
     "output_type": "stream",
     "text": [
      " 62%|██████▏   | 606/975 [02:28<01:24,  4.35it/s]"
     ]
    },
    {
     "name": "stdout",
     "output_type": "stream",
     "text": [
      "0.01272406242787838\n",
      "0.01923920214176178\n"
     ]
    },
    {
     "name": "stderr",
     "output_type": "stream",
     "text": [
      " 62%|██████▏   | 608/975 [02:28<01:23,  4.38it/s]"
     ]
    },
    {
     "name": "stdout",
     "output_type": "stream",
     "text": [
      "0.012760888785123825\n",
      "0.017789913341403008\n"
     ]
    },
    {
     "name": "stderr",
     "output_type": "stream",
     "text": [
      " 63%|██████▎   | 610/975 [02:29<01:22,  4.44it/s]"
     ]
    },
    {
     "name": "stdout",
     "output_type": "stream",
     "text": [
      "0.02124500274658203\n",
      "0.024107690900564194\n"
     ]
    },
    {
     "name": "stderr",
     "output_type": "stream",
     "text": [
      " 63%|██████▎   | 612/975 [02:29<01:21,  4.43it/s]"
     ]
    },
    {
     "name": "stdout",
     "output_type": "stream",
     "text": [
      "0.009176041930913925\n",
      "0.010200586169958115\n"
     ]
    },
    {
     "name": "stderr",
     "output_type": "stream",
     "text": [
      " 63%|██████▎   | 614/975 [02:30<01:21,  4.42it/s]"
     ]
    },
    {
     "name": "stdout",
     "output_type": "stream",
     "text": [
      "0.016524791717529297\n",
      "0.018829382956027985\n"
     ]
    },
    {
     "name": "stderr",
     "output_type": "stream",
     "text": [
      " 63%|██████▎   | 616/975 [02:30<01:21,  4.43it/s]"
     ]
    },
    {
     "name": "stdout",
     "output_type": "stream",
     "text": [
      "0.013263549655675888\n",
      "0.014455840922892094\n"
     ]
    },
    {
     "name": "stderr",
     "output_type": "stream",
     "text": [
      " 63%|██████▎   | 618/975 [02:31<01:22,  4.35it/s]"
     ]
    },
    {
     "name": "stdout",
     "output_type": "stream",
     "text": [
      "0.014261748641729355\n",
      "0.020360883325338364\n"
     ]
    },
    {
     "name": "stderr",
     "output_type": "stream",
     "text": [
      " 64%|██████▎   | 620/975 [02:31<01:21,  4.38it/s]"
     ]
    },
    {
     "name": "stdout",
     "output_type": "stream",
     "text": [
      "0.014354284852743149\n",
      "0.013539738021790981\n"
     ]
    },
    {
     "name": "stderr",
     "output_type": "stream",
     "text": [
      " 64%|██████▍   | 622/975 [02:32<01:19,  4.42it/s]"
     ]
    },
    {
     "name": "stdout",
     "output_type": "stream",
     "text": [
      "0.012844610959291458\n",
      "0.01124151423573494\n"
     ]
    },
    {
     "name": "stderr",
     "output_type": "stream",
     "text": [
      " 64%|██████▍   | 624/975 [02:32<01:19,  4.40it/s]"
     ]
    },
    {
     "name": "stdout",
     "output_type": "stream",
     "text": [
      "0.01009206473827362\n",
      "0.010814487934112549\n"
     ]
    },
    {
     "name": "stderr",
     "output_type": "stream",
     "text": [
      " 64%|██████▍   | 626/975 [02:33<01:20,  4.36it/s]"
     ]
    },
    {
     "name": "stdout",
     "output_type": "stream",
     "text": [
      "0.01203586719930172\n",
      "0.011646246537566185\n"
     ]
    },
    {
     "name": "stderr",
     "output_type": "stream",
     "text": [
      " 64%|██████▍   | 628/975 [02:33<01:20,  4.33it/s]"
     ]
    },
    {
     "name": "stdout",
     "output_type": "stream",
     "text": [
      "0.011907417327165604\n",
      "0.01782636158168316\n"
     ]
    },
    {
     "name": "stderr",
     "output_type": "stream",
     "text": [
      " 65%|██████▍   | 630/975 [02:34<01:19,  4.35it/s]"
     ]
    },
    {
     "name": "stdout",
     "output_type": "stream",
     "text": [
      "0.014947427436709404\n",
      "0.01756940968334675\n"
     ]
    },
    {
     "name": "stderr",
     "output_type": "stream",
     "text": [
      " 65%|██████▍   | 632/975 [02:34<01:18,  4.38it/s]"
     ]
    },
    {
     "name": "stdout",
     "output_type": "stream",
     "text": [
      "0.010800603777170181\n",
      "0.012201815843582153\n"
     ]
    },
    {
     "name": "stderr",
     "output_type": "stream",
     "text": [
      " 65%|██████▌   | 634/975 [02:35<01:17,  4.39it/s]"
     ]
    },
    {
     "name": "stdout",
     "output_type": "stream",
     "text": [
      "0.014700064435601234\n",
      "0.010016676038503647\n"
     ]
    },
    {
     "name": "stderr",
     "output_type": "stream",
     "text": [
      " 65%|██████▌   | 636/975 [02:35<01:16,  4.40it/s]"
     ]
    },
    {
     "name": "stdout",
     "output_type": "stream",
     "text": [
      "0.011680347844958305\n",
      "0.014688814990222454\n"
     ]
    },
    {
     "name": "stderr",
     "output_type": "stream",
     "text": [
      " 65%|██████▌   | 638/975 [02:36<01:16,  4.41it/s]"
     ]
    },
    {
     "name": "stdout",
     "output_type": "stream",
     "text": [
      "0.0119080301374197\n",
      "0.007991388440132141\n"
     ]
    },
    {
     "name": "stderr",
     "output_type": "stream",
     "text": [
      " 66%|██████▌   | 640/975 [02:36<01:15,  4.45it/s]"
     ]
    },
    {
     "name": "stdout",
     "output_type": "stream",
     "text": [
      "0.007831979542970657\n",
      "0.014122750610113144\n"
     ]
    },
    {
     "name": "stderr",
     "output_type": "stream",
     "text": [
      " 66%|██████▌   | 642/975 [02:37<01:15,  4.41it/s]"
     ]
    },
    {
     "name": "stdout",
     "output_type": "stream",
     "text": [
      "0.011253688484430313\n",
      "0.012073192745447159\n"
     ]
    },
    {
     "name": "stderr",
     "output_type": "stream",
     "text": [
      " 66%|██████▌   | 644/975 [02:37<01:16,  4.35it/s]"
     ]
    },
    {
     "name": "stdout",
     "output_type": "stream",
     "text": [
      "0.011907249689102173\n",
      "0.011735640466213226\n"
     ]
    },
    {
     "name": "stderr",
     "output_type": "stream",
     "text": [
      " 66%|██████▋   | 646/975 [02:38<01:14,  4.40it/s]"
     ]
    },
    {
     "name": "stdout",
     "output_type": "stream",
     "text": [
      "0.01202935166656971\n",
      "0.01137055829167366\n"
     ]
    },
    {
     "name": "stderr",
     "output_type": "stream",
     "text": [
      " 66%|██████▋   | 648/975 [02:38<01:14,  4.36it/s]"
     ]
    },
    {
     "name": "stdout",
     "output_type": "stream",
     "text": [
      "0.01566312462091446\n",
      "0.00866231694817543\n"
     ]
    },
    {
     "name": "stderr",
     "output_type": "stream",
     "text": [
      " 67%|██████▋   | 650/975 [02:39<01:14,  4.37it/s]"
     ]
    },
    {
     "name": "stdout",
     "output_type": "stream",
     "text": [
      "0.01241987943649292\n",
      "0.009163922630250454\n"
     ]
    },
    {
     "name": "stderr",
     "output_type": "stream",
     "text": [
      " 67%|██████▋   | 652/975 [02:39<01:13,  4.37it/s]"
     ]
    },
    {
     "name": "stdout",
     "output_type": "stream",
     "text": [
      "0.011234475299715996\n",
      "0.012817397713661194\n"
     ]
    },
    {
     "name": "stderr",
     "output_type": "stream",
     "text": [
      " 67%|██████▋   | 654/975 [02:40<01:15,  4.26it/s]"
     ]
    },
    {
     "name": "stdout",
     "output_type": "stream",
     "text": [
      "0.019801964983344078\n",
      "0.014300636947154999\n"
     ]
    },
    {
     "name": "stderr",
     "output_type": "stream",
     "text": [
      " 67%|██████▋   | 656/975 [02:40<01:14,  4.26it/s]"
     ]
    },
    {
     "name": "stdout",
     "output_type": "stream",
     "text": [
      "0.011668279767036438\n",
      "0.014250479638576508\n"
     ]
    },
    {
     "name": "stderr",
     "output_type": "stream",
     "text": [
      " 67%|██████▋   | 658/975 [02:41<01:14,  4.28it/s]"
     ]
    },
    {
     "name": "stdout",
     "output_type": "stream",
     "text": [
      "0.01194591075181961\n",
      "0.008776858448982239\n"
     ]
    },
    {
     "name": "stderr",
     "output_type": "stream",
     "text": [
      " 68%|██████▊   | 660/975 [02:41<01:13,  4.27it/s]"
     ]
    },
    {
     "name": "stdout",
     "output_type": "stream",
     "text": [
      "0.020670652389526367\n",
      "0.009373798966407776\n"
     ]
    },
    {
     "name": "stderr",
     "output_type": "stream",
     "text": [
      " 68%|██████▊   | 662/975 [02:42<01:13,  4.29it/s]"
     ]
    },
    {
     "name": "stdout",
     "output_type": "stream",
     "text": [
      "0.011988537386059761\n",
      "0.018940914422273636\n"
     ]
    },
    {
     "name": "stderr",
     "output_type": "stream",
     "text": [
      " 68%|██████▊   | 664/975 [02:42<01:10,  4.41it/s]"
     ]
    },
    {
     "name": "stdout",
     "output_type": "stream",
     "text": [
      "0.020389826968312263\n",
      "0.016835354268550873\n"
     ]
    },
    {
     "name": "stderr",
     "output_type": "stream",
     "text": [
      " 68%|██████▊   | 666/975 [02:43<01:11,  4.34it/s]"
     ]
    },
    {
     "name": "stdout",
     "output_type": "stream",
     "text": [
      "0.00927221029996872\n",
      "0.01050480455160141\n"
     ]
    },
    {
     "name": "stderr",
     "output_type": "stream",
     "text": [
      " 69%|██████▊   | 668/975 [02:43<01:10,  4.35it/s]"
     ]
    },
    {
     "name": "stdout",
     "output_type": "stream",
     "text": [
      "0.008341123349964619\n",
      "0.009883666411042213\n"
     ]
    },
    {
     "name": "stderr",
     "output_type": "stream",
     "text": [
      " 69%|██████▊   | 670/975 [02:44<01:09,  4.41it/s]"
     ]
    },
    {
     "name": "stdout",
     "output_type": "stream",
     "text": [
      "0.007408730685710907\n",
      "0.021741533651947975\n"
     ]
    },
    {
     "name": "stderr",
     "output_type": "stream",
     "text": [
      " 69%|██████▉   | 672/975 [02:44<01:07,  4.47it/s]"
     ]
    },
    {
     "name": "stdout",
     "output_type": "stream",
     "text": [
      "0.009659383445978165\n",
      "0.011306758970022202\n"
     ]
    },
    {
     "name": "stderr",
     "output_type": "stream",
     "text": [
      " 69%|██████▉   | 674/975 [02:45<01:06,  4.49it/s]"
     ]
    },
    {
     "name": "stdout",
     "output_type": "stream",
     "text": [
      "0.02401011623442173\n",
      "0.009356673806905746\n"
     ]
    },
    {
     "name": "stderr",
     "output_type": "stream",
     "text": [
      " 69%|██████▉   | 676/975 [02:45<01:07,  4.41it/s]"
     ]
    },
    {
     "name": "stdout",
     "output_type": "stream",
     "text": [
      "0.009248433634638786\n",
      "0.01834987848997116\n"
     ]
    },
    {
     "name": "stderr",
     "output_type": "stream",
     "text": [
      " 70%|██████▉   | 678/975 [02:46<01:08,  4.34it/s]"
     ]
    },
    {
     "name": "stdout",
     "output_type": "stream",
     "text": [
      "0.017146702855825424\n",
      "0.02058483101427555\n"
     ]
    },
    {
     "name": "stderr",
     "output_type": "stream",
     "text": [
      " 70%|██████▉   | 680/975 [02:46<01:08,  4.33it/s]"
     ]
    },
    {
     "name": "stdout",
     "output_type": "stream",
     "text": [
      "0.0132552869617939\n",
      "0.012532454915344715\n"
     ]
    },
    {
     "name": "stderr",
     "output_type": "stream",
     "text": [
      " 70%|██████▉   | 682/975 [02:46<01:06,  4.39it/s]"
     ]
    },
    {
     "name": "stdout",
     "output_type": "stream",
     "text": [
      "0.015578880906105042\n",
      "0.009644566103816032\n"
     ]
    },
    {
     "name": "stderr",
     "output_type": "stream",
     "text": [
      " 70%|███████   | 684/975 [02:47<01:05,  4.43it/s]"
     ]
    },
    {
     "name": "stdout",
     "output_type": "stream",
     "text": [
      "0.012440264225006104\n",
      "0.014666393399238586\n"
     ]
    },
    {
     "name": "stderr",
     "output_type": "stream",
     "text": [
      " 70%|███████   | 686/975 [02:47<01:03,  4.52it/s]"
     ]
    },
    {
     "name": "stdout",
     "output_type": "stream",
     "text": [
      "0.012962505221366882\n",
      "0.0138187101110816\n"
     ]
    },
    {
     "name": "stderr",
     "output_type": "stream",
     "text": [
      " 71%|███████   | 688/975 [02:48<01:04,  4.48it/s]"
     ]
    },
    {
     "name": "stdout",
     "output_type": "stream",
     "text": [
      "0.009322825819253922\n",
      "0.011915488168597221\n"
     ]
    },
    {
     "name": "stderr",
     "output_type": "stream",
     "text": [
      " 71%|███████   | 690/975 [02:48<01:03,  4.46it/s]"
     ]
    },
    {
     "name": "stdout",
     "output_type": "stream",
     "text": [
      "0.011796046048402786\n",
      "0.007117070257663727\n"
     ]
    },
    {
     "name": "stderr",
     "output_type": "stream",
     "text": [
      " 71%|███████   | 692/975 [02:49<01:02,  4.52it/s]"
     ]
    },
    {
     "name": "stdout",
     "output_type": "stream",
     "text": [
      "0.018092449754476547\n",
      "0.01250121183693409\n"
     ]
    },
    {
     "name": "stderr",
     "output_type": "stream",
     "text": [
      " 71%|███████   | 694/975 [02:49<01:02,  4.46it/s]"
     ]
    },
    {
     "name": "stdout",
     "output_type": "stream",
     "text": [
      "0.014381609857082367\n",
      "0.01398051343858242\n"
     ]
    },
    {
     "name": "stderr",
     "output_type": "stream",
     "text": [
      " 71%|███████▏  | 695/975 [02:50<01:15,  3.71it/s]"
     ]
    },
    {
     "name": "stdout",
     "output_type": "stream",
     "text": [
      "0.011219501495361328\n",
      "0.01277217734605074\n"
     ]
    },
    {
     "name": "stderr",
     "output_type": "stream",
     "text": [
      " 72%|███████▏  | 698/975 [02:50<01:00,  4.57it/s]"
     ]
    },
    {
     "name": "stdout",
     "output_type": "stream",
     "text": [
      "0.012961594387888908\n",
      "0.012281425297260284\n"
     ]
    },
    {
     "name": "stderr",
     "output_type": "stream",
     "text": [
      " 72%|███████▏  | 700/975 [02:51<00:59,  4.59it/s]"
     ]
    },
    {
     "name": "stdout",
     "output_type": "stream",
     "text": [
      "0.017614735290408134\n",
      "0.019859757274389267\n"
     ]
    },
    {
     "name": "stderr",
     "output_type": "stream",
     "text": [
      " 72%|███████▏  | 701/975 [02:51<01:12,  3.75it/s]"
     ]
    },
    {
     "name": "stdout",
     "output_type": "stream",
     "text": [
      "0.017240062355995178\n",
      "0.01291855052113533\n"
     ]
    },
    {
     "name": "stderr",
     "output_type": "stream",
     "text": [
      " 72%|███████▏  | 703/975 [02:52<01:10,  3.88it/s]"
     ]
    },
    {
     "name": "stdout",
     "output_type": "stream",
     "text": [
      "0.016102058812975883\n",
      "0.01949758641421795\n"
     ]
    },
    {
     "name": "stderr",
     "output_type": "stream",
     "text": [
      " 72%|███████▏  | 706/975 [02:52<00:58,  4.59it/s]"
     ]
    },
    {
     "name": "stdout",
     "output_type": "stream",
     "text": [
      "0.010246187448501587\n",
      "0.016848908737301826\n"
     ]
    },
    {
     "name": "stderr",
     "output_type": "stream",
     "text": [
      " 73%|███████▎  | 708/975 [02:53<00:58,  4.58it/s]"
     ]
    },
    {
     "name": "stdout",
     "output_type": "stream",
     "text": [
      "0.01673855446279049\n",
      "0.011622056365013123\n"
     ]
    },
    {
     "name": "stderr",
     "output_type": "stream",
     "text": [
      " 73%|███████▎  | 710/975 [02:53<00:58,  4.54it/s]"
     ]
    },
    {
     "name": "stdout",
     "output_type": "stream",
     "text": [
      "0.017326489090919495\n",
      "0.01604432612657547\n"
     ]
    },
    {
     "name": "stderr",
     "output_type": "stream",
     "text": [
      " 73%|███████▎  | 712/975 [02:54<00:58,  4.53it/s]"
     ]
    },
    {
     "name": "stdout",
     "output_type": "stream",
     "text": [
      "0.021801088005304337\n",
      "0.010603193193674088\n"
     ]
    },
    {
     "name": "stderr",
     "output_type": "stream",
     "text": [
      " 73%|███████▎  | 713/975 [02:54<01:12,  3.60it/s]"
     ]
    },
    {
     "name": "stdout",
     "output_type": "stream",
     "text": [
      "0.011024702340364456\n",
      "0.00909356027841568\n"
     ]
    },
    {
     "name": "stderr",
     "output_type": "stream",
     "text": [
      " 73%|███████▎  | 716/975 [02:55<00:58,  4.43it/s]"
     ]
    },
    {
     "name": "stdout",
     "output_type": "stream",
     "text": [
      "0.012730993330478668\n",
      "0.014757487922906876\n"
     ]
    },
    {
     "name": "stderr",
     "output_type": "stream",
     "text": [
      " 74%|███████▎  | 718/975 [02:55<00:57,  4.49it/s]"
     ]
    },
    {
     "name": "stdout",
     "output_type": "stream",
     "text": [
      "0.007024068385362625\n",
      "0.011161822825670242\n"
     ]
    },
    {
     "name": "stderr",
     "output_type": "stream",
     "text": [
      " 74%|███████▍  | 720/975 [02:56<00:56,  4.49it/s]"
     ]
    },
    {
     "name": "stdout",
     "output_type": "stream",
     "text": [
      "0.015475581400096416\n",
      "0.007750611752271652\n"
     ]
    },
    {
     "name": "stderr",
     "output_type": "stream",
     "text": [
      " 74%|███████▍  | 722/975 [02:56<00:56,  4.52it/s]"
     ]
    },
    {
     "name": "stdout",
     "output_type": "stream",
     "text": [
      "0.009720267727971077\n",
      "0.010785437189042568\n"
     ]
    },
    {
     "name": "stderr",
     "output_type": "stream",
     "text": [
      " 74%|███████▍  | 724/975 [02:57<00:55,  4.50it/s]"
     ]
    },
    {
     "name": "stdout",
     "output_type": "stream",
     "text": [
      "0.012103697285056114\n",
      "0.015552066266536713\n"
     ]
    },
    {
     "name": "stderr",
     "output_type": "stream",
     "text": [
      " 74%|███████▍  | 726/975 [02:57<00:55,  4.49it/s]"
     ]
    },
    {
     "name": "stdout",
     "output_type": "stream",
     "text": [
      "0.015203502029180527\n",
      "0.010121215134859085\n"
     ]
    },
    {
     "name": "stderr",
     "output_type": "stream",
     "text": [
      " 75%|███████▍  | 727/975 [02:58<01:06,  3.71it/s]"
     ]
    },
    {
     "name": "stdout",
     "output_type": "stream",
     "text": [
      "0.008515030145645142\n",
      "0.017849642783403397\n"
     ]
    },
    {
     "name": "stderr",
     "output_type": "stream",
     "text": [
      " 75%|███████▍  | 730/975 [02:58<00:53,  4.59it/s]"
     ]
    },
    {
     "name": "stdout",
     "output_type": "stream",
     "text": [
      "0.009785820730030537\n",
      "0.020039992406964302\n"
     ]
    },
    {
     "name": "stderr",
     "output_type": "stream",
     "text": [
      " 75%|███████▌  | 732/975 [02:59<00:54,  4.46it/s]"
     ]
    },
    {
     "name": "stdout",
     "output_type": "stream",
     "text": [
      "0.015656504780054092\n",
      "0.01920388452708721\n"
     ]
    },
    {
     "name": "stderr",
     "output_type": "stream",
     "text": [
      " 75%|███████▌  | 734/975 [02:59<00:54,  4.42it/s]"
     ]
    },
    {
     "name": "stdout",
     "output_type": "stream",
     "text": [
      "0.014633777551352978\n",
      "0.012004026211798191\n"
     ]
    },
    {
     "name": "stderr",
     "output_type": "stream",
     "text": [
      " 75%|███████▌  | 736/975 [03:00<00:54,  4.41it/s]"
     ]
    },
    {
     "name": "stdout",
     "output_type": "stream",
     "text": [
      "0.008325232192873955\n",
      "0.011174734681844711\n"
     ]
    },
    {
     "name": "stderr",
     "output_type": "stream",
     "text": [
      " 76%|███████▌  | 738/975 [03:00<00:53,  4.46it/s]"
     ]
    },
    {
     "name": "stdout",
     "output_type": "stream",
     "text": [
      "0.009522519074380398\n",
      "0.010971974581480026\n"
     ]
    },
    {
     "name": "stderr",
     "output_type": "stream",
     "text": [
      " 76%|███████▌  | 740/975 [03:01<00:52,  4.48it/s]"
     ]
    },
    {
     "name": "stdout",
     "output_type": "stream",
     "text": [
      "0.01649874448776245\n",
      "0.0101994089782238\n"
     ]
    },
    {
     "name": "stderr",
     "output_type": "stream",
     "text": [
      " 76%|███████▌  | 742/975 [03:01<00:52,  4.48it/s]"
     ]
    },
    {
     "name": "stdout",
     "output_type": "stream",
     "text": [
      "0.009779879823327065\n",
      "0.019601641222834587\n"
     ]
    },
    {
     "name": "stderr",
     "output_type": "stream",
     "text": [
      " 76%|███████▋  | 744/975 [03:02<00:52,  4.40it/s]"
     ]
    },
    {
     "name": "stdout",
     "output_type": "stream",
     "text": [
      "0.012125156819820404\n",
      "0.013189546763896942\n"
     ]
    },
    {
     "name": "stderr",
     "output_type": "stream",
     "text": [
      " 77%|███████▋  | 746/975 [03:02<00:52,  4.39it/s]"
     ]
    },
    {
     "name": "stdout",
     "output_type": "stream",
     "text": [
      "0.008156148716807365\n",
      "0.016777403652668\n"
     ]
    },
    {
     "name": "stderr",
     "output_type": "stream",
     "text": [
      " 77%|███████▋  | 748/975 [03:03<00:51,  4.39it/s]"
     ]
    },
    {
     "name": "stdout",
     "output_type": "stream",
     "text": [
      "0.01083354465663433\n",
      "0.0134689686819911\n"
     ]
    },
    {
     "name": "stderr",
     "output_type": "stream",
     "text": [
      " 77%|███████▋  | 750/975 [03:03<00:50,  4.48it/s]"
     ]
    },
    {
     "name": "stdout",
     "output_type": "stream",
     "text": [
      "0.015898987650871277\n",
      "0.0098959282040596\n"
     ]
    },
    {
     "name": "stderr",
     "output_type": "stream",
     "text": [
      " 77%|███████▋  | 752/975 [03:04<00:50,  4.41it/s]"
     ]
    },
    {
     "name": "stdout",
     "output_type": "stream",
     "text": [
      "0.013088326901197433\n",
      "0.0113527812063694\n"
     ]
    },
    {
     "name": "stderr",
     "output_type": "stream",
     "text": [
      " 77%|███████▋  | 754/975 [03:04<00:49,  4.47it/s]"
     ]
    },
    {
     "name": "stdout",
     "output_type": "stream",
     "text": [
      "0.010933907702565193\n",
      "0.011857310310006142\n"
     ]
    },
    {
     "name": "stderr",
     "output_type": "stream",
     "text": [
      " 78%|███████▊  | 756/975 [03:05<00:49,  4.39it/s]"
     ]
    },
    {
     "name": "stdout",
     "output_type": "stream",
     "text": [
      "0.011829783208668232\n",
      "0.010947545990347862\n"
     ]
    },
    {
     "name": "stderr",
     "output_type": "stream",
     "text": [
      " 78%|███████▊  | 758/975 [03:05<00:49,  4.35it/s]"
     ]
    },
    {
     "name": "stdout",
     "output_type": "stream",
     "text": [
      "0.018879907205700874\n",
      "0.006761766970157623\n"
     ]
    },
    {
     "name": "stderr",
     "output_type": "stream",
     "text": [
      " 78%|███████▊  | 760/975 [03:06<00:49,  4.31it/s]"
     ]
    },
    {
     "name": "stdout",
     "output_type": "stream",
     "text": [
      "0.018965383991599083\n",
      "0.016023926436901093\n"
     ]
    },
    {
     "name": "stderr",
     "output_type": "stream",
     "text": [
      " 78%|███████▊  | 762/975 [03:06<00:48,  4.38it/s]"
     ]
    },
    {
     "name": "stdout",
     "output_type": "stream",
     "text": [
      "0.014491332694888115\n",
      "0.012281510978937149\n"
     ]
    },
    {
     "name": "stderr",
     "output_type": "stream",
     "text": [
      " 78%|███████▊  | 764/975 [03:07<00:48,  4.36it/s]"
     ]
    },
    {
     "name": "stdout",
     "output_type": "stream",
     "text": [
      "0.018859412521123886\n",
      "0.011985250748693943\n"
     ]
    },
    {
     "name": "stderr",
     "output_type": "stream",
     "text": [
      " 79%|███████▊  | 766/975 [03:07<00:48,  4.30it/s]"
     ]
    },
    {
     "name": "stdout",
     "output_type": "stream",
     "text": [
      "0.011971097439527512\n",
      "0.010830510407686234\n"
     ]
    },
    {
     "name": "stderr",
     "output_type": "stream",
     "text": [
      " 79%|███████▉  | 768/975 [03:08<00:49,  4.22it/s]"
     ]
    },
    {
     "name": "stdout",
     "output_type": "stream",
     "text": [
      "0.011063802987337112\n",
      "0.010496582835912704\n"
     ]
    },
    {
     "name": "stderr",
     "output_type": "stream",
     "text": [
      " 79%|███████▉  | 770/975 [03:08<00:47,  4.29it/s]"
     ]
    },
    {
     "name": "stdout",
     "output_type": "stream",
     "text": [
      "0.028044063597917557\n",
      "0.022433515638113022\n"
     ]
    },
    {
     "name": "stderr",
     "output_type": "stream",
     "text": [
      " 79%|███████▉  | 772/975 [03:09<00:46,  4.34it/s]"
     ]
    },
    {
     "name": "stdout",
     "output_type": "stream",
     "text": [
      "0.014140820130705833\n",
      "0.008044611662626266\n"
     ]
    },
    {
     "name": "stderr",
     "output_type": "stream",
     "text": [
      " 79%|███████▉  | 774/975 [03:09<00:46,  4.34it/s]"
     ]
    },
    {
     "name": "stdout",
     "output_type": "stream",
     "text": [
      "0.009383313357830048\n",
      "0.017934761941432953\n"
     ]
    },
    {
     "name": "stderr",
     "output_type": "stream",
     "text": [
      " 80%|███████▉  | 776/975 [03:10<00:45,  4.37it/s]"
     ]
    },
    {
     "name": "stdout",
     "output_type": "stream",
     "text": [
      "0.021750006824731827\n",
      "0.011959743686020374\n"
     ]
    },
    {
     "name": "stderr",
     "output_type": "stream",
     "text": [
      " 80%|███████▉  | 778/975 [03:10<00:44,  4.38it/s]"
     ]
    },
    {
     "name": "stdout",
     "output_type": "stream",
     "text": [
      "0.012937746942043304\n",
      "0.015064680017530918\n"
     ]
    },
    {
     "name": "stderr",
     "output_type": "stream",
     "text": [
      " 80%|███████▉  | 778/975 [03:10<00:48,  4.08it/s]\n"
     ]
    },
    {
     "ename": "KeyboardInterrupt",
     "evalue": "",
     "output_type": "error",
     "traceback": [
      "\u001b[0;31m---------------------------------------------------------------------------\u001b[0m",
      "\u001b[0;31mKeyboardInterrupt\u001b[0m                         Traceback (most recent call last)",
      "\u001b[0;32m<ipython-input-327-7a5bd34897bf>\u001b[0m in \u001b[0;36m<module>\u001b[0;34m\u001b[0m\n\u001b[1;32m      1\u001b[0m \u001b[0;32mfor\u001b[0m \u001b[0mepoch_id\u001b[0m \u001b[0;32min\u001b[0m \u001b[0mrange\u001b[0m\u001b[0;34m(\u001b[0m\u001b[0;36m3\u001b[0m\u001b[0;34m)\u001b[0m\u001b[0;34m:\u001b[0m\u001b[0;34m\u001b[0m\u001b[0;34m\u001b[0m\u001b[0m\n\u001b[0;32m----> 2\u001b[0;31m     \u001b[0;32mfor\u001b[0m \u001b[0mimages\u001b[0m\u001b[0;34m,\u001b[0m \u001b[0mref_images\u001b[0m\u001b[0;34m,\u001b[0m \u001b[0mscores\u001b[0m\u001b[0;34m,\u001b[0m \u001b[0mpaths\u001b[0m \u001b[0;32min\u001b[0m \u001b[0mtqdm\u001b[0m\u001b[0;34m(\u001b[0m\u001b[0mtrainloader\u001b[0m\u001b[0;34m)\u001b[0m\u001b[0;34m:\u001b[0m\u001b[0;34m\u001b[0m\u001b[0;34m\u001b[0m\u001b[0m\n\u001b[0m\u001b[1;32m      3\u001b[0m         \u001b[0mimages\u001b[0m\u001b[0;34m.\u001b[0m\u001b[0mrequires_grad\u001b[0m \u001b[0;34m=\u001b[0m \u001b[0;32mTrue\u001b[0m\u001b[0;34m\u001b[0m\u001b[0;34m\u001b[0m\u001b[0m\n\u001b[1;32m      4\u001b[0m \u001b[0;34m\u001b[0m\u001b[0m\n\u001b[1;32m      5\u001b[0m         \u001b[0mreal_vmafs\u001b[0m \u001b[0;34m=\u001b[0m \u001b[0;34m[\u001b[0m\u001b[0;34m]\u001b[0m\u001b[0;34m\u001b[0m\u001b[0;34m\u001b[0m\u001b[0m\n",
      "\u001b[0;32m~/.local/lib/python3.8/site-packages/tqdm/std.py\u001b[0m in \u001b[0;36m__iter__\u001b[0;34m(self)\u001b[0m\n\u001b[1;32m   1178\u001b[0m \u001b[0;34m\u001b[0m\u001b[0m\n\u001b[1;32m   1179\u001b[0m         \u001b[0;32mtry\u001b[0m\u001b[0;34m:\u001b[0m\u001b[0;34m\u001b[0m\u001b[0;34m\u001b[0m\u001b[0m\n\u001b[0;32m-> 1180\u001b[0;31m             \u001b[0;32mfor\u001b[0m \u001b[0mobj\u001b[0m \u001b[0;32min\u001b[0m \u001b[0miterable\u001b[0m\u001b[0;34m:\u001b[0m\u001b[0;34m\u001b[0m\u001b[0;34m\u001b[0m\u001b[0m\n\u001b[0m\u001b[1;32m   1181\u001b[0m                 \u001b[0;32myield\u001b[0m \u001b[0mobj\u001b[0m\u001b[0;34m\u001b[0m\u001b[0;34m\u001b[0m\u001b[0m\n\u001b[1;32m   1182\u001b[0m                 \u001b[0;31m# Update and possibly print the progressbar.\u001b[0m\u001b[0;34m\u001b[0m\u001b[0;34m\u001b[0m\u001b[0;34m\u001b[0m\u001b[0m\n",
      "\u001b[0;32m~/.local/lib/python3.8/site-packages/torch/utils/data/dataloader.py\u001b[0m in \u001b[0;36m__next__\u001b[0;34m(self)\u001b[0m\n\u001b[1;32m    519\u001b[0m             \u001b[0;32mif\u001b[0m \u001b[0mself\u001b[0m\u001b[0;34m.\u001b[0m\u001b[0m_sampler_iter\u001b[0m \u001b[0;32mis\u001b[0m \u001b[0;32mNone\u001b[0m\u001b[0;34m:\u001b[0m\u001b[0;34m\u001b[0m\u001b[0;34m\u001b[0m\u001b[0m\n\u001b[1;32m    520\u001b[0m                 \u001b[0mself\u001b[0m\u001b[0;34m.\u001b[0m\u001b[0m_reset\u001b[0m\u001b[0;34m(\u001b[0m\u001b[0;34m)\u001b[0m\u001b[0;34m\u001b[0m\u001b[0;34m\u001b[0m\u001b[0m\n\u001b[0;32m--> 521\u001b[0;31m             \u001b[0mdata\u001b[0m \u001b[0;34m=\u001b[0m \u001b[0mself\u001b[0m\u001b[0;34m.\u001b[0m\u001b[0m_next_data\u001b[0m\u001b[0;34m(\u001b[0m\u001b[0;34m)\u001b[0m\u001b[0;34m\u001b[0m\u001b[0;34m\u001b[0m\u001b[0m\n\u001b[0m\u001b[1;32m    522\u001b[0m             \u001b[0mself\u001b[0m\u001b[0;34m.\u001b[0m\u001b[0m_num_yielded\u001b[0m \u001b[0;34m+=\u001b[0m \u001b[0;36m1\u001b[0m\u001b[0;34m\u001b[0m\u001b[0;34m\u001b[0m\u001b[0m\n\u001b[1;32m    523\u001b[0m             \u001b[0;32mif\u001b[0m \u001b[0mself\u001b[0m\u001b[0;34m.\u001b[0m\u001b[0m_dataset_kind\u001b[0m \u001b[0;34m==\u001b[0m \u001b[0m_DatasetKind\u001b[0m\u001b[0;34m.\u001b[0m\u001b[0mIterable\u001b[0m \u001b[0;32mand\u001b[0m\u001b[0;31m \u001b[0m\u001b[0;31m\\\u001b[0m\u001b[0;34m\u001b[0m\u001b[0;34m\u001b[0m\u001b[0m\n",
      "\u001b[0;32m~/.local/lib/python3.8/site-packages/torch/utils/data/dataloader.py\u001b[0m in \u001b[0;36m_next_data\u001b[0;34m(self)\u001b[0m\n\u001b[1;32m   1184\u001b[0m \u001b[0;34m\u001b[0m\u001b[0m\n\u001b[1;32m   1185\u001b[0m             \u001b[0;32massert\u001b[0m \u001b[0;32mnot\u001b[0m \u001b[0mself\u001b[0m\u001b[0;34m.\u001b[0m\u001b[0m_shutdown\u001b[0m \u001b[0;32mand\u001b[0m \u001b[0mself\u001b[0m\u001b[0;34m.\u001b[0m\u001b[0m_tasks_outstanding\u001b[0m \u001b[0;34m>\u001b[0m \u001b[0;36m0\u001b[0m\u001b[0;34m\u001b[0m\u001b[0;34m\u001b[0m\u001b[0m\n\u001b[0;32m-> 1186\u001b[0;31m             \u001b[0midx\u001b[0m\u001b[0;34m,\u001b[0m \u001b[0mdata\u001b[0m \u001b[0;34m=\u001b[0m \u001b[0mself\u001b[0m\u001b[0;34m.\u001b[0m\u001b[0m_get_data\u001b[0m\u001b[0;34m(\u001b[0m\u001b[0;34m)\u001b[0m\u001b[0;34m\u001b[0m\u001b[0;34m\u001b[0m\u001b[0m\n\u001b[0m\u001b[1;32m   1187\u001b[0m             \u001b[0mself\u001b[0m\u001b[0;34m.\u001b[0m\u001b[0m_tasks_outstanding\u001b[0m \u001b[0;34m-=\u001b[0m \u001b[0;36m1\u001b[0m\u001b[0;34m\u001b[0m\u001b[0;34m\u001b[0m\u001b[0m\n\u001b[1;32m   1188\u001b[0m             \u001b[0;32mif\u001b[0m \u001b[0mself\u001b[0m\u001b[0;34m.\u001b[0m\u001b[0m_dataset_kind\u001b[0m \u001b[0;34m==\u001b[0m \u001b[0m_DatasetKind\u001b[0m\u001b[0;34m.\u001b[0m\u001b[0mIterable\u001b[0m\u001b[0;34m:\u001b[0m\u001b[0;34m\u001b[0m\u001b[0;34m\u001b[0m\u001b[0m\n",
      "\u001b[0;32m~/.local/lib/python3.8/site-packages/torch/utils/data/dataloader.py\u001b[0m in \u001b[0;36m_get_data\u001b[0;34m(self)\u001b[0m\n\u001b[1;32m   1150\u001b[0m         \u001b[0;32melse\u001b[0m\u001b[0;34m:\u001b[0m\u001b[0;34m\u001b[0m\u001b[0;34m\u001b[0m\u001b[0m\n\u001b[1;32m   1151\u001b[0m             \u001b[0;32mwhile\u001b[0m \u001b[0;32mTrue\u001b[0m\u001b[0;34m:\u001b[0m\u001b[0;34m\u001b[0m\u001b[0;34m\u001b[0m\u001b[0m\n\u001b[0;32m-> 1152\u001b[0;31m                 \u001b[0msuccess\u001b[0m\u001b[0;34m,\u001b[0m \u001b[0mdata\u001b[0m \u001b[0;34m=\u001b[0m \u001b[0mself\u001b[0m\u001b[0;34m.\u001b[0m\u001b[0m_try_get_data\u001b[0m\u001b[0;34m(\u001b[0m\u001b[0;34m)\u001b[0m\u001b[0;34m\u001b[0m\u001b[0;34m\u001b[0m\u001b[0m\n\u001b[0m\u001b[1;32m   1153\u001b[0m                 \u001b[0;32mif\u001b[0m \u001b[0msuccess\u001b[0m\u001b[0;34m:\u001b[0m\u001b[0;34m\u001b[0m\u001b[0;34m\u001b[0m\u001b[0m\n\u001b[1;32m   1154\u001b[0m                     \u001b[0;32mreturn\u001b[0m \u001b[0mdata\u001b[0m\u001b[0;34m\u001b[0m\u001b[0;34m\u001b[0m\u001b[0m\n",
      "\u001b[0;32m~/.local/lib/python3.8/site-packages/torch/utils/data/dataloader.py\u001b[0m in \u001b[0;36m_try_get_data\u001b[0;34m(self, timeout)\u001b[0m\n\u001b[1;32m    988\u001b[0m         \u001b[0;31m#   (bool: whether successfully get data, any: data if successful else None)\u001b[0m\u001b[0;34m\u001b[0m\u001b[0;34m\u001b[0m\u001b[0;34m\u001b[0m\u001b[0m\n\u001b[1;32m    989\u001b[0m         \u001b[0;32mtry\u001b[0m\u001b[0;34m:\u001b[0m\u001b[0;34m\u001b[0m\u001b[0;34m\u001b[0m\u001b[0m\n\u001b[0;32m--> 990\u001b[0;31m             \u001b[0mdata\u001b[0m \u001b[0;34m=\u001b[0m \u001b[0mself\u001b[0m\u001b[0;34m.\u001b[0m\u001b[0m_data_queue\u001b[0m\u001b[0;34m.\u001b[0m\u001b[0mget\u001b[0m\u001b[0;34m(\u001b[0m\u001b[0mtimeout\u001b[0m\u001b[0;34m=\u001b[0m\u001b[0mtimeout\u001b[0m\u001b[0;34m)\u001b[0m\u001b[0;34m\u001b[0m\u001b[0;34m\u001b[0m\u001b[0m\n\u001b[0m\u001b[1;32m    991\u001b[0m             \u001b[0;32mreturn\u001b[0m \u001b[0;34m(\u001b[0m\u001b[0;32mTrue\u001b[0m\u001b[0;34m,\u001b[0m \u001b[0mdata\u001b[0m\u001b[0;34m)\u001b[0m\u001b[0;34m\u001b[0m\u001b[0;34m\u001b[0m\u001b[0m\n\u001b[1;32m    992\u001b[0m         \u001b[0;32mexcept\u001b[0m \u001b[0mException\u001b[0m \u001b[0;32mas\u001b[0m \u001b[0me\u001b[0m\u001b[0;34m:\u001b[0m\u001b[0;34m\u001b[0m\u001b[0;34m\u001b[0m\u001b[0m\n",
      "\u001b[0;32m/usr/lib/python3.8/multiprocessing/queues.py\u001b[0m in \u001b[0;36mget\u001b[0;34m(self, block, timeout)\u001b[0m\n\u001b[1;32m    105\u001b[0m                 \u001b[0;32mif\u001b[0m \u001b[0mblock\u001b[0m\u001b[0;34m:\u001b[0m\u001b[0;34m\u001b[0m\u001b[0;34m\u001b[0m\u001b[0m\n\u001b[1;32m    106\u001b[0m                     \u001b[0mtimeout\u001b[0m \u001b[0;34m=\u001b[0m \u001b[0mdeadline\u001b[0m \u001b[0;34m-\u001b[0m \u001b[0mtime\u001b[0m\u001b[0;34m.\u001b[0m\u001b[0mmonotonic\u001b[0m\u001b[0;34m(\u001b[0m\u001b[0;34m)\u001b[0m\u001b[0;34m\u001b[0m\u001b[0;34m\u001b[0m\u001b[0m\n\u001b[0;32m--> 107\u001b[0;31m                     \u001b[0;32mif\u001b[0m \u001b[0;32mnot\u001b[0m \u001b[0mself\u001b[0m\u001b[0;34m.\u001b[0m\u001b[0m_poll\u001b[0m\u001b[0;34m(\u001b[0m\u001b[0mtimeout\u001b[0m\u001b[0;34m)\u001b[0m\u001b[0;34m:\u001b[0m\u001b[0;34m\u001b[0m\u001b[0;34m\u001b[0m\u001b[0m\n\u001b[0m\u001b[1;32m    108\u001b[0m                         \u001b[0;32mraise\u001b[0m \u001b[0mEmpty\u001b[0m\u001b[0;34m\u001b[0m\u001b[0;34m\u001b[0m\u001b[0m\n\u001b[1;32m    109\u001b[0m                 \u001b[0;32melif\u001b[0m \u001b[0;32mnot\u001b[0m \u001b[0mself\u001b[0m\u001b[0;34m.\u001b[0m\u001b[0m_poll\u001b[0m\u001b[0;34m(\u001b[0m\u001b[0;34m)\u001b[0m\u001b[0;34m:\u001b[0m\u001b[0;34m\u001b[0m\u001b[0;34m\u001b[0m\u001b[0m\n",
      "\u001b[0;32m/usr/lib/python3.8/multiprocessing/connection.py\u001b[0m in \u001b[0;36mpoll\u001b[0;34m(self, timeout)\u001b[0m\n\u001b[1;32m    255\u001b[0m         \u001b[0mself\u001b[0m\u001b[0;34m.\u001b[0m\u001b[0m_check_closed\u001b[0m\u001b[0;34m(\u001b[0m\u001b[0;34m)\u001b[0m\u001b[0;34m\u001b[0m\u001b[0;34m\u001b[0m\u001b[0m\n\u001b[1;32m    256\u001b[0m         \u001b[0mself\u001b[0m\u001b[0;34m.\u001b[0m\u001b[0m_check_readable\u001b[0m\u001b[0;34m(\u001b[0m\u001b[0;34m)\u001b[0m\u001b[0;34m\u001b[0m\u001b[0;34m\u001b[0m\u001b[0m\n\u001b[0;32m--> 257\u001b[0;31m         \u001b[0;32mreturn\u001b[0m \u001b[0mself\u001b[0m\u001b[0;34m.\u001b[0m\u001b[0m_poll\u001b[0m\u001b[0;34m(\u001b[0m\u001b[0mtimeout\u001b[0m\u001b[0;34m)\u001b[0m\u001b[0;34m\u001b[0m\u001b[0;34m\u001b[0m\u001b[0m\n\u001b[0m\u001b[1;32m    258\u001b[0m \u001b[0;34m\u001b[0m\u001b[0m\n\u001b[1;32m    259\u001b[0m     \u001b[0;32mdef\u001b[0m \u001b[0m__enter__\u001b[0m\u001b[0;34m(\u001b[0m\u001b[0mself\u001b[0m\u001b[0;34m)\u001b[0m\u001b[0;34m:\u001b[0m\u001b[0;34m\u001b[0m\u001b[0;34m\u001b[0m\u001b[0m\n",
      "\u001b[0;32m/usr/lib/python3.8/multiprocessing/connection.py\u001b[0m in \u001b[0;36m_poll\u001b[0;34m(self, timeout)\u001b[0m\n\u001b[1;32m    422\u001b[0m \u001b[0;34m\u001b[0m\u001b[0m\n\u001b[1;32m    423\u001b[0m     \u001b[0;32mdef\u001b[0m \u001b[0m_poll\u001b[0m\u001b[0;34m(\u001b[0m\u001b[0mself\u001b[0m\u001b[0;34m,\u001b[0m \u001b[0mtimeout\u001b[0m\u001b[0;34m)\u001b[0m\u001b[0;34m:\u001b[0m\u001b[0;34m\u001b[0m\u001b[0;34m\u001b[0m\u001b[0m\n\u001b[0;32m--> 424\u001b[0;31m         \u001b[0mr\u001b[0m \u001b[0;34m=\u001b[0m \u001b[0mwait\u001b[0m\u001b[0;34m(\u001b[0m\u001b[0;34m[\u001b[0m\u001b[0mself\u001b[0m\u001b[0;34m]\u001b[0m\u001b[0;34m,\u001b[0m \u001b[0mtimeout\u001b[0m\u001b[0;34m)\u001b[0m\u001b[0;34m\u001b[0m\u001b[0;34m\u001b[0m\u001b[0m\n\u001b[0m\u001b[1;32m    425\u001b[0m         \u001b[0;32mreturn\u001b[0m \u001b[0mbool\u001b[0m\u001b[0;34m(\u001b[0m\u001b[0mr\u001b[0m\u001b[0;34m)\u001b[0m\u001b[0;34m\u001b[0m\u001b[0;34m\u001b[0m\u001b[0m\n\u001b[1;32m    426\u001b[0m \u001b[0;34m\u001b[0m\u001b[0m\n",
      "\u001b[0;32m/usr/lib/python3.8/multiprocessing/connection.py\u001b[0m in \u001b[0;36mwait\u001b[0;34m(object_list, timeout)\u001b[0m\n\u001b[1;32m    929\u001b[0m \u001b[0;34m\u001b[0m\u001b[0m\n\u001b[1;32m    930\u001b[0m             \u001b[0;32mwhile\u001b[0m \u001b[0;32mTrue\u001b[0m\u001b[0;34m:\u001b[0m\u001b[0;34m\u001b[0m\u001b[0;34m\u001b[0m\u001b[0m\n\u001b[0;32m--> 931\u001b[0;31m                 \u001b[0mready\u001b[0m \u001b[0;34m=\u001b[0m \u001b[0mselector\u001b[0m\u001b[0;34m.\u001b[0m\u001b[0mselect\u001b[0m\u001b[0;34m(\u001b[0m\u001b[0mtimeout\u001b[0m\u001b[0;34m)\u001b[0m\u001b[0;34m\u001b[0m\u001b[0;34m\u001b[0m\u001b[0m\n\u001b[0m\u001b[1;32m    932\u001b[0m                 \u001b[0;32mif\u001b[0m \u001b[0mready\u001b[0m\u001b[0;34m:\u001b[0m\u001b[0;34m\u001b[0m\u001b[0;34m\u001b[0m\u001b[0m\n\u001b[1;32m    933\u001b[0m                     \u001b[0;32mreturn\u001b[0m \u001b[0;34m[\u001b[0m\u001b[0mkey\u001b[0m\u001b[0;34m.\u001b[0m\u001b[0mfileobj\u001b[0m \u001b[0;32mfor\u001b[0m \u001b[0;34m(\u001b[0m\u001b[0mkey\u001b[0m\u001b[0;34m,\u001b[0m \u001b[0mevents\u001b[0m\u001b[0;34m)\u001b[0m \u001b[0;32min\u001b[0m \u001b[0mready\u001b[0m\u001b[0;34m]\u001b[0m\u001b[0;34m\u001b[0m\u001b[0;34m\u001b[0m\u001b[0m\n",
      "\u001b[0;32m/usr/lib/python3.8/selectors.py\u001b[0m in \u001b[0;36mselect\u001b[0;34m(self, timeout)\u001b[0m\n\u001b[1;32m    413\u001b[0m         \u001b[0mready\u001b[0m \u001b[0;34m=\u001b[0m \u001b[0;34m[\u001b[0m\u001b[0;34m]\u001b[0m\u001b[0;34m\u001b[0m\u001b[0;34m\u001b[0m\u001b[0m\n\u001b[1;32m    414\u001b[0m         \u001b[0;32mtry\u001b[0m\u001b[0;34m:\u001b[0m\u001b[0;34m\u001b[0m\u001b[0;34m\u001b[0m\u001b[0m\n\u001b[0;32m--> 415\u001b[0;31m             \u001b[0mfd_event_list\u001b[0m \u001b[0;34m=\u001b[0m \u001b[0mself\u001b[0m\u001b[0;34m.\u001b[0m\u001b[0m_selector\u001b[0m\u001b[0;34m.\u001b[0m\u001b[0mpoll\u001b[0m\u001b[0;34m(\u001b[0m\u001b[0mtimeout\u001b[0m\u001b[0;34m)\u001b[0m\u001b[0;34m\u001b[0m\u001b[0;34m\u001b[0m\u001b[0m\n\u001b[0m\u001b[1;32m    416\u001b[0m         \u001b[0;32mexcept\u001b[0m \u001b[0mInterruptedError\u001b[0m\u001b[0;34m:\u001b[0m\u001b[0;34m\u001b[0m\u001b[0;34m\u001b[0m\u001b[0m\n\u001b[1;32m    417\u001b[0m             \u001b[0;32mreturn\u001b[0m \u001b[0mready\u001b[0m\u001b[0;34m\u001b[0m\u001b[0;34m\u001b[0m\u001b[0m\n",
      "\u001b[0;31mKeyboardInterrupt\u001b[0m: "
     ]
    }
   ],
   "source": [
    "for epoch_id in range(3):\n",
    "    for images, ref_images, scores, paths in tqdm(trainloader):\n",
    "        images.requires_grad = True\n",
    "\n",
    "        real_vmafs = []\n",
    "        for image, ref_image, path in zip(perturbed_images, ref_images, paths):\n",
    "            if path in vqmt_vmafs:\n",
    "                real_vmafs.append(vqmt_vmafs[path])\n",
    "            else:\n",
    "                vmaf = get_vmaf_inshape(ref_image, image)\n",
    "                real_vmafs.append(vmaf)\n",
    "                vqmt_vmafs[path] = vmaf\n",
    "        real_vmafs = torch.tensor([real_vmafs]).cuda() / 100\n",
    "\n",
    "        proxy_vmafs = model(images.cuda(), ref_images.cuda()).squeeze()\n",
    "\n",
    "        real_loss = loss_function(real_vmafs, proxy_vmafs)\n",
    "\n",
    "        optimizer.zero_grad()\n",
    "        real_loss.backward()\n",
    "        optimizer.step()\n",
    "\n",
    "        real_losses.append(real_loss.item())\n",
    "        print(real_loss.item())"
   ]
  },
  {
   "cell_type": "code",
   "execution_count": 328,
   "metadata": {},
   "outputs": [],
   "source": [
    "def get_vmaf_inshape(orig_img, comp_img):\n",
    "    org_img_rs = resizer(orig_img)\n",
    "    comp_img_rs = resizer(comp_img)\n",
    "    return calc_vmaf(discretize_img(dcn(org_img_rs)[0]), discretize_img(dcn(comp_img_rs)[0]))"
   ]
  },
  {
   "cell_type": "code",
   "execution_count": null,
   "metadata": {},
   "outputs": [],
   "source": [
    "real_losses = []\n",
    "corrupt_losses = []"
   ]
  },
  {
   "cell_type": "code",
   "execution_count": 351,
   "metadata": {},
   "outputs": [],
   "source": [
    "logdir = './models'"
   ]
  },
  {
   "cell_type": "code",
   "execution_count": 442,
   "metadata": {},
   "outputs": [],
   "source": [
    "optimizer = torch.optim.Adam(model.parameters(), lr=1e-3, weight_decay=1e-3)"
   ]
  },
  {
   "cell_type": "code",
   "execution_count": null,
   "metadata": {
    "scrolled": true
   },
   "outputs": [
    {
     "name": "stderr",
     "output_type": "stream",
     "text": [
      "  1%|▏         | 1/67 [00:55<1:01:35, 55.99s/it]"
     ]
    },
    {
     "name": "stdout",
     "output_type": "stream",
     "text": [
      "0.06365121901035309 0.029147349298000336\n"
     ]
    },
    {
     "name": "stderr",
     "output_type": "stream",
     "text": [
      "  3%|▎         | 2/67 [01:52<1:00:55, 56.23s/it]"
     ]
    },
    {
     "name": "stdout",
     "output_type": "stream",
     "text": [
      "0.12577210366725922 0.018724601715803146\n"
     ]
    },
    {
     "name": "stderr",
     "output_type": "stream",
     "text": [
      "  4%|▍         | 3/67 [02:50<1:00:43, 56.93s/it]"
     ]
    },
    {
     "name": "stdout",
     "output_type": "stream",
     "text": [
      "0.030399933457374573 0.021149784326553345\n"
     ]
    },
    {
     "name": "stderr",
     "output_type": "stream",
     "text": [
      "  6%|▌         | 4/67 [03:47<59:46, 56.92s/it]  "
     ]
    },
    {
     "name": "stdout",
     "output_type": "stream",
     "text": [
      "0.12418132275342941 0.06495167315006256\n"
     ]
    },
    {
     "name": "stderr",
     "output_type": "stream",
     "text": [
      "  7%|▋         | 5/67 [04:43<58:28, 56.60s/it]"
     ]
    },
    {
     "name": "stdout",
     "output_type": "stream",
     "text": [
      "0.0863417387008667 0.032518304884433746\n"
     ]
    },
    {
     "name": "stderr",
     "output_type": "stream",
     "text": [
      "  9%|▉         | 6/67 [05:39<57:22, 56.44s/it]"
     ]
    },
    {
     "name": "stdout",
     "output_type": "stream",
     "text": [
      "0.08015351742506027 0.017348594963550568\n"
     ]
    },
    {
     "name": "stderr",
     "output_type": "stream",
     "text": [
      " 10%|█         | 7/67 [06:34<56:01, 56.02s/it]"
     ]
    },
    {
     "name": "stdout",
     "output_type": "stream",
     "text": [
      "0.16893315315246582 0.05029750615358353\n"
     ]
    },
    {
     "name": "stderr",
     "output_type": "stream",
     "text": [
      " 12%|█▏        | 8/67 [07:27<54:10, 55.09s/it]"
     ]
    },
    {
     "name": "stdout",
     "output_type": "stream",
     "text": [
      "0.08006244897842407 0.036807335913181305\n"
     ]
    },
    {
     "name": "stderr",
     "output_type": "stream",
     "text": [
      " 13%|█▎        | 9/67 [08:22<53:09, 54.99s/it]"
     ]
    },
    {
     "name": "stdout",
     "output_type": "stream",
     "text": [
      "0.10833467543125153 0.020279161632061005\n"
     ]
    },
    {
     "name": "stderr",
     "output_type": "stream",
     "text": [
      " 15%|█▍        | 10/67 [09:16<52:07, 54.88s/it]"
     ]
    },
    {
     "name": "stdout",
     "output_type": "stream",
     "text": [
      "0.10940226912498474 0.01598077267408371\n"
     ]
    },
    {
     "name": "stderr",
     "output_type": "stream",
     "text": [
      " 16%|█▋        | 11/67 [10:12<51:21, 55.03s/it]"
     ]
    },
    {
     "name": "stdout",
     "output_type": "stream",
     "text": [
      "0.06928058713674545 0.01356392353773117\n"
     ]
    },
    {
     "name": "stderr",
     "output_type": "stream",
     "text": [
      " 18%|█▊        | 12/67 [11:08<50:40, 55.28s/it]"
     ]
    },
    {
     "name": "stdout",
     "output_type": "stream",
     "text": [
      "0.11260635405778885 0.017087984830141068\n"
     ]
    },
    {
     "name": "stderr",
     "output_type": "stream",
     "text": [
      " 19%|█▉        | 13/67 [12:03<49:50, 55.37s/it]"
     ]
    },
    {
     "name": "stdout",
     "output_type": "stream",
     "text": [
      "0.10370741784572601 0.013145335018634796\n"
     ]
    },
    {
     "name": "stderr",
     "output_type": "stream",
     "text": [
      " 21%|██        | 14/67 [12:58<48:49, 55.27s/it]"
     ]
    },
    {
     "name": "stdout",
     "output_type": "stream",
     "text": [
      "0.06290484964847565 0.01713753491640091\n"
     ]
    },
    {
     "name": "stderr",
     "output_type": "stream",
     "text": [
      " 22%|██▏       | 15/67 [13:53<47:51, 55.23s/it]"
     ]
    },
    {
     "name": "stdout",
     "output_type": "stream",
     "text": [
      "0.12859240174293518 0.033649858087301254\n"
     ]
    },
    {
     "name": "stderr",
     "output_type": "stream",
     "text": [
      " 24%|██▍       | 16/67 [14:50<47:11, 55.52s/it]"
     ]
    },
    {
     "name": "stdout",
     "output_type": "stream",
     "text": [
      "0.11296731233596802 0.011405609548091888\n"
     ]
    },
    {
     "name": "stderr",
     "output_type": "stream",
     "text": [
      " 25%|██▌       | 17/67 [15:46<46:24, 55.69s/it]"
     ]
    },
    {
     "name": "stdout",
     "output_type": "stream",
     "text": [
      "0.07196515798568726 0.02254204824566841\n"
     ]
    },
    {
     "name": "stderr",
     "output_type": "stream",
     "text": [
      " 27%|██▋       | 18/67 [16:42<45:40, 55.92s/it]"
     ]
    },
    {
     "name": "stdout",
     "output_type": "stream",
     "text": [
      "0.2169457972049713 0.022956032305955887\n"
     ]
    },
    {
     "name": "stderr",
     "output_type": "stream",
     "text": [
      " 28%|██▊       | 19/67 [17:39<44:52, 56.10s/it]"
     ]
    },
    {
     "name": "stdout",
     "output_type": "stream",
     "text": [
      "0.06414160132408142 0.016778510063886642\n"
     ]
    },
    {
     "name": "stderr",
     "output_type": "stream",
     "text": [
      " 30%|██▉       | 20/67 [18:34<43:51, 55.98s/it]"
     ]
    },
    {
     "name": "stdout",
     "output_type": "stream",
     "text": [
      "0.1531853973865509 0.02988739311695099\n"
     ]
    },
    {
     "name": "stderr",
     "output_type": "stream",
     "text": [
      " 31%|███▏      | 21/67 [19:31<42:58, 56.05s/it]"
     ]
    },
    {
     "name": "stdout",
     "output_type": "stream",
     "text": [
      "0.010078724473714828 0.012355245649814606\n"
     ]
    },
    {
     "name": "stderr",
     "output_type": "stream",
     "text": [
      " 33%|███▎      | 22/67 [20:26<41:59, 55.99s/it]"
     ]
    },
    {
     "name": "stdout",
     "output_type": "stream",
     "text": [
      "0.15559279918670654 0.020510587841272354\n"
     ]
    },
    {
     "name": "stderr",
     "output_type": "stream",
     "text": [
      " 34%|███▍      | 23/67 [21:21<40:51, 55.72s/it]"
     ]
    },
    {
     "name": "stdout",
     "output_type": "stream",
     "text": [
      "0.015974797308444977 0.014149006456136703\n"
     ]
    },
    {
     "name": "stderr",
     "output_type": "stream",
     "text": [
      " 36%|███▌      | 24/67 [22:18<40:04, 55.92s/it]"
     ]
    },
    {
     "name": "stdout",
     "output_type": "stream",
     "text": [
      "0.016884874552488327 0.012556873261928558\n"
     ]
    },
    {
     "name": "stderr",
     "output_type": "stream",
     "text": [
      " 37%|███▋      | 25/67 [23:14<39:13, 56.04s/it]"
     ]
    },
    {
     "name": "stdout",
     "output_type": "stream",
     "text": [
      "0.014340963214635849 0.015157435089349747\n"
     ]
    },
    {
     "name": "stderr",
     "output_type": "stream",
     "text": [
      " 39%|███▉      | 26/67 [24:11<38:29, 56.33s/it]"
     ]
    },
    {
     "name": "stdout",
     "output_type": "stream",
     "text": [
      "0.21261698007583618 0.025510158389806747\n"
     ]
    },
    {
     "name": "stderr",
     "output_type": "stream",
     "text": [
      " 40%|████      | 27/67 [25:07<37:24, 56.12s/it]"
     ]
    },
    {
     "name": "stdout",
     "output_type": "stream",
     "text": [
      "0.21583548188209534 0.024500560015439987\n"
     ]
    },
    {
     "name": "stderr",
     "output_type": "stream",
     "text": [
      " 42%|████▏     | 28/67 [26:02<36:23, 55.98s/it]"
     ]
    },
    {
     "name": "stdout",
     "output_type": "stream",
     "text": [
      "0.10778193175792694 0.02249765396118164\n"
     ]
    },
    {
     "name": "stderr",
     "output_type": "stream",
     "text": [
      " 43%|████▎     | 29/67 [26:58<35:25, 55.94s/it]"
     ]
    },
    {
     "name": "stdout",
     "output_type": "stream",
     "text": [
      "0.05641651153564453 0.055146731436252594\n"
     ]
    },
    {
     "name": "stderr",
     "output_type": "stream",
     "text": [
      " 45%|████▍     | 30/67 [27:54<34:29, 55.94s/it]"
     ]
    },
    {
     "name": "stdout",
     "output_type": "stream",
     "text": [
      "0.1282874345779419 0.03573073074221611\n"
     ]
    },
    {
     "name": "stderr",
     "output_type": "stream",
     "text": [
      " 46%|████▋     | 31/67 [28:50<33:32, 55.90s/it]"
     ]
    },
    {
     "name": "stdout",
     "output_type": "stream",
     "text": [
      "0.15599428117275238 0.014641117304563522\n"
     ]
    },
    {
     "name": "stderr",
     "output_type": "stream",
     "text": [
      " 48%|████▊     | 32/67 [29:46<32:41, 56.05s/it]"
     ]
    },
    {
     "name": "stdout",
     "output_type": "stream",
     "text": [
      "0.1398591697216034 0.03895316272974014\n"
     ]
    },
    {
     "name": "stderr",
     "output_type": "stream",
     "text": [
      " 49%|████▉     | 33/67 [30:43<31:52, 56.25s/it]"
     ]
    },
    {
     "name": "stdout",
     "output_type": "stream",
     "text": [
      "0.021914105862379074 0.017874576151371002\n"
     ]
    },
    {
     "name": "stderr",
     "output_type": "stream",
     "text": [
      " 51%|█████     | 34/67 [31:38<30:45, 55.94s/it]"
     ]
    },
    {
     "name": "stdout",
     "output_type": "stream",
     "text": [
      "0.020066220313310623 0.020157627761363983\n"
     ]
    },
    {
     "name": "stderr",
     "output_type": "stream",
     "text": [
      " 52%|█████▏    | 35/67 [32:34<29:46, 55.83s/it]"
     ]
    },
    {
     "name": "stdout",
     "output_type": "stream",
     "text": [
      "0.056149572134017944 0.01179765909910202\n"
     ]
    },
    {
     "name": "stderr",
     "output_type": "stream",
     "text": [
      " 54%|█████▎    | 36/67 [33:30<28:54, 55.94s/it]"
     ]
    },
    {
     "name": "stdout",
     "output_type": "stream",
     "text": [
      "0.05986502021551132 0.013634026050567627\n"
     ]
    },
    {
     "name": "stderr",
     "output_type": "stream",
     "text": [
      " 55%|█████▌    | 37/67 [34:26<27:58, 55.96s/it]"
     ]
    },
    {
     "name": "stdout",
     "output_type": "stream",
     "text": [
      "0.06341519206762314 0.016625065356492996\n"
     ]
    },
    {
     "name": "stderr",
     "output_type": "stream",
     "text": [
      " 57%|█████▋    | 38/67 [35:22<27:00, 55.89s/it]"
     ]
    },
    {
     "name": "stdout",
     "output_type": "stream",
     "text": [
      "0.06412321329116821 0.015844717621803284\n"
     ]
    },
    {
     "name": "stderr",
     "output_type": "stream",
     "text": [
      " 58%|█████▊    | 39/67 [36:19<26:11, 56.13s/it]"
     ]
    },
    {
     "name": "stdout",
     "output_type": "stream",
     "text": [
      "0.14924944937229156 0.017244212329387665\n"
     ]
    },
    {
     "name": "stderr",
     "output_type": "stream",
     "text": [
      " 60%|█████▉    | 40/67 [37:15<25:18, 56.24s/it]"
     ]
    },
    {
     "name": "stdout",
     "output_type": "stream",
     "text": [
      "0.06551681458950043 0.022266924381256104\n"
     ]
    },
    {
     "name": "stderr",
     "output_type": "stream",
     "text": [
      " 61%|██████    | 41/67 [38:10<24:11, 55.83s/it]"
     ]
    },
    {
     "name": "stdout",
     "output_type": "stream",
     "text": [
      "0.01781613752245903 0.01473994180560112\n"
     ]
    },
    {
     "name": "stderr",
     "output_type": "stream",
     "text": [
      " 63%|██████▎   | 42/67 [39:06<23:15, 55.81s/it]"
     ]
    },
    {
     "name": "stdout",
     "output_type": "stream",
     "text": [
      "0.11525510996580124 0.010861515998840332\n"
     ]
    },
    {
     "name": "stderr",
     "output_type": "stream",
     "text": [
      " 64%|██████▍   | 43/67 [40:01<22:17, 55.72s/it]"
     ]
    },
    {
     "name": "stdout",
     "output_type": "stream",
     "text": [
      "0.12082110345363617 0.024017132818698883\n"
     ]
    },
    {
     "name": "stderr",
     "output_type": "stream",
     "text": [
      " 66%|██████▌   | 44/67 [40:58<21:27, 55.96s/it]"
     ]
    },
    {
     "name": "stdout",
     "output_type": "stream",
     "text": [
      "0.07273533940315247 0.029522482305765152\n"
     ]
    },
    {
     "name": "stderr",
     "output_type": "stream",
     "text": [
      " 67%|██████▋   | 45/67 [41:54<20:35, 56.17s/it]"
     ]
    },
    {
     "name": "stdout",
     "output_type": "stream",
     "text": [
      "0.06049579381942749 0.015660006552934647\n"
     ]
    },
    {
     "name": "stderr",
     "output_type": "stream",
     "text": [
      " 69%|██████▊   | 46/67 [42:50<19:36, 56.04s/it]"
     ]
    },
    {
     "name": "stdout",
     "output_type": "stream",
     "text": [
      "0.12105025351047516 0.020710572600364685\n"
     ]
    },
    {
     "name": "stderr",
     "output_type": "stream",
     "text": [
      " 70%|███████   | 47/67 [43:47<18:46, 56.33s/it]"
     ]
    },
    {
     "name": "stdout",
     "output_type": "stream",
     "text": [
      "0.06560701131820679 0.02261343225836754\n"
     ]
    },
    {
     "name": "stderr",
     "output_type": "stream",
     "text": [
      " 72%|███████▏  | 48/67 [44:43<17:48, 56.25s/it]"
     ]
    },
    {
     "name": "stdout",
     "output_type": "stream",
     "text": [
      "0.16454465687274933 0.0149448923766613\n"
     ]
    },
    {
     "name": "stderr",
     "output_type": "stream",
     "text": [
      " 73%|███████▎  | 49/67 [45:39<16:50, 56.12s/it]"
     ]
    },
    {
     "name": "stdout",
     "output_type": "stream",
     "text": [
      "0.032906673848629 0.02763351798057556\n"
     ]
    },
    {
     "name": "stderr",
     "output_type": "stream",
     "text": [
      " 75%|███████▍  | 50/67 [46:35<15:51, 55.98s/it]"
     ]
    },
    {
     "name": "stdout",
     "output_type": "stream",
     "text": [
      "0.11437636613845825 0.016134187579154968\n"
     ]
    },
    {
     "name": "stderr",
     "output_type": "stream",
     "text": [
      " 76%|███████▌  | 51/67 [47:30<14:53, 55.86s/it]"
     ]
    },
    {
     "name": "stdout",
     "output_type": "stream",
     "text": [
      "0.08268898725509644 0.04248548671603203\n"
     ]
    },
    {
     "name": "stderr",
     "output_type": "stream",
     "text": [
      " 78%|███████▊  | 52/67 [48:26<13:59, 55.97s/it]"
     ]
    },
    {
     "name": "stdout",
     "output_type": "stream",
     "text": [
      "0.03587985411286354 0.027766671031713486\n"
     ]
    },
    {
     "name": "stderr",
     "output_type": "stream",
     "text": [
      " 79%|███████▉  | 53/67 [49:23<13:04, 56.02s/it]"
     ]
    },
    {
     "name": "stdout",
     "output_type": "stream",
     "text": [
      "0.06541551649570465 0.01842895895242691\n"
     ]
    },
    {
     "name": "stderr",
     "output_type": "stream",
     "text": [
      " 81%|████████  | 54/67 [50:18<12:07, 55.96s/it]"
     ]
    },
    {
     "name": "stdout",
     "output_type": "stream",
     "text": [
      "0.16707269847393036 0.02433798462152481\n"
     ]
    },
    {
     "name": "stderr",
     "output_type": "stream",
     "text": [
      " 82%|████████▏ | 55/67 [51:15<11:12, 56.03s/it]"
     ]
    },
    {
     "name": "stdout",
     "output_type": "stream",
     "text": [
      "0.020704522728919983 0.016010474413633347\n"
     ]
    },
    {
     "name": "stderr",
     "output_type": "stream",
     "text": [
      " 84%|████████▎ | 56/67 [52:09<10:11, 55.58s/it]"
     ]
    },
    {
     "name": "stdout",
     "output_type": "stream",
     "text": [
      "0.06077851727604866 0.015399273484945297\n"
     ]
    },
    {
     "name": "stderr",
     "output_type": "stream",
     "text": [
      " 85%|████████▌ | 57/67 [53:05<09:15, 55.58s/it]"
     ]
    },
    {
     "name": "stdout",
     "output_type": "stream",
     "text": [
      "0.029671818017959595 0.07279601693153381\n"
     ]
    },
    {
     "name": "stderr",
     "output_type": "stream",
     "text": [
      " 87%|████████▋ | 58/67 [54:00<08:20, 55.57s/it]"
     ]
    },
    {
     "name": "stdout",
     "output_type": "stream",
     "text": [
      "0.07010704278945923 0.016516465693712234\n"
     ]
    },
    {
     "name": "stderr",
     "output_type": "stream",
     "text": [
      " 88%|████████▊ | 59/67 [54:56<07:24, 55.56s/it]"
     ]
    },
    {
     "name": "stdout",
     "output_type": "stream",
     "text": [
      "0.059091221541166306 0.014631621539592743\n"
     ]
    },
    {
     "name": "stderr",
     "output_type": "stream",
     "text": [
      " 90%|████████▉ | 60/67 [55:51<06:27, 55.43s/it]"
     ]
    },
    {
     "name": "stdout",
     "output_type": "stream",
     "text": [
      "0.013272494077682495 0.011810153722763062\n"
     ]
    },
    {
     "name": "stderr",
     "output_type": "stream",
     "text": [
      " 91%|█████████ | 61/67 [56:47<05:33, 55.51s/it]"
     ]
    },
    {
     "name": "stdout",
     "output_type": "stream",
     "text": [
      "0.017711464315652847 0.016775794327259064\n"
     ]
    },
    {
     "name": "stderr",
     "output_type": "stream",
     "text": [
      " 93%|█████████▎| 62/67 [57:43<04:39, 55.86s/it]"
     ]
    },
    {
     "name": "stdout",
     "output_type": "stream",
     "text": [
      "0.25714200735092163 0.016644198447465897\n"
     ]
    },
    {
     "name": "stderr",
     "output_type": "stream",
     "text": [
      " 94%|█████████▍| 63/67 [58:38<03:42, 55.61s/it]"
     ]
    },
    {
     "name": "stdout",
     "output_type": "stream",
     "text": [
      "0.19598400592803955 0.023764539510011673\n"
     ]
    },
    {
     "name": "stderr",
     "output_type": "stream",
     "text": [
      " 96%|█████████▌| 64/67 [59:34<02:47, 55.67s/it]"
     ]
    },
    {
     "name": "stdout",
     "output_type": "stream",
     "text": [
      "0.10956315696239471 0.013826727867126465\n"
     ]
    },
    {
     "name": "stderr",
     "output_type": "stream",
     "text": [
      " 97%|█████████▋| 65/67 [1:00:29<01:50, 55.46s/it]"
     ]
    },
    {
     "name": "stdout",
     "output_type": "stream",
     "text": [
      "0.06160678714513779 0.015820737928152084\n"
     ]
    },
    {
     "name": "stderr",
     "output_type": "stream",
     "text": [
      " 99%|█████████▊| 66/67 [1:01:25<00:55, 55.57s/it]"
     ]
    },
    {
     "name": "stdout",
     "output_type": "stream",
     "text": [
      "0.07732950896024704 0.0243062786757946\n"
     ]
    },
    {
     "name": "stderr",
     "output_type": "stream",
     "text": [
      "100%|██████████| 67/67 [1:01:42<00:00, 55.27s/it]\n"
     ]
    },
    {
     "name": "stdout",
     "output_type": "stream",
     "text": [
      "0.03421490266919136 0.014730989933013916\n"
     ]
    },
    {
     "name": "stderr",
     "output_type": "stream",
     "text": [
      "  1%|▏         | 1/67 [00:55<1:01:32, 55.94s/it]"
     ]
    },
    {
     "name": "stdout",
     "output_type": "stream",
     "text": [
      "0.09427861124277115 0.05534489080309868\n"
     ]
    },
    {
     "name": "stderr",
     "output_type": "stream",
     "text": [
      "  3%|▎         | 2/67 [01:51<1:00:15, 55.62s/it]"
     ]
    },
    {
     "name": "stdout",
     "output_type": "stream",
     "text": [
      "0.18578945100307465 0.051120489835739136\n"
     ]
    },
    {
     "name": "stderr",
     "output_type": "stream",
     "text": [
      "  4%|▍         | 3/67 [02:47<59:50, 56.10s/it]  "
     ]
    },
    {
     "name": "stdout",
     "output_type": "stream",
     "text": [
      "0.03976338729262352 0.030781466513872147\n"
     ]
    },
    {
     "name": "stderr",
     "output_type": "stream",
     "text": [
      "  6%|▌         | 4/67 [03:43<58:47, 56.00s/it]"
     ]
    },
    {
     "name": "stdout",
     "output_type": "stream",
     "text": [
      "0.06741003692150116 0.02595437690615654\n"
     ]
    },
    {
     "name": "stderr",
     "output_type": "stream",
     "text": [
      "  7%|▋         | 5/67 [04:39<57:36, 55.75s/it]"
     ]
    },
    {
     "name": "stdout",
     "output_type": "stream",
     "text": [
      "0.15766078233718872 0.029698960483074188\n"
     ]
    },
    {
     "name": "stderr",
     "output_type": "stream",
     "text": [
      "  9%|▉         | 6/67 [05:34<56:38, 55.71s/it]"
     ]
    },
    {
     "name": "stdout",
     "output_type": "stream",
     "text": [
      "0.07073117792606354 0.019992612302303314\n"
     ]
    },
    {
     "name": "stderr",
     "output_type": "stream",
     "text": [
      " 10%|█         | 7/67 [06:31<56:02, 56.04s/it]"
     ]
    },
    {
     "name": "stdout",
     "output_type": "stream",
     "text": [
      "0.021291710436344147 0.02225322648882866\n"
     ]
    },
    {
     "name": "stderr",
     "output_type": "stream",
     "text": [
      " 12%|█▏        | 8/67 [07:28<55:25, 56.36s/it]"
     ]
    },
    {
     "name": "stdout",
     "output_type": "stream",
     "text": [
      "0.07210605591535568 0.07023840397596359\n"
     ]
    },
    {
     "name": "stderr",
     "output_type": "stream",
     "text": [
      " 13%|█▎        | 9/67 [08:25<54:36, 56.48s/it]"
     ]
    },
    {
     "name": "stdout",
     "output_type": "stream",
     "text": [
      "0.02921535074710846 0.0716804638504982\n"
     ]
    },
    {
     "name": "stderr",
     "output_type": "stream",
     "text": [
      " 15%|█▍        | 10/67 [09:21<53:29, 56.30s/it]"
     ]
    },
    {
     "name": "stdout",
     "output_type": "stream",
     "text": [
      "0.11159229278564453 0.11310923099517822\n"
     ]
    },
    {
     "name": "stderr",
     "output_type": "stream",
     "text": [
      " 16%|█▋        | 11/67 [10:16<52:17, 56.03s/it]"
     ]
    },
    {
     "name": "stdout",
     "output_type": "stream",
     "text": [
      "0.023603998124599457 0.16595321893692017\n"
     ]
    }
   ],
   "source": [
    "model.train()\n",
    "\n",
    "for epoch_id in range(10):\n",
    "    reals = []\n",
    "    corruptss = []\n",
    "    for images, ref_images, scores, paths in tqdm(valloader):\n",
    "        images.requires_grad = True\n",
    "\n",
    "        real_vmafs = []\n",
    "        for image, ref_image, path in zip(images, ref_images, paths):\n",
    "            if path in vqmt_vmafs:\n",
    "                real_vmafs.append(vqmt_vmafs[path])\n",
    "            else:\n",
    "                try:\n",
    "                    vmaf = get_vmaf_inshape(ref_image, image)\n",
    "                    real_vmafs.append(vmaf)\n",
    "                    vqmt_vmafs[path] = vmaf\n",
    "                except:\n",
    "                    real_vmafs.append(0)\n",
    "        real_vmafs = torch.tensor(real_vmafs).cuda() / 100\n",
    "\n",
    "        proxy_vmafs = model(images.cuda(), ref_images.cuda()).squeeze()\n",
    "\n",
    "        optimizer.zero_grad()\n",
    "        proxy_vmafs.mean().backward(retain_graph=True)\n",
    "        img_grad = images.grad.detach().clone()\n",
    "\n",
    "        real_loss = loss_function(real_vmafs, proxy_vmafs)\n",
    "\n",
    "        optimizer.zero_grad()\n",
    "        real_loss.backward()\n",
    "        optimizer.step()\n",
    "\n",
    "        reals.append(real_loss.item())\n",
    "\n",
    "        optimizer.zero_grad()\n",
    "        ref_images = ref_images.detach()\n",
    "\n",
    "        perturbed_images = grad_clip_attack(images.detach(), one_pix_delta, img_grad)\n",
    "\n",
    "        proxy_corrupt_vmafs = model(perturbed_images.cuda(), ref_images.cuda()).squeeze()\n",
    "        \n",
    "        corrupt_vmafs = []\n",
    "        for image, ref_image, path in zip(perturbed_images, ref_images, paths):\n",
    "            try:\n",
    "                corrupt_vmafs.append(get_vmaf_inshape(ref_image, image))\n",
    "            except:\n",
    "                corrupt_vmafs.append(0)\n",
    "        corrupt_vmafs = torch.tensor(corrupt_vmafs).cuda() / 100\n",
    "\n",
    "        corrupt_loss = loss_function(corrupt_vmafs, proxy_corrupt_vmafs)\n",
    "\n",
    "        optimizer.zero_grad()\n",
    "        corrupt_loss.backward()\n",
    "        optimizer.step()\n",
    "\n",
    "        corruptss.append(corrupt_loss.item())\n",
    "        print(real_loss.item(), corrupt_loss.item())\n",
    "        \n",
    "    reals = np.array(reals).mean()\n",
    "    corruptss = np.array(corruptss).mean()\n",
    "    real_losses.append(reals)\n",
    "    corrupt_losses.append(corruptss)\n",
    "    torch.save(model.state_dict(), logdir +\n",
    "               f\"/corrupt_{reals:.4f}_{corruptss:.4f}\")"
   ]
  },
  {
   "cell_type": "code",
   "execution_count": 382,
   "metadata": {},
   "outputs": [
    {
     "name": "stderr",
     "output_type": "stream",
     "text": [
      " 10%|█         | 7/67 [00:04<00:38,  1.55it/s]\n"
     ]
    }
   ],
   "source": [
    "for images, ref_images, scores, paths in tqdm(valloader):\n",
    "    if scores.min() < 60:\n",
    "        mask = scores < 60\n",
    "        break"
   ]
  },
  {
   "cell_type": "code",
   "execution_count": 383,
   "metadata": {},
   "outputs": [],
   "source": [
    "image = images[mask][0]\n",
    "ref_image = ref_images[mask][0]\n",
    "score = scores[mask][0]"
   ]
  },
  {
   "cell_type": "code",
   "execution_count": 384,
   "metadata": {},
   "outputs": [
    {
     "data": {
      "text/plain": [
       "(59.20576858520508,\n",
       " 52.6189079284668,\n",
       " 0.5104854106903076,\n",
       " 33.912193298339844,\n",
       " 0.9243476390838623)"
      ]
     },
     "execution_count": 384,
     "metadata": {},
     "output_type": "execute_result"
    }
   ],
   "source": [
    "score.item(), get_vmaf_inshape(ref_image, image), model(image[None].cuda(), ref_image[None].cuda())[0].item(), psnr(image, ref_image).item(), ssim(image, ref_image).item()"
   ]
  },
  {
   "cell_type": "code",
   "execution_count": 390,
   "metadata": {},
   "outputs": [],
   "source": [
    "metricsss = []"
   ]
  },
  {
   "cell_type": "code",
   "execution_count": 391,
   "metadata": {},
   "outputs": [],
   "source": [
    "for iters in [1,3,5,10]:\n",
    "    metricss = []\n",
    "\n",
    "    for epss in np.logspace(-5,3,11,base=2):\n",
    "        temp_img = image.detach().clone()\n",
    "        for _ in range(iters):\n",
    "            pert_img = do_adversarial_iteration(model, temp_img, ref_image, eps=epss)\n",
    "\n",
    "            real_vmaf = get_vmaf_inshape(ref_image, pert_img)\n",
    "            proxy_vmaf = model(pert_img[None].cuda(), ref_image[None].cuda())[0].item()\n",
    "\n",
    "            psnr_met = psnr(pert_img, ref_image).item()\n",
    "            ssim_met = ssim(pert_img, ref_image).item()\n",
    "\n",
    "            temp_img = pert_img.detach().clone()\n",
    "\n",
    "            metrics = np.array([real_vmaf, proxy_vmaf, psnr_met, ssim_met]).round(3)\n",
    "\n",
    "        metricss.append(metrics)\n",
    "#         print(np.round(epss,2), \"\\t\".join(map(str,metrics)))\n",
    "    metricsss.append(metricss)"
   ]
  },
  {
   "cell_type": "code",
   "execution_count": 401,
   "metadata": {},
   "outputs": [],
   "source": [
    "logs = list(map(str,np.logspace(-5,3,11,base=2).round(2)))"
   ]
  },
  {
   "cell_type": "code",
   "execution_count": 441,
   "metadata": {},
   "outputs": [],
   "source": [
    "metrics_cube = np.array(list(map(np.array, metricsss)))"
   ]
  },
  {
   "cell_type": "code",
   "execution_count": null,
   "metadata": {},
   "outputs": [],
   "source": [
    "52.62"
   ]
  },
  {
   "cell_type": "code",
   "execution_count": 436,
   "metadata": {
    "scrolled": false
   },
   "outputs": [
    {
     "data": {
      "image/png": "[encoded data removed]",
      "text/plain": [
       "<Figure size 720x360 with 1 Axes>"
      ]
     },
     "metadata": {
      "needs_background": "light"
     },
     "output_type": "display_data"
    },
    {
     "data": {
      "image/png": "[encoded data removed]",
      "text/plain": [
       "<Figure size 720x360 with 1 Axes>"
      ]
     },
     "metadata": {
      "needs_background": "light"
     },
     "output_type": "display_data"
    },
    {
     "name": "stdout",
     "output_type": "stream",
     "text": [
      "--------------------------------------------------------------------------------\n"
     ]
    },
    {
     "data": {
      "image/png": "[encoded data removed]",
      "text/plain": [
       "<Figure size 720x360 with 1 Axes>"
      ]
     },
     "metadata": {
      "needs_background": "light"
     },
     "output_type": "display_data"
    },
    {
     "data": {
      "image/png": "[encoded data removed]",
      "text/plain": [
       "<Figure size 720x360 with 1 Axes>"
      ]
     },
     "metadata": {
      "needs_background": "light"
     },
     "output_type": "display_data"
    },
    {
     "name": "stdout",
     "output_type": "stream",
     "text": [
      "--------------------------------------------------------------------------------\n"
     ]
    },
    {
     "data": {
      "image/png": "[encoded data removed]",
      "text/plain": [
       "<Figure size 720x360 with 1 Axes>"
      ]
     },
     "metadata": {
      "needs_background": "light"
     },
     "output_type": "display_data"
    },
    {
     "data": {
      "image/png": "[encoded data removed]",
      "text/plain": [
       "<Figure size 720x360 with 1 Axes>"
      ]
     },
     "metadata": {
      "needs_background": "light"
     },
     "output_type": "display_data"
    },
    {
     "name": "stdout",
     "output_type": "stream",
     "text": [
      "--------------------------------------------------------------------------------\n"
     ]
    },
    {
     "data": {
      "image/png": "[encoded data removed]",
      "text/plain": [
       "<Figure size 720x360 with 1 Axes>"
      ]
     },
     "metadata": {
      "needs_background": "light"
     },
     "output_type": "display_data"
    },
    {
     "data": {
      "image/png": "[encoded data removed]",
      "text/plain": [
       "<Figure size 720x360 with 1 Axes>"
      ]
     },
     "metadata": {
      "needs_background": "light"
     },
     "output_type": "display_data"
    },
    {
     "name": "stdout",
     "output_type": "stream",
     "text": [
      "--------------------------------------------------------------------------------\n"
     ]
    }
   ],
   "source": [
    "for metricss_, iter_ in zip(metricsss, [1,3,5,10]):\n",
    "    arr = np.array(metricss_).T\n",
    "    plt.figure(figsize=(10,5))\n",
    "    plt.grid()\n",
    "    plt.title(f'Number of attacks - {iter_}')\n",
    "    plt.plot(logs, arr[0], 'r*-')\n",
    "    plt.ylabel('vmaf')\n",
    "    plt.xlabel('gradient attack epsilon')\n",
    "    plt.show()\n",
    "    \n",
    "    plt.figure(figsize=(10,5))\n",
    "    plt.grid()\n",
    "    plt.title(f'Num of attacks {iter_}')\n",
    "    plt.plot(logs, arr[1] * 100,'bo-')\n",
    "    plt.ylabel('proxy vmaf')\n",
    "    plt.xlabel('gradient attack epsilon')\n",
    "    plt.show()\n",
    "    \n",
    "    print('-' * 80)"
   ]
  },
  {
   "cell_type": "code",
   "execution_count": 366,
   "metadata": {},
   "outputs": [
    {
     "name": "stdout",
     "output_type": "stream",
     "text": [
      "0 52.768\t0.752\t33.926\t0.925\n",
      "1 52.873\t0.901\t33.923\t0.924\n",
      "2 52.973\t1.043\t33.917\t0.924\n",
      "3 53.014\t1.176\t33.904\t0.923\n",
      "4 53.25\t1.303\t33.888\t0.923\n",
      "5 53.217\t1.428\t33.866\t0.922\n",
      "6 53.499\t1.546\t33.84\t0.921\n",
      "7 53.359\t1.666\t33.812\t0.92\n",
      "8 53.422\t1.783\t33.778\t0.919\n",
      "9 53.231\t1.887\t33.743\t0.918\n",
      "10 53.451\t1.988\t33.702\t0.916\n",
      "11 53.428\t2.088\t33.661\t0.915\n",
      "12 53.244\t2.185\t33.614\t0.913\n",
      "13 53.422\t2.278\t33.566\t0.912\n",
      "14 53.406\t2.372\t33.515\t0.91\n",
      "15 53.257\t2.465\t33.461\t0.909\n",
      "16 53.158\t2.556\t33.406\t0.907\n",
      "17 53.152\t2.65\t33.347\t0.905\n",
      "18 53.007\t2.738\t33.287\t0.903\n",
      "19 53.018\t2.826\t33.223\t0.901\n",
      "20 52.884\t2.911\t33.159\t0.9\n",
      "21 52.895\t2.998\t33.093\t0.898\n",
      "22 52.794\t3.079\t33.025\t0.896\n",
      "23 52.734\t3.163\t32.955\t0.893\n",
      "24 52.659\t3.247\t32.884\t0.891\n",
      "25 52.591\t3.329\t32.811\t0.889\n",
      "26 52.565\t3.41\t32.736\t0.887\n",
      "27 52.372\t3.493\t32.66\t0.885\n",
      "28 52.383\t3.574\t32.584\t0.883\n",
      "29 52.405\t3.657\t32.505\t0.88\n"
     ]
    },
    {
     "name": "stderr",
     "output_type": "stream",
     "text": [
      "ERROR:root:Internal Python error in the inspect module.\n",
      "Below is the traceback from this internal error.\n",
      "\n"
     ]
    },
    {
     "name": "stdout",
     "output_type": "stream",
     "text": [
      "Traceback (most recent call last):\n",
      "  File \"/usr/lib/python3/dist-packages/IPython/core/interactiveshell.py\", line 3331, in run_code\n",
      "    exec(code_obj, self.user_global_ns, self.user_ns)\n",
      "  File \"<ipython-input-366-39a1c627773b>\", line 7, in <module>\n",
      "    real_vmaf = get_vmaf_inshape(ref_image, pert_img)\n",
      "  File \"<ipython-input-328-2ea6060b769f>\", line 4, in get_vmaf_inshape\n",
      "    return calc_vmaf(discretize_img(dcn(org_img_rs)[0]), discretize_img(dcn(comp_img_rs)[0]))\n",
      "  File \"<ipython-input-313-a79693670c86>\", line 26, in calc_vmaf\n",
      "    subproc.wait()\n",
      "  File \"/usr/lib/python3.8/subprocess.py\", line 1079, in wait\n",
      "    return self._wait(timeout=timeout)\n",
      "  File \"/usr/lib/python3.8/subprocess.py\", line 1804, in _wait\n",
      "    (pid, sts) = self._try_wait(0)\n",
      "  File \"/usr/lib/python3.8/subprocess.py\", line 1762, in _try_wait\n",
      "    (pid, sts) = os.waitpid(self.pid, wait_flags)\n",
      "KeyboardInterrupt\n",
      "\n",
      "During handling of the above exception, another exception occurred:\n",
      "\n",
      "Traceback (most recent call last):\n",
      "  File \"/usr/lib/python3/dist-packages/IPython/core/interactiveshell.py\", line 2044, in showtraceback\n",
      "    stb = value._render_traceback_()\n",
      "AttributeError: 'KeyboardInterrupt' object has no attribute '_render_traceback_'\n",
      "\n",
      "During handling of the above exception, another exception occurred:\n",
      "\n",
      "Traceback (most recent call last):\n",
      "  File \"/usr/lib/python3/dist-packages/IPython/core/ultratb.py\", line 1148, in get_records\n",
      "    return _fixed_getinnerframes(etb, number_of_lines_of_context, tb_offset)\n",
      "  File \"/usr/lib/python3/dist-packages/IPython/core/ultratb.py\", line 316, in wrapped\n",
      "    return f(*args, **kwargs)\n",
      "  File \"/usr/lib/python3/dist-packages/IPython/core/ultratb.py\", line 350, in _fixed_getinnerframes\n",
      "    records = fix_frame_records_filenames(inspect.getinnerframes(etb, context))\n",
      "  File \"/usr/lib/python3.8/inspect.py\", line 1503, in getinnerframes\n",
      "    frameinfo = (tb.tb_frame,) + getframeinfo(tb, context)\n",
      "  File \"/usr/lib/python3.8/inspect.py\", line 1461, in getframeinfo\n",
      "    filename = getsourcefile(frame) or getfile(frame)\n",
      "  File \"/usr/lib/python3.8/inspect.py\", line 708, in getsourcefile\n",
      "    if getattr(getmodule(object, filename), '__loader__', None) is not None:\n",
      "  File \"/usr/lib/python3.8/inspect.py\", line 745, in getmodule\n",
      "    if ismodule(module) and hasattr(module, '__file__'):\n",
      "KeyboardInterrupt\n"
     ]
    },
    {
     "ename": "KeyboardInterrupt",
     "evalue": "",
     "output_type": "error",
     "traceback": [
      "\u001b[0;31m---------------------------------------------------------------------------\u001b[0m"
     ]
    }
   ],
   "source": [
    "temp_img = image.detach().clone()\n",
    "\n",
    "model.eval()\n",
    "for i in range(1000):\n",
    "    pert_img = do_adversarial_iteration(model, temp_img, ref_image, eps=one_pix_delta)\n",
    "    \n",
    "    real_vmaf = get_vmaf_inshape(ref_image, pert_img)\n",
    "    proxy_vmaf = model(pert_img[None].cuda(), ref_image[None].cuda())[0].item()\n",
    "    \n",
    "    psnr_met = psnr(pert_img, ref_image).item()\n",
    "    ssim_met = ssim(pert_img, ref_image).item()\n",
    "    \n",
    "    temp_img = pert_img.detach().clone()\n",
    "    \n",
    "    metrics = np.array([real_vmaf, proxy_vmaf, psnr_met, ssim_met]).round(3)\n",
    "\n",
    "    print(i, \"\\t\".join(map(str,metrics)))\n",
    "#     np_pertur_img = dcn(perturbed_image)[0][0]\n",
    "#     plt.imshow(np_pertur_img, cmap='gray')\n",
    "#     plt.show()"
   ]
  },
  {
   "cell_type": "code",
   "execution_count": 760,
   "metadata": {},
   "outputs": [],
   "source": [
    "# imgs = {}\n",
    "# for eps in np.logspace(0,-20,21, base=2):\n",
    "#     with torch.no_grad():\n",
    "#         perturbed_image = fgsm_attack(image, eps, img_grad)\n",
    "\n",
    "#         real_vmaf = get_vmaf_inshape(ref_image[0], perturbed_image[0])\n",
    "\n",
    "#         print(eps, model(perturbed_image.cuda(), ref_image.cuda())[0].item(), real_vmaf)\n",
    "#         np_pertur_img = dcn(perturbed_image)[0][0]\n",
    "#         plt.imshow(np_pertur_img, cmap='gray')\n",
    "#         plt.show()\n",
    "#         imgs[eps] = np_pertur_img\n",
    "#         plt.imshow(np_pertur_img, cmap='gray')\n",
    "#         plt.show()"
   ]
  },
  {
   "cell_type": "code",
   "execution_count": 358,
   "metadata": {},
   "outputs": [],
   "source": [
    "grad_img = conv_block(image)"
   ]
  },
  {
   "cell_type": "code",
   "execution_count": null,
   "metadata": {},
   "outputs": [],
   "source": [
    "for i in range(10):\n",
    "    model."
   ]
  },
  {
   "cell_type": "code",
   "execution_count": null,
   "metadata": {},
   "outputs": [],
   "source": [
    "optimizer = torch.optim.Adam(model.parameters(), lr=lr)"
   ]
  },
  {
   "cell_type": "code",
   "execution_count": null,
   "metadata": {},
   "outputs": [],
   "source": [
    "data.requires_grad = True"
   ]
  },
  {
   "cell_type": "code",
   "execution_count": null,
   "metadata": {},
   "outputs": [],
   "source": [
    "for lr in np.logspace(-3,-6,4):\n",
    "    for epoch in range(EPOCHS):\n",
    "        plot.start_time()\n",
    "        cum_loss = 0\n",
    "        for images, ref_images, scores in tqdm(trainloader):\n",
    "            images = images.to(device)\n",
    "            ref_images = ref_images.to(device)\n",
    "            scores = scores / 100 # re-normalise\n",
    "            scores = scores.to(device)\n",
    "            out = conv_block(images)\n",
    "            optimizer.zero_grad()\n",
    "            loss = loss_function(out.float().squeeze(), scores.float())\n",
    "            cum_loss += loss.item()\n",
    "            loss.backward()\n",
    "            optimizer.step()\n",
    "        tr_loss = cum_loss / len(trainloader)\n",
    "        val_loss = calc_loss(model, testloader, loss_function) / len(testloader)\n",
    "        \n",
    "        torch.save(model.state_dict(), logdir +\n",
    "                   f\"/proxy_{tr_loss:.4f}_{val_loss:.4f}\")\n",
    "\n",
    "        plot.append_train_loss(tr_loss)\n",
    "        plot.append_test_loss(val_loss)\n",
    "        plot.print_last()\n",
    "        plot.print_time()"
   ]
  },
  {
   "cell_type": "code",
   "execution_count": 317,
   "metadata": {},
   "outputs": [],
   "source": [
    "# fp.write(data_or.tobytes())"
   ]
  },
  {
   "cell_type": "code",
   "execution_count": 320,
   "metadata": {},
   "outputs": [],
   "source": [
    "# subproc = Popen(\n",
    "#     f\"vqmt -stdin-orig raw IYUV {q} -stdin raw IYUV {q} -metr vmaf -set 'model_preset=vmaf_v063' -json\",\n",
    "#     stdout=PIPE, stderr=PIPE, stdin=fp, shell=True\n",
    "# )\n",
    "# subproc.wait()\n",
    "# std_out, std_err = subproc.communicate()\n",
    "# print(std_out.decode(\"utf-8\"))\n",
    "# print(std_err.decode(\"utf-8\"))\n",
    "# proc_out = std_out.decode(\"utf-8\")\n",
    "# float(proc_out.split('\\n')[0])"
   ]
  },
  {
   "cell_type": "code",
   "execution_count": 758,
   "metadata": {
    "scrolled": false
   },
   "outputs": [],
   "source": [
    "# for idx in bad_diff_ids:\n",
    "#     enc_name = train_dataset.item_names[idx]\n",
    "#     enc_path = train_dataset.enc_name2path[enc_name]\n",
    "#     org_path = train_dataset.enc_to_org_paths[enc_path]\n",
    "#     score = train_dataset.jsons[enc_name]\n",
    "\n",
    "#     np_a=np.array(Image.open(enc_path))\n",
    "\n",
    "#     np_b=np.array(Image.open(org_path))\n",
    "\n",
    "#     plt.figure(figsize=(5,5))\n",
    "#     plt.imshow(np.vstack([np_b, np_a]),cmap='gray')\n",
    "#     plt.title(np.round(score))\n",
    "#     plt.show()\n",
    "\n",
    "# info = []\n",
    "\n",
    "# for i in range(1000):\n",
    "#     enc_name = train_dataset.item_names[i]\n",
    "#     enc_path = train_dataset.enc_name2path[enc_name]\n",
    "#     org_path = train_dataset.enc_to_org_paths[enc_path]\n",
    "#     score = train_dataset.jsons[enc_name]\n",
    "\n",
    "#     qua = \"1080x1920\"\n",
    "\n",
    "#     subproc = Popen(\n",
    "#         f\"vqmt -orig {org_path} IYUV {qua} -in {enc_path} IYUV {qua} -metr vmaf -set 'model_preset=vmaf_v063' -json -threads 3 | jq '.accumulated.mean.A'\",\n",
    "#         stdout=PIPE, stderr=PIPE, shell=True\n",
    "#     )\n",
    "#     subproc.wait()\n",
    "#     std_out, std_err = subproc.communicate()\n",
    "#     proc_out = std_out.decode(\"utf-8\")\n",
    "#     util_score = float(proc_out.split('\\n')[0])\n",
    "    \n",
    "#     if np.abs(util_score-score) > 50:\n",
    "#         print(enc_path)\n",
    "\n",
    "# for im_train, ref_train, scores_train in trainloader:\n",
    "#     for img, org_img, score in zip(im_train, ref_train, scores_train):\n",
    "#         print(get_vmaf_inshape(org_img, img), score.item())"
   ]
  },
  {
   "cell_type": "code",
   "execution_count": 759,
   "metadata": {},
   "outputs": [],
   "source": [
    "def calc_autoenc_loss(model, loader, loss_function):\n",
    "    ep_loss = 0\n",
    "    for images, ref_images, scores in loader:\n",
    "        images = images.to(device)\n",
    "        \n",
    "        out = model(images)\n",
    "\n",
    "        gt_image = images.detach()\n",
    "\n",
    "        optimizer.zero_grad()\n",
    "        loss = loss_function(out.float().view(-1), gt_image.view(-1))\n",
    "        ep_loss += loss.item()\n",
    "    return ep_loss\n",
    "\n",
    "def train_autoencoder(model, loss_function, optimizer, epochs, device, plot):\n",
    "    for epoch in range(epochs):\n",
    "        plot.start_time()\n",
    "\n",
    "        plot.append_train_loss(calc_autoenc_loss(model, trainloader, loss_function)/len(trainset))\n",
    "        plot.append_test_loss(calc_autoenc_loss(model, testloader, loss_function)/len(testset))\n",
    "\n",
    "        for images, ref_images, scores in trainloader:\n",
    "            images = images.to(device).float()\n",
    "            gt_image = images.detach()\n",
    "            \n",
    "            out = model(images)\n",
    "            \n",
    "            loss = loss_function(out, gt_image)\n",
    "            \n",
    "            optimizer.zero_grad()\n",
    "            loss.backward()\n",
    "            optimizer.step()\n",
    "        \n",
    "        plot.print_last()\n",
    "        plot.print_time()"
   ]
  },
  {
   "cell_type": "code",
   "execution_count": 224,
   "metadata": {},
   "outputs": [],
   "source": [
    "loss_function = nn.MSELoss().to(device)\n",
    "plot = Plotter()"
   ]
  },
  {
   "cell_type": "code",
   "execution_count": null,
   "metadata": {},
   "outputs": [],
   "source": [
    "optimizer = torch.optim.Adam(autoencoder.parameters(), lr=1e-7, weight_decay=1e-3)\n",
    "train_autoencoder(autoencoder, loss_function, optimizer, 1, device, plot)\n",
    "for lr in np.logspace(-2,-6,4):\n",
    "    optimizer = torch.optim.Adam(autoencoder.parameters(), lr=lr, weight_decay=1e-3)\n",
    "    train_autoencoder(autoencoder, loss_function, optimizer, 5, device, plot)"
   ]
  },
  {
   "cell_type": "code",
   "execution_count": null,
   "metadata": {},
   "outputs": [],
   "source": [
    "plot.show()"
   ]
  },
  {
   "cell_type": "code",
   "execution_count": null,
   "metadata": {},
   "outputs": [],
   "source": []
  }
 ],
 "metadata": {
  "accelerator": "GPU",
  "colab": {
   "collapsed_sections": [
    "_xYfQiB6uiCL"
   ],
   "machine_shape": "hm",
   "name": "VMAF_Proxy_v3.ipynb",
   "provenance": []
  },
  "kernelspec": {
   "display_name": "Python 3",
   "language": "python",
   "name": "python3"
  }
 },
 "nbformat": 4,
 "nbformat_minor": 1
}
